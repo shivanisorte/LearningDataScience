{
 "cells": [
  {
   "cell_type": "code",
   "execution_count": 2,
   "metadata": {},
   "outputs": [],
   "source": [
    "#going to learn- numpy,pandas,matlplotlib,seaborn"
   ]
  },
  {
   "cell_type": "markdown",
   "metadata": {},
   "source": [
    "# Numpy"
   ]
  },
  {
   "cell_type": "raw",
   "metadata": {},
   "source": [
    "Numpy-Numerical python\n",
    "1. fast\n",
    "2. backbone of ML\n",
    "3. support to core python-mutliD-matrices\n",
    "\n",
    "Numpy\n",
    "-ndarray->n dimensional array\n",
    "-ufunction->universal functions"
   ]
  },
  {
   "cell_type": "code",
   "execution_count": 3,
   "metadata": {},
   "outputs": [],
   "source": [
    "import numpy"
   ]
  },
  {
   "cell_type": "code",
   "execution_count": 5,
   "metadata": {},
   "outputs": [
    {
     "name": "stdout",
     "output_type": "stream",
     "text": [
      "1.18.1\n"
     ]
    }
   ],
   "source": [
    "print(numpy.__version__)"
   ]
  },
  {
   "cell_type": "code",
   "execution_count": 6,
   "metadata": {},
   "outputs": [],
   "source": [
    "#shortcut for numpy because numpy.sum(), numpy.mean(), yadayada\n",
    "import numpy as np"
   ]
  },
  {
   "cell_type": "code",
   "execution_count": 7,
   "metadata": {},
   "outputs": [
    {
     "name": "stdout",
     "output_type": "stream",
     "text": [
      "1.18.1\n"
     ]
    }
   ],
   "source": [
    "print(np.__version__)"
   ]
  },
  {
   "cell_type": "code",
   "execution_count": 8,
   "metadata": {},
   "outputs": [],
   "source": [
    "#creating a numpy array\n",
    "arr=np.array([1,9,4,2,5])"
   ]
  },
  {
   "cell_type": "code",
   "execution_count": 9,
   "metadata": {},
   "outputs": [
    {
     "data": {
      "text/plain": [
       "array([1, 9, 4, 2, 5])"
      ]
     },
     "execution_count": 9,
     "metadata": {},
     "output_type": "execute_result"
    }
   ],
   "source": [
    "arr"
   ]
  },
  {
   "cell_type": "code",
   "execution_count": 10,
   "metadata": {},
   "outputs": [
    {
     "name": "stdout",
     "output_type": "stream",
     "text": [
      "<class 'numpy.ndarray'>\n"
     ]
    }
   ],
   "source": [
    "print(type(arr))"
   ]
  },
  {
   "cell_type": "code",
   "execution_count": 11,
   "metadata": {},
   "outputs": [
    {
     "data": {
      "text/plain": [
       "dtype('int32')"
      ]
     },
     "execution_count": 11,
     "metadata": {},
     "output_type": "execute_result"
    }
   ],
   "source": [
    "arr.dtype"
   ]
  },
  {
   "cell_type": "code",
   "execution_count": 13,
   "metadata": {},
   "outputs": [
    {
     "data": {
      "text/plain": [
       "21"
      ]
     },
     "execution_count": 13,
     "metadata": {},
     "output_type": "execute_result"
    }
   ],
   "source": [
    "np.sum(arr)"
   ]
  },
  {
   "cell_type": "code",
   "execution_count": 17,
   "metadata": {},
   "outputs": [
    {
     "name": "stdout",
     "output_type": "stream",
     "text": [
      "[1. 9. 4. 2. 5.]\n",
      "float64\n",
      "21.0\n"
     ]
    }
   ],
   "source": [
    "arr=np.array([1,9,4,2.0,5])\n",
    "print(arr)\n",
    "print(arr.dtype)\n",
    "print(np.sum(arr))"
   ]
  },
  {
   "cell_type": "code",
   "execution_count": 26,
   "metadata": {},
   "outputs": [
    {
     "name": "stdout",
     "output_type": "stream",
     "text": [
      "[1 2 3 4 5 6 7 8 9]\n",
      "(9,)\n"
     ]
    }
   ],
   "source": [
    "arr=np.array([1,2,3,4,5,6,7,8,9])\n",
    "print(arr)\n",
    "print(arr.shape)"
   ]
  },
  {
   "cell_type": "code",
   "execution_count": 22,
   "metadata": {},
   "outputs": [
    {
     "name": "stdout",
     "output_type": "stream",
     "text": [
      "[[1 2 3]\n",
      " [4 5 6]\n",
      " [7 8 9]]\n"
     ]
    }
   ],
   "source": [
    "arr=np.array([[1,2,3],[4,5,6],[7,8,9]])\n",
    "print(arr)"
   ]
  },
  {
   "cell_type": "code",
   "execution_count": 25,
   "metadata": {},
   "outputs": [
    {
     "data": {
      "text/plain": [
       "(3, 3)"
      ]
     },
     "execution_count": 25,
     "metadata": {},
     "output_type": "execute_result"
    }
   ],
   "source": [
    "arr.shape  #dtype and shape are attributes not functions"
   ]
  },
  {
   "cell_type": "code",
   "execution_count": 28,
   "metadata": {},
   "outputs": [
    {
     "name": "stdout",
     "output_type": "stream",
     "text": [
      "[list([1, 2, 3]) list([4, 5, 6]) list([7, 8])]\n",
      "(3,)\n"
     ]
    }
   ],
   "source": [
    "arr=np.array([[1,2,3],[4,5,6],[7,8]])\n",
    "print(arr)\n",
    "print(arr.shape)"
   ]
  },
  {
   "cell_type": "code",
   "execution_count": 31,
   "metadata": {},
   "outputs": [
    {
     "name": "stdout",
     "output_type": "stream",
     "text": [
      "[[0. 0. 0. 0.]\n",
      " [0. 0. 0. 0.]]\n"
     ]
    }
   ],
   "source": [
    "arr=np.zeros((2,4))\n",
    "print(arr)"
   ]
  },
  {
   "cell_type": "code",
   "execution_count": 32,
   "metadata": {},
   "outputs": [
    {
     "name": "stdout",
     "output_type": "stream",
     "text": [
      "[[1. 1. 1. 1.]\n",
      " [1. 1. 1. 1.]]\n"
     ]
    }
   ],
   "source": [
    "arr=np.ones((2,4))\n",
    "print(arr)"
   ]
  },
  {
   "cell_type": "code",
   "execution_count": 33,
   "metadata": {},
   "outputs": [
    {
     "data": {
      "text/plain": [
       "array([[1., 0., 0.],\n",
       "       [0., 1., 0.],\n",
       "       [0., 0., 1.]])"
      ]
     },
     "execution_count": 33,
     "metadata": {},
     "output_type": "execute_result"
    }
   ],
   "source": [
    "np.identity(3)"
   ]
  },
  {
   "cell_type": "code",
   "execution_count": 36,
   "metadata": {},
   "outputs": [
    {
     "name": "stdout",
     "output_type": "stream",
     "text": [
      "[[0.7530553  0.57295885 0.05336956 0.59424777]\n",
      " [0.31274901 0.90703609 0.54403546 0.84940708]\n",
      " [0.36141385 0.32755365 0.16590514 0.81864045]]\n"
     ]
    }
   ],
   "source": [
    "arr=numpy.random.rand(3,4) #numbers always centered around 0\n",
    "print(arr)"
   ]
  },
  {
   "cell_type": "code",
   "execution_count": 37,
   "metadata": {},
   "outputs": [
    {
     "name": "stdout",
     "output_type": "stream",
     "text": [
      "[[0.19912726 0.6994321  0.51086601 0.12321809 0.66285642 0.9371721\n",
      "  0.26545443 0.97355427 0.40664089 0.42129886]\n",
      " [0.2824657  0.53617373 0.76403891 0.00566852 0.96823578 0.11779445\n",
      "  0.46180938 0.97621385 0.35337295 0.53970369]\n",
      " [0.34107845 0.48459328 0.80102759 0.67743029 0.50829978 0.09750369\n",
      "  0.1516517  0.98706366 0.86560165 0.38394521]\n",
      " [0.76487872 0.02592833 0.39114471 0.65616183 0.10903412 0.01952286\n",
      "  0.2633098  0.52187359 0.39361636 0.75628359]\n",
      " [0.81232682 0.87320608 0.22114572 0.81279387 0.26989455 0.85363592\n",
      "  0.91777959 0.0765149  0.21679305 0.15008794]\n",
      " [0.81945139 0.27767968 0.36240012 0.9123454  0.42215163 0.97188997\n",
      "  0.9619057  0.02421523 0.39385494 0.45094325]\n",
      " [0.61718246 0.70755282 0.39850295 0.31240879 0.03586403 0.18330453\n",
      "  0.63608547 0.19447501 0.20918389 0.82395441]\n",
      " [0.48449721 0.266887   0.69604181 0.72887665 0.78242698 0.3443171\n",
      "  0.22098966 0.49826203 0.6634888  0.86893544]\n",
      " [0.23793462 0.79232611 0.17111696 0.19770776 0.70990219 0.94062638\n",
      "  0.65494372 0.71642403 0.09387152 0.82321768]\n",
      " [0.5146137  0.11638268 0.7020674  0.61553562 0.28736249 0.13305404\n",
      "  0.5437579  0.07028059 0.01631515 0.47582234]]\n"
     ]
    }
   ],
   "source": [
    "arr=numpy.random.rand(10,10) #numbers always centered around 0\n",
    "print(arr)"
   ]
  },
  {
   "cell_type": "code",
   "execution_count": 38,
   "metadata": {},
   "outputs": [
    {
     "name": "stdout",
     "output_type": "stream",
     "text": [
      "[[1 2 3]\n",
      " [4 5 6]\n",
      " [7 8 9]]\n"
     ]
    }
   ],
   "source": [
    "#Indexing in numpy\n",
    "\n",
    "arr=np.array([[1,2,3],[4,5,6],[7,8,9]])\n",
    "print(arr)"
   ]
  },
  {
   "cell_type": "code",
   "execution_count": 39,
   "metadata": {},
   "outputs": [
    {
     "data": {
      "text/plain": [
       "(3, 3)"
      ]
     },
     "execution_count": 39,
     "metadata": {},
     "output_type": "execute_result"
    }
   ],
   "source": [
    "arr.shape"
   ]
  },
  {
   "cell_type": "code",
   "execution_count": 41,
   "metadata": {},
   "outputs": [
    {
     "data": {
      "text/plain": [
       "array([1, 2, 3])"
      ]
     },
     "execution_count": 41,
     "metadata": {},
     "output_type": "execute_result"
    }
   ],
   "source": [
    "arr[0]"
   ]
  },
  {
   "cell_type": "code",
   "execution_count": 42,
   "metadata": {},
   "outputs": [
    {
     "data": {
      "text/plain": [
       "2"
      ]
     },
     "execution_count": 42,
     "metadata": {},
     "output_type": "execute_result"
    }
   ],
   "source": [
    "arr[0][1]"
   ]
  },
  {
   "cell_type": "code",
   "execution_count": 43,
   "metadata": {},
   "outputs": [
    {
     "name": "stdout",
     "output_type": "stream",
     "text": [
      "range(0, 12)\n",
      "[ 0  1  2  3  4  5  6  7  8  9 10 11]\n"
     ]
    }
   ],
   "source": [
    "print(range(12))\n",
    "print(np.arange(12))"
   ]
  },
  {
   "cell_type": "code",
   "execution_count": 44,
   "metadata": {},
   "outputs": [
    {
     "data": {
      "text/plain": [
       "array([[ 0,  1,  2,  3],\n",
       "       [ 4,  5,  6,  7],\n",
       "       [ 8,  9, 10, 11]])"
      ]
     },
     "execution_count": 44,
     "metadata": {},
     "output_type": "execute_result"
    }
   ],
   "source": [
    "np.arange(12).reshape(3,4)"
   ]
  },
  {
   "cell_type": "code",
   "execution_count": 45,
   "metadata": {},
   "outputs": [
    {
     "data": {
      "text/plain": [
       "array([ 0,  1,  2,  3,  4,  5,  6,  7,  8,  9, 10, 11])"
      ]
     },
     "execution_count": 45,
     "metadata": {},
     "output_type": "execute_result"
    }
   ],
   "source": [
    "np.arange(12).reshape(12)"
   ]
  },
  {
   "cell_type": "code",
   "execution_count": 47,
   "metadata": {},
   "outputs": [
    {
     "data": {
      "text/plain": [
       "array([[ 0,  1,  2,  3,  4,  5],\n",
       "       [ 6,  7,  8,  9, 10, 11]])"
      ]
     },
     "execution_count": 47,
     "metadata": {},
     "output_type": "execute_result"
    }
   ],
   "source": [
    "np.arange(12).reshape(2,6)"
   ]
  },
  {
   "cell_type": "code",
   "execution_count": 50,
   "metadata": {},
   "outputs": [
    {
     "name": "stdout",
     "output_type": "stream",
     "text": [
      "[[[ 0  1  2]\n",
      "  [ 3  4  5]]\n",
      "\n",
      " [[ 6  7  8]\n",
      "  [ 9 10 11]]]\n"
     ]
    }
   ],
   "source": [
    "arr=np.arange(12).reshape(2,2,3)\n",
    "print(arr)"
   ]
  },
  {
   "cell_type": "code",
   "execution_count": 51,
   "metadata": {},
   "outputs": [
    {
     "data": {
      "text/plain": [
       "array([[0, 1, 2],\n",
       "       [3, 4, 5]])"
      ]
     },
     "execution_count": 51,
     "metadata": {},
     "output_type": "execute_result"
    }
   ],
   "source": [
    "arr[0]"
   ]
  },
  {
   "cell_type": "code",
   "execution_count": 52,
   "metadata": {},
   "outputs": [
    {
     "data": {
      "text/plain": [
       "array([3, 4, 5])"
      ]
     },
     "execution_count": 52,
     "metadata": {},
     "output_type": "execute_result"
    }
   ],
   "source": [
    "arr[0][1]"
   ]
  },
  {
   "cell_type": "code",
   "execution_count": 53,
   "metadata": {},
   "outputs": [
    {
     "data": {
      "text/plain": [
       "4"
      ]
     },
     "execution_count": 53,
     "metadata": {},
     "output_type": "execute_result"
    }
   ],
   "source": [
    "arr[0][1][1]"
   ]
  },
  {
   "cell_type": "code",
   "execution_count": 54,
   "metadata": {},
   "outputs": [
    {
     "data": {
      "text/plain": [
       "7"
      ]
     },
     "execution_count": 54,
     "metadata": {},
     "output_type": "execute_result"
    }
   ],
   "source": [
    "#print 7\n",
    "arr[1][0][1]"
   ]
  },
  {
   "cell_type": "code",
   "execution_count": 55,
   "metadata": {},
   "outputs": [
    {
     "data": {
      "text/plain": [
       "array([[[0, 1, 2],\n",
       "        [3, 4, 5]]])"
      ]
     },
     "execution_count": 55,
     "metadata": {},
     "output_type": "execute_result"
    }
   ],
   "source": [
    "#Slicing\n",
    "arr[0:1]"
   ]
  },
  {
   "cell_type": "code",
   "execution_count": 56,
   "metadata": {},
   "outputs": [
    {
     "data": {
      "text/plain": [
       "array([[[ 0,  1,  2],\n",
       "        [ 3,  4,  5]],\n",
       "\n",
       "       [[ 6,  7,  8],\n",
       "        [ 9, 10, 11]]])"
      ]
     },
     "execution_count": 56,
     "metadata": {},
     "output_type": "execute_result"
    }
   ],
   "source": [
    "arr[0:2]"
   ]
  },
  {
   "cell_type": "code",
   "execution_count": 58,
   "metadata": {},
   "outputs": [
    {
     "data": {
      "text/plain": [
       "array([ 0,  1,  2,  3,  4,  5,  6,  7,  8,  9, 10, 11])"
      ]
     },
     "execution_count": 58,
     "metadata": {},
     "output_type": "execute_result"
    }
   ],
   "source": [
    "np.arange(12)"
   ]
  },
  {
   "cell_type": "code",
   "execution_count": 59,
   "metadata": {},
   "outputs": [
    {
     "data": {
      "text/plain": [
       "array([1, 2, 3, 4, 5])"
      ]
     },
     "execution_count": 59,
     "metadata": {},
     "output_type": "execute_result"
    }
   ],
   "source": [
    "np.arange(12)[1:6]"
   ]
  },
  {
   "cell_type": "code",
   "execution_count": 60,
   "metadata": {},
   "outputs": [
    {
     "data": {
      "text/plain": [
       "2"
      ]
     },
     "execution_count": 60,
     "metadata": {},
     "output_type": "execute_result"
    }
   ],
   "source": [
    "np.arange(12)[1:6][1]"
   ]
  },
  {
   "cell_type": "code",
   "execution_count": 61,
   "metadata": {},
   "outputs": [
    {
     "data": {
      "text/plain": [
       "numpy.int32"
      ]
     },
     "execution_count": 61,
     "metadata": {},
     "output_type": "execute_result"
    }
   ],
   "source": [
    "type(np.arange(12)[1:6][1])"
   ]
  },
  {
   "cell_type": "code",
   "execution_count": 64,
   "metadata": {},
   "outputs": [
    {
     "data": {
      "text/plain": [
       "array([[ 0,  1,  2,  3,  4],\n",
       "       [ 5,  6,  7,  8,  9],\n",
       "       [10, 11, 12, 13, 14]])"
      ]
     },
     "execution_count": 64,
     "metadata": {},
     "output_type": "execute_result"
    }
   ],
   "source": [
    "#Ufunctions- allow broadcasting\n",
    "arr=np.arange(15).reshape(3,5)\n",
    "arr"
   ]
  },
  {
   "cell_type": "code",
   "execution_count": 65,
   "metadata": {},
   "outputs": [
    {
     "data": {
      "text/plain": [
       "array([[ 5,  6,  7,  8,  9],\n",
       "       [10, 11, 12, 13, 14],\n",
       "       [15, 16, 17, 18, 19]])"
      ]
     },
     "execution_count": 65,
     "metadata": {},
     "output_type": "execute_result"
    }
   ],
   "source": [
    "arr+5"
   ]
  },
  {
   "cell_type": "code",
   "execution_count": 66,
   "metadata": {},
   "outputs": [
    {
     "data": {
      "text/plain": [
       "array([[ 0,  2,  4,  6,  8],\n",
       "       [10, 12, 14, 16, 18],\n",
       "       [20, 22, 24, 26, 28]])"
      ]
     },
     "execution_count": 66,
     "metadata": {},
     "output_type": "execute_result"
    }
   ],
   "source": [
    "arr*2"
   ]
  },
  {
   "cell_type": "code",
   "execution_count": 69,
   "metadata": {},
   "outputs": [
    {
     "name": "stdout",
     "output_type": "stream",
     "text": [
      "[[ 0  1  2]\n",
      " [ 3  4  5]\n",
      " [ 6  7  8]\n",
      " [ 9 10 11]\n",
      " [12 13 14]]\n",
      "\n",
      "[[0]\n",
      " [1]\n",
      " [2]\n",
      " [3]\n",
      " [4]]\n"
     ]
    }
   ],
   "source": [
    "arr1=np.arange(15).reshape(5,3)\n",
    "arr2=np.arange(5).reshape(5,1)\n",
    "print(arr1)\n",
    "print()\n",
    "print(arr2)"
   ]
  },
  {
   "cell_type": "code",
   "execution_count": 72,
   "metadata": {},
   "outputs": [
    {
     "data": {
      "text/plain": [
       "array([[ 0,  1,  2],\n",
       "       [ 4,  5,  6],\n",
       "       [ 8,  9, 10],\n",
       "       [12, 13, 14],\n",
       "       [16, 17, 18]])"
      ]
     },
     "execution_count": 72,
     "metadata": {},
     "output_type": "execute_result"
    }
   ],
   "source": [
    "arr1+arr2 #2nd array= 5*1-->5*3 and then add with 1st array of 5*3"
   ]
  },
  {
   "cell_type": "code",
   "execution_count": 77,
   "metadata": {},
   "outputs": [
    {
     "name": "stdout",
     "output_type": "stream",
     "text": [
      "[[1 2 3]\n",
      " [4 5 6]\n",
      " [7 8 9]]\n",
      "\n",
      "[[2 2 2]\n",
      " [3 3 3]\n",
      " [4 4 4]]\n"
     ]
    },
    {
     "data": {
      "text/plain": [
       "array([[20, 20, 20],\n",
       "       [47, 47, 47],\n",
       "       [74, 74, 74]])"
      ]
     },
     "execution_count": 77,
     "metadata": {},
     "output_type": "execute_result"
    }
   ],
   "source": [
    "A=np.array([[1,2,3],[4,5,6],[7,8,9]])\n",
    "B=np.array([[2,2,2],[3,3,3],[4,4,4]])\n",
    "print(A)\n",
    "print()\n",
    "print(B)\n",
    "A.dot(B) #matrix multiplication"
   ]
  },
  {
   "cell_type": "code",
   "execution_count": 79,
   "metadata": {},
   "outputs": [
    {
     "name": "stdout",
     "output_type": "stream",
     "text": [
      "[[1 2 3]\n",
      " [4 5 6]\n",
      " [7 8 9]]\n",
      "\n",
      "[[1 4 7]\n",
      " [2 5 8]\n",
      " [3 6 9]]\n"
     ]
    }
   ],
   "source": [
    "A=np.array([[1,2,3],[4,5,6],[7,8,9]])\n",
    "print(A)\n",
    "print()\n",
    "print(A.T) #transpose of A"
   ]
  },
  {
   "cell_type": "raw",
   "metadata": {},
   "source": [
    "Linear Algebra\n",
    "\n",
    "7x + 5y - 3z = 16\n",
    "3x + 5y - 2z = -8\n",
    "5x + 3y - 7z = 0\n",
    "\n",
    "Solve for x,y,z\n",
    "\n",
    "Use numpy package=linalg-subpackage-solve"
   ]
  },
  {
   "cell_type": "code",
   "execution_count": 82,
   "metadata": {},
   "outputs": [
    {
     "data": {
      "text/plain": [
       "array([1., 3., 2.])"
      ]
     },
     "execution_count": 82,
     "metadata": {},
     "output_type": "execute_result"
    }
   ],
   "source": [
    "a=np.array([[7,5,-3],[3,-5,2],[5,3,-7]]) #coeff of x,y,z\n",
    "b=np.array([16,-8,0]) #constants\n",
    "answers=np.linalg.solve(a,b)\n",
    "answers"
   ]
  },
  {
   "cell_type": "markdown",
   "metadata": {},
   "source": [
    "# Matplotlib"
   ]
  },
  {
   "cell_type": "raw",
   "metadata": {},
   "source": [
    "Used for visualizing data\n",
    "graphs/plots\n",
    "built from numpy\n",
    "python was inspired from MATLAB\n",
    "MATLAB-used MATLAB programming language-paid-need to buy licence\n",
    "python-open source- alternative for MATLAB=matplotlib\n",
    "matplotlib has started to become absolute\n",
    "seabon,ggplot,d3.js.. started coming into the picture\n",
    "plotly- based on javascript"
   ]
  },
  {
   "cell_type": "code",
   "execution_count": 84,
   "metadata": {},
   "outputs": [],
   "source": [
    "import matplotlib.pyplot as plt"
   ]
  },
  {
   "cell_type": "code",
   "execution_count": 87,
   "metadata": {},
   "outputs": [],
   "source": [
    "plt.style.use('classic') #google matplotlib styles and select whichever looks appealing"
   ]
  },
  {
   "cell_type": "code",
   "execution_count": 91,
   "metadata": {},
   "outputs": [
    {
     "data": {
      "text/plain": [
       "array([ 0. ,  2.5,  5. ,  7.5, 10. ])"
      ]
     },
     "execution_count": 91,
     "metadata": {},
     "output_type": "execute_result"
    }
   ],
   "source": [
    "x=np.linspace(0,10,5)\n",
    "x"
   ]
  },
  {
   "cell_type": "code",
   "execution_count": 92,
   "metadata": {},
   "outputs": [
    {
     "data": {
      "text/plain": [
       "[<matplotlib.lines.Line2D at 0x1eb61132808>]"
      ]
     },
     "execution_count": 92,
     "metadata": {},
     "output_type": "execute_result"
    },
    {
     "data": {
      "image/png": "[encoded data removed]",
      "text/plain": [
       "<Figure size 640x480 with 1 Axes>"
      ]
     },
     "metadata": {},
     "output_type": "display_data"
    }
   ],
   "source": [
    "x=np.linspace(0,10,100)\n",
    "plt.plot(x,np.sin(x))"
   ]
  },
  {
   "cell_type": "code",
   "execution_count": 94,
   "metadata": {},
   "outputs": [
    {
     "data": {
      "text/plain": [
       "[<matplotlib.lines.Line2D at 0x1eb611a6388>]"
      ]
     },
     "execution_count": 94,
     "metadata": {},
     "output_type": "execute_result"
    },
    {
     "data": {
      "image/png": "[encoded data removed]",
      "text/plain": [
       "<Figure size 640x480 with 1 Axes>"
      ]
     },
     "metadata": {},
     "output_type": "display_data"
    }
   ],
   "source": [
    "x=np.linspace(0,10,100)\n",
    "plt.plot(x,np.sin(x))\n",
    "plt.plot(x,np.cos(x))"
   ]
  },
  {
   "cell_type": "code",
   "execution_count": 95,
   "metadata": {},
   "outputs": [
    {
     "data": {
      "image/png": "[encoded data removed]",
      "text/plain": [
       "<Figure size 640x480 with 1 Axes>"
      ]
     },
     "metadata": {},
     "output_type": "display_data"
    }
   ],
   "source": [
    "x=np.linspace(0,10,100)\n",
    "plt.plot(x,np.sin(x))\n",
    "plt.plot(x,np.cos(x));"
   ]
  },
  {
   "cell_type": "raw",
   "metadata": {},
   "source": [
    "Two modes in matplotlib"
   ]
  },
  {
   "cell_type": "code",
   "execution_count": 96,
   "metadata": {},
   "outputs": [
    {
     "data": {
      "application/javascript": [
       "/* Put everything inside the global mpl namespace */\n",
       "/* global mpl */\n",
       "window.mpl = {};\n",
       "\n",
       "mpl.get_websocket_type = function () {\n",
       "    if (typeof WebSocket !== 'undefined') {\n",
       "        return WebSocket;\n",
       "    } else if (typeof MozWebSocket !== 'undefined') {\n",
       "        return MozWebSocket;\n",
       "    } else {\n",
       "        alert(\n",
       "            'Your browser does not have WebSocket support. ' +\n",
       "                'Please try Chrome, Safari or Firefox ≥ 6. ' +\n",
       "                'Firefox 4 and 5 are also supported but you ' +\n",
       "                'have to enable WebSockets in about:config.'\n",
       "        );\n",
       "    }\n",
       "};\n",
       "\n",
       "mpl.figure = function (figure_id, websocket, ondownload, parent_element) {\n",
       "    this.id = figure_id;\n",
       "\n",
       "    this.ws = websocket;\n",
       "\n",
       "    this.supports_binary = this.ws.binaryType !== undefined;\n",
       "\n",
       "    if (!this.supports_binary) {\n",
       "        var warnings = document.getElementById('mpl-warnings');\n",
       "        if (warnings) {\n",
       "            warnings.style.display = 'block';\n",
       "            warnings.textContent =\n",
       "                'This browser does not support binary websocket messages. ' +\n",
       "                'Performance may be slow.';\n",
       "        }\n",
       "    }\n",
       "\n",
       "    this.imageObj = new Image();\n",
       "\n",
       "    this.context = undefined;\n",
       "    this.message = undefined;\n",
       "    this.canvas = undefined;\n",
       "    this.rubberband_canvas = undefined;\n",
       "    this.rubberband_context = undefined;\n",
       "    this.format_dropdown = undefined;\n",
       "\n",
       "    this.image_mode = 'full';\n",
       "\n",
       "    this.root = document.createElement('div');\n",
       "    this.root.setAttribute('style', 'display: inline-block');\n",
       "    this._root_extra_style(this.root);\n",
       "\n",
       "    parent_element.appendChild(this.root);\n",
       "\n",
       "    this._init_header(this);\n",
       "    this._init_canvas(this);\n",
       "    this._init_toolbar(this);\n",
       "\n",
       "    var fig = this;\n",
       "\n",
       "    this.waiting = false;\n",
       "\n",
       "    this.ws.onopen = function () {\n",
       "        fig.send_message('supports_binary', { value: fig.supports_binary });\n",
       "        fig.send_message('send_image_mode', {});\n",
       "        if (fig.ratio !== 1) {\n",
       "            fig.send_message('set_dpi_ratio', { dpi_ratio: fig.ratio });\n",
       "        }\n",
       "        fig.send_message('refresh', {});\n",
       "    };\n",
       "\n",
       "    this.imageObj.onload = function () {\n",
       "        if (fig.image_mode === 'full') {\n",
       "            // Full images could contain transparency (where diff images\n",
       "            // almost always do), so we need to clear the canvas so that\n",
       "            // there is no ghosting.\n",
       "            fig.context.clearRect(0, 0, fig.canvas.width, fig.canvas.height);\n",
       "        }\n",
       "        fig.context.drawImage(fig.imageObj, 0, 0);\n",
       "    };\n",
       "\n",
       "    this.imageObj.onunload = function () {\n",
       "        fig.ws.close();\n",
       "    };\n",
       "\n",
       "    this.ws.onmessage = this._make_on_message_function(this);\n",
       "\n",
       "    this.ondownload = ondownload;\n",
       "};\n",
       "\n",
       "mpl.figure.prototype._init_header = function () {\n",
       "    var titlebar = document.createElement('div');\n",
       "    titlebar.classList =\n",
       "        'ui-dialog-titlebar ui-widget-header ui-corner-all ui-helper-clearfix';\n",
       "    var titletext = document.createElement('div');\n",
       "    titletext.classList = 'ui-dialog-title';\n",
       "    titletext.setAttribute(\n",
       "        'style',\n",
       "        'width: 100%; text-align: center; padding: 3px;'\n",
       "    );\n",
       "    titlebar.appendChild(titletext);\n",
       "    this.root.appendChild(titlebar);\n",
       "    this.header = titletext;\n",
       "};\n",
       "\n",
       "mpl.figure.prototype._canvas_extra_style = function (_canvas_div) {};\n",
       "\n",
       "mpl.figure.prototype._root_extra_style = function (_canvas_div) {};\n",
       "\n",
       "mpl.figure.prototype._init_canvas = function () {\n",
       "    var fig = this;\n",
       "\n",
       "    var canvas_div = (this.canvas_div = document.createElement('div'));\n",
       "    canvas_div.setAttribute(\n",
       "        'style',\n",
       "        'border: 1px solid #ddd;' +\n",
       "            'box-sizing: content-box;' +\n",
       "            'clear: both;' +\n",
       "            'min-height: 1px;' +\n",
       "            'min-width: 1px;' +\n",
       "            'outline: 0;' +\n",
       "            'overflow: hidden;' +\n",
       "            'position: relative;' +\n",
       "            'resize: both;'\n",
       "    );\n",
       "\n",
       "    function on_keyboard_event_closure(name) {\n",
       "        return function (event) {\n",
       "            return fig.key_event(event, name);\n",
       "        };\n",
       "    }\n",
       "\n",
       "    canvas_div.addEventListener(\n",
       "        'keydown',\n",
       "        on_keyboard_event_closure('key_press')\n",
       "    );\n",
       "    canvas_div.addEventListener(\n",
       "        'keyup',\n",
       "        on_keyboard_event_closure('key_release')\n",
       "    );\n",
       "\n",
       "    this._canvas_extra_style(canvas_div);\n",
       "    this.root.appendChild(canvas_div);\n",
       "\n",
       "    var canvas = (this.canvas = document.createElement('canvas'));\n",
       "    canvas.classList.add('mpl-canvas');\n",
       "    canvas.setAttribute('style', 'box-sizing: content-box;');\n",
       "\n",
       "    this.context = canvas.getContext('2d');\n",
       "\n",
       "    var backingStore =\n",
       "        this.context.backingStorePixelRatio ||\n",
       "        this.context.webkitBackingStorePixelRatio ||\n",
       "        this.context.mozBackingStorePixelRatio ||\n",
       "        this.context.msBackingStorePixelRatio ||\n",
       "        this.context.oBackingStorePixelRatio ||\n",
       "        this.context.backingStorePixelRatio ||\n",
       "        1;\n",
       "\n",
       "    this.ratio = (window.devicePixelRatio || 1) / backingStore;\n",
       "    if (this.ratio !== 1) {\n",
       "        fig.send_message('set_dpi_ratio', { dpi_ratio: this.ratio });\n",
       "    }\n",
       "\n",
       "    var rubberband_canvas = (this.rubberband_canvas = document.createElement(\n",
       "        'canvas'\n",
       "    ));\n",
       "    rubberband_canvas.setAttribute(\n",
       "        'style',\n",
       "        'box-sizing: content-box; position: absolute; left: 0; top: 0; z-index: 1;'\n",
       "    );\n",
       "\n",
       "    var resizeObserver = new ResizeObserver(function (entries) {\n",
       "        var nentries = entries.length;\n",
       "        for (var i = 0; i < nentries; i++) {\n",
       "            var entry = entries[i];\n",
       "            var width, height;\n",
       "            if (entry.contentBoxSize) {\n",
       "                if (entry.contentBoxSize instanceof Array) {\n",
       "                    // Chrome 84 implements new version of spec.\n",
       "                    width = entry.contentBoxSize[0].inlineSize;\n",
       "                    height = entry.contentBoxSize[0].blockSize;\n",
       "                } else {\n",
       "                    // Firefox implements old version of spec.\n",
       "                    width = entry.contentBoxSize.inlineSize;\n",
       "                    height = entry.contentBoxSize.blockSize;\n",
       "                }\n",
       "            } else {\n",
       "                // Chrome <84 implements even older version of spec.\n",
       "                width = entry.contentRect.width;\n",
       "                height = entry.contentRect.height;\n",
       "            }\n",
       "\n",
       "            // Keep the size of the canvas and rubber band canvas in sync with\n",
       "            // the canvas container.\n",
       "            if (entry.devicePixelContentBoxSize) {\n",
       "                // Chrome 84 implements new version of spec.\n",
       "                canvas.setAttribute(\n",
       "                    'width',\n",
       "                    entry.devicePixelContentBoxSize[0].inlineSize\n",
       "                );\n",
       "                canvas.setAttribute(\n",
       "                    'height',\n",
       "                    entry.devicePixelContentBoxSize[0].blockSize\n",
       "                );\n",
       "            } else {\n",
       "                canvas.setAttribute('width', width * fig.ratio);\n",
       "                canvas.setAttribute('height', height * fig.ratio);\n",
       "            }\n",
       "            canvas.setAttribute(\n",
       "                'style',\n",
       "                'width: ' + width + 'px; height: ' + height + 'px;'\n",
       "            );\n",
       "\n",
       "            rubberband_canvas.setAttribute('width', width);\n",
       "            rubberband_canvas.setAttribute('height', height);\n",
       "\n",
       "            // And update the size in Python. We ignore the initial 0/0 size\n",
       "            // that occurs as the element is placed into the DOM, which should\n",
       "            // otherwise not happen due to the minimum size styling.\n",
       "            if (width != 0 && height != 0) {\n",
       "                fig.request_resize(width, height);\n",
       "            }\n",
       "        }\n",
       "    });\n",
       "    resizeObserver.observe(canvas_div);\n",
       "\n",
       "    function on_mouse_event_closure(name) {\n",
       "        return function (event) {\n",
       "            return fig.mouse_event(event, name);\n",
       "        };\n",
       "    }\n",
       "\n",
       "    rubberband_canvas.addEventListener(\n",
       "        'mousedown',\n",
       "        on_mouse_event_closure('button_press')\n",
       "    );\n",
       "    rubberband_canvas.addEventListener(\n",
       "        'mouseup',\n",
       "        on_mouse_event_closure('button_release')\n",
       "    );\n",
       "    // Throttle sequential mouse events to 1 every 20ms.\n",
       "    rubberband_canvas.addEventListener(\n",
       "        'mousemove',\n",
       "        on_mouse_event_closure('motion_notify')\n",
       "    );\n",
       "\n",
       "    rubberband_canvas.addEventListener(\n",
       "        'mouseenter',\n",
       "        on_mouse_event_closure('figure_enter')\n",
       "    );\n",
       "    rubberband_canvas.addEventListener(\n",
       "        'mouseleave',\n",
       "        on_mouse_event_closure('figure_leave')\n",
       "    );\n",
       "\n",
       "    canvas_div.addEventListener('wheel', function (event) {\n",
       "        if (event.deltaY < 0) {\n",
       "            event.step = 1;\n",
       "        } else {\n",
       "            event.step = -1;\n",
       "        }\n",
       "        on_mouse_event_closure('scroll')(event);\n",
       "    });\n",
       "\n",
       "    canvas_div.appendChild(canvas);\n",
       "    canvas_div.appendChild(rubberband_canvas);\n",
       "\n",
       "    this.rubberband_context = rubberband_canvas.getContext('2d');\n",
       "    this.rubberband_context.strokeStyle = '#000000';\n",
       "\n",
       "    this._resize_canvas = function (width, height, forward) {\n",
       "        if (forward) {\n",
       "            canvas_div.style.width = width + 'px';\n",
       "            canvas_div.style.height = height + 'px';\n",
       "        }\n",
       "    };\n",
       "\n",
       "    // Disable right mouse context menu.\n",
       "    this.rubberband_canvas.addEventListener('contextmenu', function (_e) {\n",
       "        event.preventDefault();\n",
       "        return false;\n",
       "    });\n",
       "\n",
       "    function set_focus() {\n",
       "        canvas.focus();\n",
       "        canvas_div.focus();\n",
       "    }\n",
       "\n",
       "    window.setTimeout(set_focus, 100);\n",
       "};\n",
       "\n",
       "mpl.figure.prototype._init_toolbar = function () {\n",
       "    var fig = this;\n",
       "\n",
       "    var toolbar = document.createElement('div');\n",
       "    toolbar.classList = 'mpl-toolbar';\n",
       "    this.root.appendChild(toolbar);\n",
       "\n",
       "    function on_click_closure(name) {\n",
       "        return function (_event) {\n",
       "            return fig.toolbar_button_onclick(name);\n",
       "        };\n",
       "    }\n",
       "\n",
       "    function on_mouseover_closure(tooltip) {\n",
       "        return function (event) {\n",
       "            if (!event.currentTarget.disabled) {\n",
       "                return fig.toolbar_button_onmouseover(tooltip);\n",
       "            }\n",
       "        };\n",
       "    }\n",
       "\n",
       "    fig.buttons = {};\n",
       "    var buttonGroup = document.createElement('div');\n",
       "    buttonGroup.classList = 'mpl-button-group';\n",
       "    for (var toolbar_ind in mpl.toolbar_items) {\n",
       "        var name = mpl.toolbar_items[toolbar_ind][0];\n",
       "        var tooltip = mpl.toolbar_items[toolbar_ind][1];\n",
       "        var image = mpl.toolbar_items[toolbar_ind][2];\n",
       "        var method_name = mpl.toolbar_items[toolbar_ind][3];\n",
       "\n",
       "        if (!name) {\n",
       "            /* Instead of a spacer, we start a new button group. */\n",
       "            if (buttonGroup.hasChildNodes()) {\n",
       "                toolbar.appendChild(buttonGroup);\n",
       "            }\n",
       "            buttonGroup = document.createElement('div');\n",
       "            buttonGroup.classList = 'mpl-button-group';\n",
       "            continue;\n",
       "        }\n",
       "\n",
       "        var button = (fig.buttons[name] = document.createElement('button'));\n",
       "        button.classList = 'mpl-widget';\n",
       "        button.setAttribute('role', 'button');\n",
       "        button.setAttribute('aria-disabled', 'false');\n",
       "        button.addEventListener('click', on_click_closure(method_name));\n",
       "        button.addEventListener('mouseover', on_mouseover_closure(tooltip));\n",
       "\n",
       "        var icon_img = document.createElement('img');\n",
       "        icon_img.src = '_images/' + image + '.png';\n",
       "        icon_img.srcset = '_images/' + image + '_large.png 2x';\n",
       "        icon_img.alt = tooltip;\n",
       "        button.appendChild(icon_img);\n",
       "\n",
       "        buttonGroup.appendChild(button);\n",
       "    }\n",
       "\n",
       "    if (buttonGroup.hasChildNodes()) {\n",
       "        toolbar.appendChild(buttonGroup);\n",
       "    }\n",
       "\n",
       "    var fmt_picker = document.createElement('select');\n",
       "    fmt_picker.classList = 'mpl-widget';\n",
       "    toolbar.appendChild(fmt_picker);\n",
       "    this.format_dropdown = fmt_picker;\n",
       "\n",
       "    for (var ind in mpl.extensions) {\n",
       "        var fmt = mpl.extensions[ind];\n",
       "        var option = document.createElement('option');\n",
       "        option.selected = fmt === mpl.default_extension;\n",
       "        option.innerHTML = fmt;\n",
       "        fmt_picker.appendChild(option);\n",
       "    }\n",
       "\n",
       "    var status_bar = document.createElement('span');\n",
       "    status_bar.classList = 'mpl-message';\n",
       "    toolbar.appendChild(status_bar);\n",
       "    this.message = status_bar;\n",
       "};\n",
       "\n",
       "mpl.figure.prototype.request_resize = function (x_pixels, y_pixels) {\n",
       "    // Request matplotlib to resize the figure. Matplotlib will then trigger a resize in the client,\n",
       "    // which will in turn request a refresh of the image.\n",
       "    this.send_message('resize', { width: x_pixels, height: y_pixels });\n",
       "};\n",
       "\n",
       "mpl.figure.prototype.send_message = function (type, properties) {\n",
       "    properties['type'] = type;\n",
       "    properties['figure_id'] = this.id;\n",
       "    this.ws.send(JSON.stringify(properties));\n",
       "};\n",
       "\n",
       "mpl.figure.prototype.send_draw_message = function () {\n",
       "    if (!this.waiting) {\n",
       "        this.waiting = true;\n",
       "        this.ws.send(JSON.stringify({ type: 'draw', figure_id: this.id }));\n",
       "    }\n",
       "};\n",
       "\n",
       "mpl.figure.prototype.handle_save = function (fig, _msg) {\n",
       "    var format_dropdown = fig.format_dropdown;\n",
       "    var format = format_dropdown.options[format_dropdown.selectedIndex].value;\n",
       "    fig.ondownload(fig, format);\n",
       "};\n",
       "\n",
       "mpl.figure.prototype.handle_resize = function (fig, msg) {\n",
       "    var size = msg['size'];\n",
       "    if (size[0] !== fig.canvas.width || size[1] !== fig.canvas.height) {\n",
       "        fig._resize_canvas(size[0], size[1], msg['forward']);\n",
       "        fig.send_message('refresh', {});\n",
       "    }\n",
       "};\n",
       "\n",
       "mpl.figure.prototype.handle_rubberband = function (fig, msg) {\n",
       "    var x0 = msg['x0'] / fig.ratio;\n",
       "    var y0 = (fig.canvas.height - msg['y0']) / fig.ratio;\n",
       "    var x1 = msg['x1'] / fig.ratio;\n",
       "    var y1 = (fig.canvas.height - msg['y1']) / fig.ratio;\n",
       "    x0 = Math.floor(x0) + 0.5;\n",
       "    y0 = Math.floor(y0) + 0.5;\n",
       "    x1 = Math.floor(x1) + 0.5;\n",
       "    y1 = Math.floor(y1) + 0.5;\n",
       "    var min_x = Math.min(x0, x1);\n",
       "    var min_y = Math.min(y0, y1);\n",
       "    var width = Math.abs(x1 - x0);\n",
       "    var height = Math.abs(y1 - y0);\n",
       "\n",
       "    fig.rubberband_context.clearRect(\n",
       "        0,\n",
       "        0,\n",
       "        fig.canvas.width / fig.ratio,\n",
       "        fig.canvas.height / fig.ratio\n",
       "    );\n",
       "\n",
       "    fig.rubberband_context.strokeRect(min_x, min_y, width, height);\n",
       "};\n",
       "\n",
       "mpl.figure.prototype.handle_figure_label = function (fig, msg) {\n",
       "    // Updates the figure title.\n",
       "    fig.header.textContent = msg['label'];\n",
       "};\n",
       "\n",
       "mpl.figure.prototype.handle_cursor = function (fig, msg) {\n",
       "    var cursor = msg['cursor'];\n",
       "    switch (cursor) {\n",
       "        case 0:\n",
       "            cursor = 'pointer';\n",
       "            break;\n",
       "        case 1:\n",
       "            cursor = 'default';\n",
       "            break;\n",
       "        case 2:\n",
       "            cursor = 'crosshair';\n",
       "            break;\n",
       "        case 3:\n",
       "            cursor = 'move';\n",
       "            break;\n",
       "    }\n",
       "    fig.rubberband_canvas.style.cursor = cursor;\n",
       "};\n",
       "\n",
       "mpl.figure.prototype.handle_message = function (fig, msg) {\n",
       "    fig.message.textContent = msg['message'];\n",
       "};\n",
       "\n",
       "mpl.figure.prototype.handle_draw = function (fig, _msg) {\n",
       "    // Request the server to send over a new figure.\n",
       "    fig.send_draw_message();\n",
       "};\n",
       "\n",
       "mpl.figure.prototype.handle_image_mode = function (fig, msg) {\n",
       "    fig.image_mode = msg['mode'];\n",
       "};\n",
       "\n",
       "mpl.figure.prototype.handle_history_buttons = function (fig, msg) {\n",
       "    for (var key in msg) {\n",
       "        if (!(key in fig.buttons)) {\n",
       "            continue;\n",
       "        }\n",
       "        fig.buttons[key].disabled = !msg[key];\n",
       "        fig.buttons[key].setAttribute('aria-disabled', !msg[key]);\n",
       "    }\n",
       "};\n",
       "\n",
       "mpl.figure.prototype.handle_navigate_mode = function (fig, msg) {\n",
       "    if (msg['mode'] === 'PAN') {\n",
       "        fig.buttons['Pan'].classList.add('active');\n",
       "        fig.buttons['Zoom'].classList.remove('active');\n",
       "    } else if (msg['mode'] === 'ZOOM') {\n",
       "        fig.buttons['Pan'].classList.remove('active');\n",
       "        fig.buttons['Zoom'].classList.add('active');\n",
       "    } else {\n",
       "        fig.buttons['Pan'].classList.remove('active');\n",
       "        fig.buttons['Zoom'].classList.remove('active');\n",
       "    }\n",
       "};\n",
       "\n",
       "mpl.figure.prototype.updated_canvas_event = function () {\n",
       "    // Called whenever the canvas gets updated.\n",
       "    this.send_message('ack', {});\n",
       "};\n",
       "\n",
       "// A function to construct a web socket function for onmessage handling.\n",
       "// Called in the figure constructor.\n",
       "mpl.figure.prototype._make_on_message_function = function (fig) {\n",
       "    return function socket_on_message(evt) {\n",
       "        if (evt.data instanceof Blob) {\n",
       "            /* FIXME: We get \"Resource interpreted as Image but\n",
       "             * transferred with MIME type text/plain:\" errors on\n",
       "             * Chrome.  But how to set the MIME type?  It doesn't seem\n",
       "             * to be part of the websocket stream */\n",
       "            evt.data.type = 'image/png';\n",
       "\n",
       "            /* Free the memory for the previous frames */\n",
       "            if (fig.imageObj.src) {\n",
       "                (window.URL || window.webkitURL).revokeObjectURL(\n",
       "                    fig.imageObj.src\n",
       "                );\n",
       "            }\n",
       "\n",
       "            fig.imageObj.src = (window.URL || window.webkitURL).createObjectURL(\n",
       "                evt.data\n",
       "            );\n",
       "            fig.updated_canvas_event();\n",
       "            fig.waiting = false;\n",
       "            return;\n",
       "        } else if (\n",
       "            typeof evt.data === 'string' &&\n",
       "            evt.data.slice(0, 21) === 'data:image/png;base64'\n",
       "        ) {\n",
       "            fig.imageObj.src = evt.data;\n",
       "            fig.updated_canvas_event();\n",
       "            fig.waiting = false;\n",
       "            return;\n",
       "        }\n",
       "\n",
       "        var msg = JSON.parse(evt.data);\n",
       "        var msg_type = msg['type'];\n",
       "\n",
       "        // Call the  \"handle_{type}\" callback, which takes\n",
       "        // the figure and JSON message as its only arguments.\n",
       "        try {\n",
       "            var callback = fig['handle_' + msg_type];\n",
       "        } catch (e) {\n",
       "            console.log(\n",
       "                \"No handler for the '\" + msg_type + \"' message type: \",\n",
       "                msg\n",
       "            );\n",
       "            return;\n",
       "        }\n",
       "\n",
       "        if (callback) {\n",
       "            try {\n",
       "                // console.log(\"Handling '\" + msg_type + \"' message: \", msg);\n",
       "                callback(fig, msg);\n",
       "            } catch (e) {\n",
       "                console.log(\n",
       "                    \"Exception inside the 'handler_\" + msg_type + \"' callback:\",\n",
       "                    e,\n",
       "                    e.stack,\n",
       "                    msg\n",
       "                );\n",
       "            }\n",
       "        }\n",
       "    };\n",
       "};\n",
       "\n",
       "// from http://stackoverflow.com/questions/1114465/getting-mouse-location-in-canvas\n",
       "mpl.findpos = function (e) {\n",
       "    //this section is from http://www.quirksmode.org/js/events_properties.html\n",
       "    var targ;\n",
       "    if (!e) {\n",
       "        e = window.event;\n",
       "    }\n",
       "    if (e.target) {\n",
       "        targ = e.target;\n",
       "    } else if (e.srcElement) {\n",
       "        targ = e.srcElement;\n",
       "    }\n",
       "    if (targ.nodeType === 3) {\n",
       "        // defeat Safari bug\n",
       "        targ = targ.parentNode;\n",
       "    }\n",
       "\n",
       "    // pageX,Y are the mouse positions relative to the document\n",
       "    var boundingRect = targ.getBoundingClientRect();\n",
       "    var x = e.pageX - (boundingRect.left + document.body.scrollLeft);\n",
       "    var y = e.pageY - (boundingRect.top + document.body.scrollTop);\n",
       "\n",
       "    return { x: x, y: y };\n",
       "};\n",
       "\n",
       "/*\n",
       " * return a copy of an object with only non-object keys\n",
       " * we need this to avoid circular references\n",
       " * http://stackoverflow.com/a/24161582/3208463\n",
       " */\n",
       "function simpleKeys(original) {\n",
       "    return Object.keys(original).reduce(function (obj, key) {\n",
       "        if (typeof original[key] !== 'object') {\n",
       "            obj[key] = original[key];\n",
       "        }\n",
       "        return obj;\n",
       "    }, {});\n",
       "}\n",
       "\n",
       "mpl.figure.prototype.mouse_event = function (event, name) {\n",
       "    var canvas_pos = mpl.findpos(event);\n",
       "\n",
       "    if (name === 'button_press') {\n",
       "        this.canvas.focus();\n",
       "        this.canvas_div.focus();\n",
       "    }\n",
       "\n",
       "    var x = canvas_pos.x * this.ratio;\n",
       "    var y = canvas_pos.y * this.ratio;\n",
       "\n",
       "    this.send_message(name, {\n",
       "        x: x,\n",
       "        y: y,\n",
       "        button: event.button,\n",
       "        step: event.step,\n",
       "        guiEvent: simpleKeys(event),\n",
       "    });\n",
       "\n",
       "    /* This prevents the web browser from automatically changing to\n",
       "     * the text insertion cursor when the button is pressed.  We want\n",
       "     * to control all of the cursor setting manually through the\n",
       "     * 'cursor' event from matplotlib */\n",
       "    event.preventDefault();\n",
       "    return false;\n",
       "};\n",
       "\n",
       "mpl.figure.prototype._key_event_extra = function (_event, _name) {\n",
       "    // Handle any extra behaviour associated with a key event\n",
       "};\n",
       "\n",
       "mpl.figure.prototype.key_event = function (event, name) {\n",
       "    // Prevent repeat events\n",
       "    if (name === 'key_press') {\n",
       "        if (event.which === this._key) {\n",
       "            return;\n",
       "        } else {\n",
       "            this._key = event.which;\n",
       "        }\n",
       "    }\n",
       "    if (name === 'key_release') {\n",
       "        this._key = null;\n",
       "    }\n",
       "\n",
       "    var value = '';\n",
       "    if (event.ctrlKey && event.which !== 17) {\n",
       "        value += 'ctrl+';\n",
       "    }\n",
       "    if (event.altKey && event.which !== 18) {\n",
       "        value += 'alt+';\n",
       "    }\n",
       "    if (event.shiftKey && event.which !== 16) {\n",
       "        value += 'shift+';\n",
       "    }\n",
       "\n",
       "    value += 'k';\n",
       "    value += event.which.toString();\n",
       "\n",
       "    this._key_event_extra(event, name);\n",
       "\n",
       "    this.send_message(name, { key: value, guiEvent: simpleKeys(event) });\n",
       "    return false;\n",
       "};\n",
       "\n",
       "mpl.figure.prototype.toolbar_button_onclick = function (name) {\n",
       "    if (name === 'download') {\n",
       "        this.handle_save(this, null);\n",
       "    } else {\n",
       "        this.send_message('toolbar_button', { name: name });\n",
       "    }\n",
       "};\n",
       "\n",
       "mpl.figure.prototype.toolbar_button_onmouseover = function (tooltip) {\n",
       "    this.message.textContent = tooltip;\n",
       "};\n",
       "mpl.toolbar_items = [[\"Home\", \"Reset original view\", \"fa fa-home icon-home\", \"home\"], [\"Back\", \"Back to previous view\", \"fa fa-arrow-left icon-arrow-left\", \"back\"], [\"Forward\", \"Forward to next view\", \"fa fa-arrow-right icon-arrow-right\", \"forward\"], [\"\", \"\", \"\", \"\"], [\"Pan\", \"Left button pans, Right button zooms\\nx/y fixes axis, CTRL fixes aspect\", \"fa fa-arrows icon-move\", \"pan\"], [\"Zoom\", \"Zoom to rectangle\\nx/y fixes axis, CTRL fixes aspect\", \"fa fa-square-o icon-check-empty\", \"zoom\"], [\"\", \"\", \"\", \"\"], [\"Download\", \"Download plot\", \"fa fa-floppy-o icon-save\", \"download\"]];\n",
       "\n",
       "mpl.extensions = [\"eps\", \"jpeg\", \"pdf\", \"png\", \"ps\", \"raw\", \"svg\", \"tif\"];\n",
       "\n",
       "mpl.default_extension = \"png\";/* global mpl */\n",
       "\n",
       "var comm_websocket_adapter = function (comm) {\n",
       "    // Create a \"websocket\"-like object which calls the given IPython comm\n",
       "    // object with the appropriate methods. Currently this is a non binary\n",
       "    // socket, so there is still some room for performance tuning.\n",
       "    var ws = {};\n",
       "\n",
       "    ws.close = function () {\n",
       "        comm.close();\n",
       "    };\n",
       "    ws.send = function (m) {\n",
       "        //console.log('sending', m);\n",
       "        comm.send(m);\n",
       "    };\n",
       "    // Register the callback with on_msg.\n",
       "    comm.on_msg(function (msg) {\n",
       "        //console.log('receiving', msg['content']['data'], msg);\n",
       "        // Pass the mpl event to the overridden (by mpl) onmessage function.\n",
       "        ws.onmessage(msg['content']['data']);\n",
       "    });\n",
       "    return ws;\n",
       "};\n",
       "\n",
       "mpl.mpl_figure_comm = function (comm, msg) {\n",
       "    // This is the function which gets called when the mpl process\n",
       "    // starts-up an IPython Comm through the \"matplotlib\" channel.\n",
       "\n",
       "    var id = msg.content.data.id;\n",
       "    // Get hold of the div created by the display call when the Comm\n",
       "    // socket was opened in Python.\n",
       "    var element = document.getElementById(id);\n",
       "    var ws_proxy = comm_websocket_adapter(comm);\n",
       "\n",
       "    function ondownload(figure, _format) {\n",
       "        window.open(figure.canvas.toDataURL());\n",
       "    }\n",
       "\n",
       "    var fig = new mpl.figure(id, ws_proxy, ondownload, element);\n",
       "\n",
       "    // Call onopen now - mpl needs it, as it is assuming we've passed it a real\n",
       "    // web socket which is closed, not our websocket->open comm proxy.\n",
       "    ws_proxy.onopen();\n",
       "\n",
       "    fig.parent_element = element;\n",
       "    fig.cell_info = mpl.find_output_cell(\"<div id='\" + id + \"'></div>\");\n",
       "    if (!fig.cell_info) {\n",
       "        console.error('Failed to find cell for figure', id, fig);\n",
       "        return;\n",
       "    }\n",
       "    fig.cell_info[0].output_area.element.one(\n",
       "        'cleared',\n",
       "        { fig: fig },\n",
       "        fig._remove_fig_handler\n",
       "    );\n",
       "};\n",
       "\n",
       "mpl.figure.prototype.handle_close = function (fig, msg) {\n",
       "    var width = fig.canvas.width / fig.ratio;\n",
       "    fig.cell_info[0].output_area.element.off(\n",
       "        'cleared',\n",
       "        fig._remove_fig_handler\n",
       "    );\n",
       "\n",
       "    // Update the output cell to use the data from the current canvas.\n",
       "    fig.push_to_output();\n",
       "    var dataURL = fig.canvas.toDataURL();\n",
       "    // Re-enable the keyboard manager in IPython - without this line, in FF,\n",
       "    // the notebook keyboard shortcuts fail.\n",
       "    IPython.keyboard_manager.enable();\n",
       "    fig.parent_element.innerHTML =\n",
       "        '<img src=\"' + dataURL + '\" width=\"' + width + '\">';\n",
       "    fig.close_ws(fig, msg);\n",
       "};\n",
       "\n",
       "mpl.figure.prototype.close_ws = function (fig, msg) {\n",
       "    fig.send_message('closing', msg);\n",
       "    // fig.ws.close()\n",
       "};\n",
       "\n",
       "mpl.figure.prototype.push_to_output = function (_remove_interactive) {\n",
       "    // Turn the data on the canvas into data in the output cell.\n",
       "    var width = this.canvas.width / this.ratio;\n",
       "    var dataURL = this.canvas.toDataURL();\n",
       "    this.cell_info[1]['text/html'] =\n",
       "        '<img src=\"' + dataURL + '\" width=\"' + width + '\">';\n",
       "};\n",
       "\n",
       "mpl.figure.prototype.updated_canvas_event = function () {\n",
       "    // Tell IPython that the notebook contents must change.\n",
       "    IPython.notebook.set_dirty(true);\n",
       "    this.send_message('ack', {});\n",
       "    var fig = this;\n",
       "    // Wait a second, then push the new image to the DOM so\n",
       "    // that it is saved nicely (might be nice to debounce this).\n",
       "    setTimeout(function () {\n",
       "        fig.push_to_output();\n",
       "    }, 1000);\n",
       "};\n",
       "\n",
       "mpl.figure.prototype._init_toolbar = function () {\n",
       "    var fig = this;\n",
       "\n",
       "    var toolbar = document.createElement('div');\n",
       "    toolbar.classList = 'btn-toolbar';\n",
       "    this.root.appendChild(toolbar);\n",
       "\n",
       "    function on_click_closure(name) {\n",
       "        return function (_event) {\n",
       "            return fig.toolbar_button_onclick(name);\n",
       "        };\n",
       "    }\n",
       "\n",
       "    function on_mouseover_closure(tooltip) {\n",
       "        return function (event) {\n",
       "            if (!event.currentTarget.disabled) {\n",
       "                return fig.toolbar_button_onmouseover(tooltip);\n",
       "            }\n",
       "        };\n",
       "    }\n",
       "\n",
       "    fig.buttons = {};\n",
       "    var buttonGroup = document.createElement('div');\n",
       "    buttonGroup.classList = 'btn-group';\n",
       "    var button;\n",
       "    for (var toolbar_ind in mpl.toolbar_items) {\n",
       "        var name = mpl.toolbar_items[toolbar_ind][0];\n",
       "        var tooltip = mpl.toolbar_items[toolbar_ind][1];\n",
       "        var image = mpl.toolbar_items[toolbar_ind][2];\n",
       "        var method_name = mpl.toolbar_items[toolbar_ind][3];\n",
       "\n",
       "        if (!name) {\n",
       "            /* Instead of a spacer, we start a new button group. */\n",
       "            if (buttonGroup.hasChildNodes()) {\n",
       "                toolbar.appendChild(buttonGroup);\n",
       "            }\n",
       "            buttonGroup = document.createElement('div');\n",
       "            buttonGroup.classList = 'btn-group';\n",
       "            continue;\n",
       "        }\n",
       "\n",
       "        button = fig.buttons[name] = document.createElement('button');\n",
       "        button.classList = 'btn btn-default';\n",
       "        button.href = '#';\n",
       "        button.title = name;\n",
       "        button.innerHTML = '<i class=\"fa ' + image + ' fa-lg\"></i>';\n",
       "        button.addEventListener('click', on_click_closure(method_name));\n",
       "        button.addEventListener('mouseover', on_mouseover_closure(tooltip));\n",
       "        buttonGroup.appendChild(button);\n",
       "    }\n",
       "\n",
       "    if (buttonGroup.hasChildNodes()) {\n",
       "        toolbar.appendChild(buttonGroup);\n",
       "    }\n",
       "\n",
       "    // Add the status bar.\n",
       "    var status_bar = document.createElement('span');\n",
       "    status_bar.classList = 'mpl-message pull-right';\n",
       "    toolbar.appendChild(status_bar);\n",
       "    this.message = status_bar;\n",
       "\n",
       "    // Add the close button to the window.\n",
       "    var buttongrp = document.createElement('div');\n",
       "    buttongrp.classList = 'btn-group inline pull-right';\n",
       "    button = document.createElement('button');\n",
       "    button.classList = 'btn btn-mini btn-primary';\n",
       "    button.href = '#';\n",
       "    button.title = 'Stop Interaction';\n",
       "    button.innerHTML = '<i class=\"fa fa-power-off icon-remove icon-large\"></i>';\n",
       "    button.addEventListener('click', function (_evt) {\n",
       "        fig.handle_close(fig, {});\n",
       "    });\n",
       "    button.addEventListener(\n",
       "        'mouseover',\n",
       "        on_mouseover_closure('Stop Interaction')\n",
       "    );\n",
       "    buttongrp.appendChild(button);\n",
       "    var titlebar = this.root.querySelector('.ui-dialog-titlebar');\n",
       "    titlebar.insertBefore(buttongrp, titlebar.firstChild);\n",
       "};\n",
       "\n",
       "mpl.figure.prototype._remove_fig_handler = function (event) {\n",
       "    var fig = event.data.fig;\n",
       "    fig.close_ws(fig, {});\n",
       "};\n",
       "\n",
       "mpl.figure.prototype._root_extra_style = function (el) {\n",
       "    el.style.boxSizing = 'content-box'; // override notebook setting of border-box.\n",
       "};\n",
       "\n",
       "mpl.figure.prototype._canvas_extra_style = function (el) {\n",
       "    // this is important to make the div 'focusable\n",
       "    el.setAttribute('tabindex', 0);\n",
       "    // reach out to IPython and tell the keyboard manager to turn it's self\n",
       "    // off when our div gets focus\n",
       "\n",
       "    // location in version 3\n",
       "    if (IPython.notebook.keyboard_manager) {\n",
       "        IPython.notebook.keyboard_manager.register_events(el);\n",
       "    } else {\n",
       "        // location in version 2\n",
       "        IPython.keyboard_manager.register_events(el);\n",
       "    }\n",
       "};\n",
       "\n",
       "mpl.figure.prototype._key_event_extra = function (event, _name) {\n",
       "    var manager = IPython.notebook.keyboard_manager;\n",
       "    if (!manager) {\n",
       "        manager = IPython.keyboard_manager;\n",
       "    }\n",
       "\n",
       "    // Check for shift+enter\n",
       "    if (event.shiftKey && event.which === 13) {\n",
       "        this.canvas_div.blur();\n",
       "        // select the cell after this one\n",
       "        var index = IPython.notebook.find_cell_index(this.cell_info[0]);\n",
       "        IPython.notebook.select(index + 1);\n",
       "    }\n",
       "};\n",
       "\n",
       "mpl.figure.prototype.handle_save = function (fig, _msg) {\n",
       "    fig.ondownload(fig, null);\n",
       "};\n",
       "\n",
       "mpl.find_output_cell = function (html_output) {\n",
       "    // Return the cell and output element which can be found *uniquely* in the notebook.\n",
       "    // Note - this is a bit hacky, but it is done because the \"notebook_saving.Notebook\"\n",
       "    // IPython event is triggered only after the cells have been serialised, which for\n",
       "    // our purposes (turning an active figure into a static one), is too late.\n",
       "    var cells = IPython.notebook.get_cells();\n",
       "    var ncells = cells.length;\n",
       "    for (var i = 0; i < ncells; i++) {\n",
       "        var cell = cells[i];\n",
       "        if (cell.cell_type === 'code') {\n",
       "            for (var j = 0; j < cell.output_area.outputs.length; j++) {\n",
       "                var data = cell.output_area.outputs[j];\n",
       "                if (data.data) {\n",
       "                    // IPython >= 3 moved mimebundle to data attribute of output\n",
       "                    data = data.data;\n",
       "                }\n",
       "                if (data['text/html'] === html_output) {\n",
       "                    return [cell, data, j];\n",
       "                }\n",
       "            }\n",
       "        }\n",
       "    }\n",
       "};\n",
       "\n",
       "// Register the function which deals with the matplotlib target/channel.\n",
       "// The kernel may be null if the page has been refreshed.\n",
       "if (IPython.notebook.kernel !== null) {\n",
       "    IPython.notebook.kernel.comm_manager.register_target(\n",
       "        'matplotlib',\n",
       "        mpl.mpl_figure_comm\n",
       "    );\n",
       "}\n"
      ],
      "text/plain": [
       "<IPython.core.display.Javascript object>"
      ]
     },
     "metadata": {},
     "output_type": "display_data"
    },
    {
     "data": {
      "text/html": [
       "<img src=\"data:image/png;base64,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\" width=\"640\">"
      ],
      "text/plain": [
       "<IPython.core.display.HTML object>"
      ]
     },
     "metadata": {},
     "output_type": "display_data"
    }
   ],
   "source": [
    "%matplotlib notebook\n",
    "x=np.linspace(0,10,100)\n",
    "plt.plot(x,np.sin(x))\n",
    "plt.plot(x,np.cos(x));"
   ]
  },
  {
   "cell_type": "code",
   "execution_count": 99,
   "metadata": {},
   "outputs": [
    {
     "data": {
      "image/png": "[encoded data removed]",
      "text/plain": [
       "<Figure size 432x288 with 1 Axes>"
      ]
     },
     "metadata": {
      "needs_background": "light"
     },
     "output_type": "display_data"
    }
   ],
   "source": [
    "%matplotlib inline \n",
    "#default\n",
    "x=np.linspace(0,10,100)\n",
    "plt.plot(x,np.sin(x))\n",
    "plt.plot(x,np.cos(x));"
   ]
  },
  {
   "cell_type": "code",
   "execution_count": 100,
   "metadata": {},
   "outputs": [
    {
     "data": {
      "image/png": "[encoded data removed]",
      "text/plain": [
       "<Figure size 432x288 with 1 Axes>"
      ]
     },
     "metadata": {
      "needs_background": "light"
     },
     "output_type": "display_data"
    }
   ],
   "source": [
    "x=np.linspace(0,10,100)\n",
    "plt.plot(x,np.sin(x),'-')\n",
    "plt.plot(x,np.cos(x),'--');"
   ]
  },
  {
   "cell_type": "code",
   "execution_count": 103,
   "metadata": {},
   "outputs": [
    {
     "data": {
      "text/plain": [
       "[<matplotlib.lines.Line2D at 0x1eb61415088>]"
      ]
     },
     "execution_count": 103,
     "metadata": {},
     "output_type": "execute_result"
    },
    {
     "data": {
      "image/png": "[encoded data removed]",
      "text/plain": [
       "<Figure size 432x288 with 2 Axes>"
      ]
     },
     "metadata": {
      "needs_background": "light"
     },
     "output_type": "display_data"
    }
   ],
   "source": [
    "plt.figure() #graph\n",
    "plt.subplot(2,1,1) #divide graph into 2rows and 1column\n",
    "plt.plot(x,np.sin(x),'-')\n",
    "\n",
    "plt.subplot(2,1,2)\n",
    "plt.plot(x,np.cos(x),\"--\")"
   ]
  },
  {
   "cell_type": "code",
   "execution_count": 105,
   "metadata": {},
   "outputs": [
    {
     "data": {
      "text/plain": [
       "Text(0, 0.5, 'sin(x)')"
      ]
     },
     "execution_count": 105,
     "metadata": {},
     "output_type": "execute_result"
    },
    {
     "data": {
      "image/png": "[encoded data removed]",
      "text/plain": [
       "<Figure size 432x288 with 1 Axes>"
      ]
     },
     "metadata": {
      "needs_background": "light"
     },
     "output_type": "display_data"
    }
   ],
   "source": [
    "plt.plot(x, np.sin(x))\n",
    "plt.title(\"A sin curve\")\n",
    "plt.xlabel(\"x\")\n",
    "plt.ylabel(\"sin(x)\")"
   ]
  },
  {
   "cell_type": "code",
   "execution_count": 109,
   "metadata": {},
   "outputs": [
    {
     "data": {
      "image/png": "[encoded data removed]",
      "text/plain": [
       "<Figure size 720x216 with 2 Axes>"
      ]
     },
     "metadata": {
      "needs_background": "light"
     },
     "output_type": "display_data"
    }
   ],
   "source": [
    "plt.figure(figsize=(10,3))\n",
    "plt.subplot(1,2,1) \n",
    "plt.plot(x,np.sin(x),'-')\n",
    "\n",
    "plt.subplot(1,2,2)\n",
    "plt.plot(x,np.cos(x),\"--\");"
   ]
  },
  {
   "cell_type": "code",
   "execution_count": 111,
   "metadata": {},
   "outputs": [
    {
     "data": {
      "image/png": "[encoded data removed]",
      "text/plain": [
       "<Figure size 720x216 with 4 Axes>"
      ]
     },
     "metadata": {
      "needs_background": "light"
     },
     "output_type": "display_data"
    }
   ],
   "source": [
    "plt.figure(figsize=(10,3))\n",
    "plt.subplot(2,2,1) \n",
    "plt.plot(x,np.sin(x),'-')\n",
    "\n",
    "plt.subplot(2,2,2)\n",
    "plt.plot(x,np.cos(x),\"--\")\n",
    "\n",
    "plt.subplot(2,2,3)\n",
    "plt.plot(x,np.sinh(x),\"--\")\n",
    "\n",
    "plt.subplot(2,2,4)\n",
    "plt.plot(x,np.cosh(x),\"--\");"
   ]
  },
  {
   "cell_type": "code",
   "execution_count": 114,
   "metadata": {},
   "outputs": [
    {
     "data": {
      "image/png": "[encoded data removed]",
      "text/plain": [
       "<Figure size 432x288 with 1 Axes>"
      ]
     },
     "metadata": {
      "needs_background": "light"
     },
     "output_type": "display_data"
    }
   ],
   "source": [
    "plt.plot(x,np.sin(x), '-g', label='sin(x)')\n",
    "plt.plot(x,np.cos(x),\":b\", label=\"cos(x)\")\n",
    "plt.legend();"
   ]
  },
  {
   "cell_type": "code",
   "execution_count": 115,
   "metadata": {},
   "outputs": [],
   "source": [
    "#google colab, kaggle kernel, Github"
   ]
  },
  {
   "cell_type": "markdown",
   "metadata": {},
   "source": [
    "# Pandas"
   ]
  },
  {
   "cell_type": "raw",
   "metadata": {},
   "source": [
    "1. Data manipulation\n",
    "2. Wrangling\n",
    "3. Analysis- cleaning\n",
    "4. Easy to use\n",
    "\n",
    "Pandas Memory Data Structures \n",
    "1. Series - 1D \n",
    "2. Dataframes - 2D\n"
   ]
  },
  {
   "cell_type": "code",
   "execution_count": 59,
   "metadata": {},
   "outputs": [],
   "source": [
    "import pandas as pd"
   ]
  },
  {
   "cell_type": "code",
   "execution_count": 60,
   "metadata": {},
   "outputs": [
    {
     "name": "stdout",
     "output_type": "stream",
     "text": [
      "1.1.2\n"
     ]
    }
   ],
   "source": [
    "print(pd.__version__)"
   ]
  },
  {
   "cell_type": "code",
   "execution_count": 61,
   "metadata": {},
   "outputs": [
    {
     "name": "stdout",
     "output_type": "stream",
     "text": [
      "{'California': 38335215, 'Texas': 19665634, 'New york': 16545697, 'Florida': 78954632, 'Illinois': 12354698}\n",
      "<class 'dict'>\n"
     ]
    }
   ],
   "source": [
    "#series\n",
    "\n",
    "population_dict = {\n",
    "    \"California\":38335215,\n",
    "    \"Texas\":19665634,\n",
    "    \"New york\":16545697,\n",
    "    \"Florida\":78954632,\n",
    "    \"Illinois\":12354698\n",
    "}\n",
    "print(population_dict)\n",
    "print(type(population_dict))"
   ]
  },
  {
   "cell_type": "code",
   "execution_count": 62,
   "metadata": {},
   "outputs": [
    {
     "data": {
      "text/plain": [
       "California    38335215\n",
       "Texas         19665634\n",
       "New york      16545697\n",
       "Florida       78954632\n",
       "Illinois      12354698\n",
       "dtype: int64"
      ]
     },
     "execution_count": 62,
     "metadata": {},
     "output_type": "execute_result"
    }
   ],
   "source": [
    "#Converting dict into Series\n",
    "population = pd.Series(population_dict)\n",
    "population"
   ]
  },
  {
   "cell_type": "code",
   "execution_count": 63,
   "metadata": {},
   "outputs": [
    {
     "data": {
      "text/plain": [
       "pandas.core.series.Series"
      ]
     },
     "execution_count": 63,
     "metadata": {},
     "output_type": "execute_result"
    }
   ],
   "source": [
    "type(population)"
   ]
  },
  {
   "cell_type": "code",
   "execution_count": 64,
   "metadata": {},
   "outputs": [
    {
     "data": {
      "text/plain": [
       "38335215"
      ]
     },
     "execution_count": 64,
     "metadata": {},
     "output_type": "execute_result"
    }
   ],
   "source": [
    "population[0]"
   ]
  },
  {
   "cell_type": "code",
   "execution_count": 65,
   "metadata": {},
   "outputs": [
    {
     "data": {
      "text/plain": [
       "38335215"
      ]
     },
     "execution_count": 65,
     "metadata": {},
     "output_type": "execute_result"
    }
   ],
   "source": [
    "population['California']"
   ]
  },
  {
   "cell_type": "code",
   "execution_count": 66,
   "metadata": {},
   "outputs": [
    {
     "data": {
      "text/plain": [
       "California    38335215\n",
       "Texas         19665634\n",
       "New york      16545697\n",
       "dtype: int64"
      ]
     },
     "execution_count": 66,
     "metadata": {},
     "output_type": "execute_result"
    }
   ],
   "source": [
    "population[0:3] #implicit index- goes from start to end -1"
   ]
  },
  {
   "cell_type": "code",
   "execution_count": 67,
   "metadata": {},
   "outputs": [
    {
     "data": {
      "text/plain": [
       "California    38335215\n",
       "Texas         19665634\n",
       "New york      16545697\n",
       "Florida       78954632\n",
       "dtype: int64"
      ]
     },
     "execution_count": 67,
     "metadata": {},
     "output_type": "execute_result"
    }
   ],
   "source": [
    "population['California':'Florida'] #explicit index- goes from start to end"
   ]
  },
  {
   "cell_type": "code",
   "execution_count": 68,
   "metadata": {},
   "outputs": [
    {
     "data": {
      "text/plain": [
       "0    2\n",
       "1    4\n",
       "2    6\n",
       "3    8\n",
       "dtype: int64"
      ]
     },
     "execution_count": 68,
     "metadata": {},
     "output_type": "execute_result"
    }
   ],
   "source": [
    "pd.Series([2,4,6,8])"
   ]
  },
  {
   "cell_type": "code",
   "execution_count": 69,
   "metadata": {},
   "outputs": [
    {
     "data": {
      "text/plain": [
       "0    25\n",
       "dtype: int64"
      ]
     },
     "execution_count": 69,
     "metadata": {},
     "output_type": "execute_result"
    }
   ],
   "source": [
    "pd.Series(25)"
   ]
  },
  {
   "cell_type": "code",
   "execution_count": 70,
   "metadata": {},
   "outputs": [
    {
     "name": "stdout",
     "output_type": "stream",
     "text": [
      "Shivani    25\n",
      "dtype: int64\n"
     ]
    }
   ],
   "source": [
    "s = pd.Series(25,index=[\"Shivani\"])\n",
    "print(s)"
   ]
  },
  {
   "cell_type": "code",
   "execution_count": 71,
   "metadata": {},
   "outputs": [
    {
     "data": {
      "text/plain": [
       "25"
      ]
     },
     "execution_count": 71,
     "metadata": {},
     "output_type": "execute_result"
    }
   ],
   "source": [
    "s[0]"
   ]
  },
  {
   "cell_type": "code",
   "execution_count": 72,
   "metadata": {},
   "outputs": [
    {
     "data": {
      "text/plain": [
       "25"
      ]
     },
     "execution_count": 72,
     "metadata": {},
     "output_type": "execute_result"
    }
   ],
   "source": [
    "s[\"Shivani\"]"
   ]
  },
  {
   "cell_type": "code",
   "execution_count": 73,
   "metadata": {},
   "outputs": [
    {
     "data": {
      "text/plain": [
       "Shivani    25\n",
       "dtype: int64"
      ]
     },
     "execution_count": 73,
     "metadata": {},
     "output_type": "execute_result"
    }
   ],
   "source": [
    "pd.Series(25,index=[\"Shivani\"])"
   ]
  },
  {
   "cell_type": "code",
   "execution_count": 74,
   "metadata": {},
   "outputs": [
    {
     "data": {
      "text/plain": [
       "25"
      ]
     },
     "execution_count": 74,
     "metadata": {},
     "output_type": "execute_result"
    }
   ],
   "source": [
    "pd.Series(25,index=[\"Shivani\"])[0]"
   ]
  },
  {
   "cell_type": "code",
   "execution_count": 75,
   "metadata": {},
   "outputs": [
    {
     "data": {
      "text/plain": [
       "25"
      ]
     },
     "execution_count": 75,
     "metadata": {},
     "output_type": "execute_result"
    }
   ],
   "source": [
    "pd.Series(25,index=[\"Shivani\"])['Shivani']"
   ]
  },
  {
   "cell_type": "code",
   "execution_count": 76,
   "metadata": {},
   "outputs": [
    {
     "data": {
      "text/plain": [
       "111    25\n",
       "222    25\n",
       "333    25\n",
       "dtype: int64"
      ]
     },
     "execution_count": 76,
     "metadata": {},
     "output_type": "execute_result"
    }
   ],
   "source": [
    "pd.Series(25,index=[111,222,333])"
   ]
  },
  {
   "cell_type": "code",
   "execution_count": 77,
   "metadata": {},
   "outputs": [
    {
     "data": {
      "text/plain": [
       "25"
      ]
     },
     "execution_count": 77,
     "metadata": {},
     "output_type": "execute_result"
    }
   ],
   "source": [
    "pd.Series(25,index=[111,222,333])[111]"
   ]
  },
  {
   "cell_type": "code",
   "execution_count": 78,
   "metadata": {},
   "outputs": [
    {
     "name": "stdout",
     "output_type": "stream",
     "text": [
      "111    25\n",
      "222    25\n",
      "333    25\n",
      "dtype: int64\n"
     ]
    },
    {
     "ename": "KeyError",
     "evalue": "0",
     "output_type": "error",
     "traceback": [
      "\u001b[1;31m---------------------------------------------------------------------------\u001b[0m",
      "\u001b[1;31mKeyError\u001b[0m                                  Traceback (most recent call last)",
      "\u001b[1;32m~\\AppData\\Roaming\\Python\\Python37\\site-packages\\pandas\\core\\indexes\\base.py\u001b[0m in \u001b[0;36mget_loc\u001b[1;34m(self, key, method, tolerance)\u001b[0m\n\u001b[0;32m   2890\u001b[0m             \u001b[1;32mtry\u001b[0m\u001b[1;33m:\u001b[0m\u001b[1;33m\u001b[0m\u001b[1;33m\u001b[0m\u001b[0m\n\u001b[1;32m-> 2891\u001b[1;33m                 \u001b[1;32mreturn\u001b[0m \u001b[0mself\u001b[0m\u001b[1;33m.\u001b[0m\u001b[0m_engine\u001b[0m\u001b[1;33m.\u001b[0m\u001b[0mget_loc\u001b[0m\u001b[1;33m(\u001b[0m\u001b[0mcasted_key\u001b[0m\u001b[1;33m)\u001b[0m\u001b[1;33m\u001b[0m\u001b[1;33m\u001b[0m\u001b[0m\n\u001b[0m\u001b[0;32m   2892\u001b[0m             \u001b[1;32mexcept\u001b[0m \u001b[0mKeyError\u001b[0m \u001b[1;32mas\u001b[0m \u001b[0merr\u001b[0m\u001b[1;33m:\u001b[0m\u001b[1;33m\u001b[0m\u001b[1;33m\u001b[0m\u001b[0m\n",
      "\u001b[1;32mpandas\\_libs\\index.pyx\u001b[0m in \u001b[0;36mpandas._libs.index.IndexEngine.get_loc\u001b[1;34m()\u001b[0m\n",
      "\u001b[1;32mpandas\\_libs\\index.pyx\u001b[0m in \u001b[0;36mpandas._libs.index.IndexEngine.get_loc\u001b[1;34m()\u001b[0m\n",
      "\u001b[1;32mpandas\\_libs\\hashtable_class_helper.pxi\u001b[0m in \u001b[0;36mpandas._libs.hashtable.Int64HashTable.get_item\u001b[1;34m()\u001b[0m\n",
      "\u001b[1;32mpandas\\_libs\\hashtable_class_helper.pxi\u001b[0m in \u001b[0;36mpandas._libs.hashtable.Int64HashTable.get_item\u001b[1;34m()\u001b[0m\n",
      "\u001b[1;31mKeyError\u001b[0m: 0",
      "\nThe above exception was the direct cause of the following exception:\n",
      "\u001b[1;31mKeyError\u001b[0m                                  Traceback (most recent call last)",
      "\u001b[1;32m<ipython-input-78-b3eb10f4b8a4>\u001b[0m in \u001b[0;36m<module>\u001b[1;34m\u001b[0m\n\u001b[0;32m      1\u001b[0m \u001b[0ms\u001b[0m \u001b[1;33m=\u001b[0m \u001b[0mpd\u001b[0m\u001b[1;33m.\u001b[0m\u001b[0mSeries\u001b[0m\u001b[1;33m(\u001b[0m\u001b[1;36m25\u001b[0m\u001b[1;33m,\u001b[0m\u001b[0mindex\u001b[0m\u001b[1;33m=\u001b[0m\u001b[1;33m[\u001b[0m\u001b[1;36m111\u001b[0m\u001b[1;33m,\u001b[0m\u001b[1;36m222\u001b[0m\u001b[1;33m,\u001b[0m\u001b[1;36m333\u001b[0m\u001b[1;33m]\u001b[0m\u001b[1;33m)\u001b[0m\u001b[1;33m\u001b[0m\u001b[1;33m\u001b[0m\u001b[0m\n\u001b[0;32m      2\u001b[0m \u001b[0mprint\u001b[0m\u001b[1;33m(\u001b[0m\u001b[0ms\u001b[0m\u001b[1;33m)\u001b[0m\u001b[1;33m\u001b[0m\u001b[1;33m\u001b[0m\u001b[0m\n\u001b[1;32m----> 3\u001b[1;33m \u001b[0mprint\u001b[0m\u001b[1;33m(\u001b[0m\u001b[0ms\u001b[0m\u001b[1;33m[\u001b[0m\u001b[1;36m0\u001b[0m\u001b[1;33m]\u001b[0m\u001b[1;33m)\u001b[0m\u001b[1;33m\u001b[0m\u001b[1;33m\u001b[0m\u001b[0m\n\u001b[0m\u001b[0;32m      4\u001b[0m \u001b[1;31m# If the explicit index has numbers, then no implicit indexing is assigned by default because it can cause conflicts.\u001b[0m\u001b[1;33m\u001b[0m\u001b[1;33m\u001b[0m\u001b[1;33m\u001b[0m\u001b[0m\n",
      "\u001b[1;32m~\\AppData\\Roaming\\Python\\Python37\\site-packages\\pandas\\core\\series.py\u001b[0m in \u001b[0;36m__getitem__\u001b[1;34m(self, key)\u001b[0m\n\u001b[0;32m    880\u001b[0m \u001b[1;33m\u001b[0m\u001b[0m\n\u001b[0;32m    881\u001b[0m         \u001b[1;32melif\u001b[0m \u001b[0mkey_is_scalar\u001b[0m\u001b[1;33m:\u001b[0m\u001b[1;33m\u001b[0m\u001b[1;33m\u001b[0m\u001b[0m\n\u001b[1;32m--> 882\u001b[1;33m             \u001b[1;32mreturn\u001b[0m \u001b[0mself\u001b[0m\u001b[1;33m.\u001b[0m\u001b[0m_get_value\u001b[0m\u001b[1;33m(\u001b[0m\u001b[0mkey\u001b[0m\u001b[1;33m)\u001b[0m\u001b[1;33m\u001b[0m\u001b[1;33m\u001b[0m\u001b[0m\n\u001b[0m\u001b[0;32m    883\u001b[0m \u001b[1;33m\u001b[0m\u001b[0m\n\u001b[0;32m    884\u001b[0m         if (\n",
      "\u001b[1;32m~\\AppData\\Roaming\\Python\\Python37\\site-packages\\pandas\\core\\series.py\u001b[0m in \u001b[0;36m_get_value\u001b[1;34m(self, label, takeable)\u001b[0m\n\u001b[0;32m    989\u001b[0m \u001b[1;33m\u001b[0m\u001b[0m\n\u001b[0;32m    990\u001b[0m         \u001b[1;31m# Similar to Index.get_value, but we do not fall back to positional\u001b[0m\u001b[1;33m\u001b[0m\u001b[1;33m\u001b[0m\u001b[1;33m\u001b[0m\u001b[0m\n\u001b[1;32m--> 991\u001b[1;33m         \u001b[0mloc\u001b[0m \u001b[1;33m=\u001b[0m \u001b[0mself\u001b[0m\u001b[1;33m.\u001b[0m\u001b[0mindex\u001b[0m\u001b[1;33m.\u001b[0m\u001b[0mget_loc\u001b[0m\u001b[1;33m(\u001b[0m\u001b[0mlabel\u001b[0m\u001b[1;33m)\u001b[0m\u001b[1;33m\u001b[0m\u001b[1;33m\u001b[0m\u001b[0m\n\u001b[0m\u001b[0;32m    992\u001b[0m         \u001b[1;32mreturn\u001b[0m \u001b[0mself\u001b[0m\u001b[1;33m.\u001b[0m\u001b[0mindex\u001b[0m\u001b[1;33m.\u001b[0m\u001b[0m_get_values_for_loc\u001b[0m\u001b[1;33m(\u001b[0m\u001b[0mself\u001b[0m\u001b[1;33m,\u001b[0m \u001b[0mloc\u001b[0m\u001b[1;33m,\u001b[0m \u001b[0mlabel\u001b[0m\u001b[1;33m)\u001b[0m\u001b[1;33m\u001b[0m\u001b[1;33m\u001b[0m\u001b[0m\n\u001b[0;32m    993\u001b[0m \u001b[1;33m\u001b[0m\u001b[0m\n",
      "\u001b[1;32m~\\AppData\\Roaming\\Python\\Python37\\site-packages\\pandas\\core\\indexes\\base.py\u001b[0m in \u001b[0;36mget_loc\u001b[1;34m(self, key, method, tolerance)\u001b[0m\n\u001b[0;32m   2891\u001b[0m                 \u001b[1;32mreturn\u001b[0m \u001b[0mself\u001b[0m\u001b[1;33m.\u001b[0m\u001b[0m_engine\u001b[0m\u001b[1;33m.\u001b[0m\u001b[0mget_loc\u001b[0m\u001b[1;33m(\u001b[0m\u001b[0mcasted_key\u001b[0m\u001b[1;33m)\u001b[0m\u001b[1;33m\u001b[0m\u001b[1;33m\u001b[0m\u001b[0m\n\u001b[0;32m   2892\u001b[0m             \u001b[1;32mexcept\u001b[0m \u001b[0mKeyError\u001b[0m \u001b[1;32mas\u001b[0m \u001b[0merr\u001b[0m\u001b[1;33m:\u001b[0m\u001b[1;33m\u001b[0m\u001b[1;33m\u001b[0m\u001b[0m\n\u001b[1;32m-> 2893\u001b[1;33m                 \u001b[1;32mraise\u001b[0m \u001b[0mKeyError\u001b[0m\u001b[1;33m(\u001b[0m\u001b[0mkey\u001b[0m\u001b[1;33m)\u001b[0m \u001b[1;32mfrom\u001b[0m \u001b[0merr\u001b[0m\u001b[1;33m\u001b[0m\u001b[1;33m\u001b[0m\u001b[0m\n\u001b[0m\u001b[0;32m   2894\u001b[0m \u001b[1;33m\u001b[0m\u001b[0m\n\u001b[0;32m   2895\u001b[0m         \u001b[1;32mif\u001b[0m \u001b[0mtolerance\u001b[0m \u001b[1;32mis\u001b[0m \u001b[1;32mnot\u001b[0m \u001b[1;32mNone\u001b[0m\u001b[1;33m:\u001b[0m\u001b[1;33m\u001b[0m\u001b[1;33m\u001b[0m\u001b[0m\n",
      "\u001b[1;31mKeyError\u001b[0m: 0"
     ]
    }
   ],
   "source": [
    "s = pd.Series(25,index=[111,222,333])\n",
    "print(s)\n",
    "print(s[0])\n",
    "# If the explicit index has numbers, then no implicit indexing is assigned by default because it can cause conflicts."
   ]
  },
  {
   "cell_type": "code",
   "execution_count": 79,
   "metadata": {},
   "outputs": [
    {
     "data": {
      "text/plain": [
       "2    a\n",
       "1    b\n",
       "3    c\n",
       "dtype: object"
      ]
     },
     "execution_count": 79,
     "metadata": {},
     "output_type": "execute_result"
    }
   ],
   "source": [
    "pd.Series( {2:'a' , 1:'b' , 3:'c'} )"
   ]
  },
  {
   "cell_type": "code",
   "execution_count": 80,
   "metadata": {},
   "outputs": [
    {
     "data": {
      "text/plain": [
       "3    c\n",
       "2    a\n",
       "dtype: object"
      ]
     },
     "execution_count": 80,
     "metadata": {},
     "output_type": "execute_result"
    }
   ],
   "source": [
    "pd.Series( {2:'a' , 1:'b' , 3:'c'} , index=[3,2])"
   ]
  },
  {
   "cell_type": "code",
   "execution_count": 81,
   "metadata": {},
   "outputs": [
    {
     "name": "stdout",
     "output_type": "stream",
     "text": [
      "California    38335215\n",
      "Texas         19665634\n",
      "New york      16545697\n",
      "Florida       78954632\n",
      "Illinois      12354698\n",
      "dtype: int64\n"
     ]
    }
   ],
   "source": [
    "# DataFrame : 2D\n",
    "\n",
    "print(population)"
   ]
  },
  {
   "cell_type": "code",
   "execution_count": 82,
   "metadata": {},
   "outputs": [
    {
     "name": "stdout",
     "output_type": "stream",
     "text": [
      "<class 'pandas.core.series.Series'>\n"
     ]
    }
   ],
   "source": [
    "print(type(population))"
   ]
  },
  {
   "cell_type": "code",
   "execution_count": 83,
   "metadata": {},
   "outputs": [
    {
     "data": {
      "text/html": [
       "<div>\n",
       "<style scoped>\n",
       "    .dataframe tbody tr th:only-of-type {\n",
       "        vertical-align: middle;\n",
       "    }\n",
       "\n",
       "    .dataframe tbody tr th {\n",
       "        vertical-align: top;\n",
       "    }\n",
       "\n",
       "    .dataframe thead th {\n",
       "        text-align: right;\n",
       "    }\n",
       "</style>\n",
       "<table border=\"1\" class=\"dataframe\">\n",
       "  <thead>\n",
       "    <tr style=\"text-align: right;\">\n",
       "      <th></th>\n",
       "      <th>0</th>\n",
       "    </tr>\n",
       "  </thead>\n",
       "  <tbody>\n",
       "    <tr>\n",
       "      <th>California</th>\n",
       "      <td>38335215</td>\n",
       "    </tr>\n",
       "    <tr>\n",
       "      <th>Texas</th>\n",
       "      <td>19665634</td>\n",
       "    </tr>\n",
       "    <tr>\n",
       "      <th>New york</th>\n",
       "      <td>16545697</td>\n",
       "    </tr>\n",
       "    <tr>\n",
       "      <th>Florida</th>\n",
       "      <td>78954632</td>\n",
       "    </tr>\n",
       "    <tr>\n",
       "      <th>Illinois</th>\n",
       "      <td>12354698</td>\n",
       "    </tr>\n",
       "  </tbody>\n",
       "</table>\n",
       "</div>"
      ],
      "text/plain": [
       "                   0\n",
       "California  38335215\n",
       "Texas       19665634\n",
       "New york    16545697\n",
       "Florida     78954632\n",
       "Illinois    12354698"
      ]
     },
     "execution_count": 83,
     "metadata": {},
     "output_type": "execute_result"
    }
   ],
   "source": [
    "pd.DataFrame(population)"
   ]
  },
  {
   "cell_type": "code",
   "execution_count": 84,
   "metadata": {},
   "outputs": [
    {
     "data": {
      "text/html": [
       "<div>\n",
       "<style scoped>\n",
       "    .dataframe tbody tr th:only-of-type {\n",
       "        vertical-align: middle;\n",
       "    }\n",
       "\n",
       "    .dataframe tbody tr th {\n",
       "        vertical-align: top;\n",
       "    }\n",
       "\n",
       "    .dataframe thead th {\n",
       "        text-align: right;\n",
       "    }\n",
       "</style>\n",
       "<table border=\"1\" class=\"dataframe\">\n",
       "  <thead>\n",
       "    <tr style=\"text-align: right;\">\n",
       "      <th></th>\n",
       "      <th>population</th>\n",
       "    </tr>\n",
       "  </thead>\n",
       "  <tbody>\n",
       "    <tr>\n",
       "      <th>California</th>\n",
       "      <td>38335215</td>\n",
       "    </tr>\n",
       "    <tr>\n",
       "      <th>Texas</th>\n",
       "      <td>19665634</td>\n",
       "    </tr>\n",
       "    <tr>\n",
       "      <th>New york</th>\n",
       "      <td>16545697</td>\n",
       "    </tr>\n",
       "    <tr>\n",
       "      <th>Florida</th>\n",
       "      <td>78954632</td>\n",
       "    </tr>\n",
       "    <tr>\n",
       "      <th>Illinois</th>\n",
       "      <td>12354698</td>\n",
       "    </tr>\n",
       "  </tbody>\n",
       "</table>\n",
       "</div>"
      ],
      "text/plain": [
       "            population\n",
       "California    38335215\n",
       "Texas         19665634\n",
       "New york      16545697\n",
       "Florida       78954632\n",
       "Illinois      12354698"
      ]
     },
     "execution_count": 84,
     "metadata": {},
     "output_type": "execute_result"
    }
   ],
   "source": [
    "pd.DataFrame(population , columns=['population'])"
   ]
  },
  {
   "cell_type": "code",
   "execution_count": 85,
   "metadata": {},
   "outputs": [
    {
     "data": {
      "text/html": [
       "<div>\n",
       "<style scoped>\n",
       "    .dataframe tbody tr th:only-of-type {\n",
       "        vertical-align: middle;\n",
       "    }\n",
       "\n",
       "    .dataframe tbody tr th {\n",
       "        vertical-align: top;\n",
       "    }\n",
       "\n",
       "    .dataframe thead th {\n",
       "        text-align: right;\n",
       "    }\n",
       "</style>\n",
       "<table border=\"1\" class=\"dataframe\">\n",
       "  <thead>\n",
       "    <tr style=\"text-align: right;\">\n",
       "      <th></th>\n",
       "      <th>a</th>\n",
       "      <th>b</th>\n",
       "    </tr>\n",
       "  </thead>\n",
       "  <tbody>\n",
       "    <tr>\n",
       "      <th>0</th>\n",
       "      <td>0</td>\n",
       "      <td>0</td>\n",
       "    </tr>\n",
       "    <tr>\n",
       "      <th>1</th>\n",
       "      <td>1</td>\n",
       "      <td>2</td>\n",
       "    </tr>\n",
       "    <tr>\n",
       "      <th>2</th>\n",
       "      <td>2</td>\n",
       "      <td>4</td>\n",
       "    </tr>\n",
       "  </tbody>\n",
       "</table>\n",
       "</div>"
      ],
      "text/plain": [
       "   a  b\n",
       "0  0  0\n",
       "1  1  2\n",
       "2  2  4"
      ]
     },
     "execution_count": 85,
     "metadata": {},
     "output_type": "execute_result"
    }
   ],
   "source": [
    "data = [ {'a':i , 'b':2*i} for i in range(3) ]\n",
    "df = pd.DataFrame(data)\n",
    "df"
   ]
  },
  {
   "cell_type": "code",
   "execution_count": 86,
   "metadata": {},
   "outputs": [],
   "source": [
    "df.columns=[\"Shivani\",\"Sorte\"]"
   ]
  },
  {
   "cell_type": "code",
   "execution_count": 87,
   "metadata": {},
   "outputs": [
    {
     "data": {
      "text/html": [
       "<div>\n",
       "<style scoped>\n",
       "    .dataframe tbody tr th:only-of-type {\n",
       "        vertical-align: middle;\n",
       "    }\n",
       "\n",
       "    .dataframe tbody tr th {\n",
       "        vertical-align: top;\n",
       "    }\n",
       "\n",
       "    .dataframe thead th {\n",
       "        text-align: right;\n",
       "    }\n",
       "</style>\n",
       "<table border=\"1\" class=\"dataframe\">\n",
       "  <thead>\n",
       "    <tr style=\"text-align: right;\">\n",
       "      <th></th>\n",
       "      <th>Shivani</th>\n",
       "      <th>Sorte</th>\n",
       "    </tr>\n",
       "  </thead>\n",
       "  <tbody>\n",
       "    <tr>\n",
       "      <th>0</th>\n",
       "      <td>0</td>\n",
       "      <td>0</td>\n",
       "    </tr>\n",
       "    <tr>\n",
       "      <th>1</th>\n",
       "      <td>1</td>\n",
       "      <td>2</td>\n",
       "    </tr>\n",
       "    <tr>\n",
       "      <th>2</th>\n",
       "      <td>2</td>\n",
       "      <td>4</td>\n",
       "    </tr>\n",
       "  </tbody>\n",
       "</table>\n",
       "</div>"
      ],
      "text/plain": [
       "   Shivani  Sorte\n",
       "0        0      0\n",
       "1        1      2\n",
       "2        2      4"
      ]
     },
     "execution_count": 87,
     "metadata": {},
     "output_type": "execute_result"
    }
   ],
   "source": [
    "df"
   ]
  },
  {
   "cell_type": "code",
   "execution_count": 88,
   "metadata": {},
   "outputs": [
    {
     "data": {
      "text/html": [
       "<div>\n",
       "<style scoped>\n",
       "    .dataframe tbody tr th:only-of-type {\n",
       "        vertical-align: middle;\n",
       "    }\n",
       "\n",
       "    .dataframe tbody tr th {\n",
       "        vertical-align: top;\n",
       "    }\n",
       "\n",
       "    .dataframe thead th {\n",
       "        text-align: right;\n",
       "    }\n",
       "</style>\n",
       "<table border=\"1\" class=\"dataframe\">\n",
       "  <thead>\n",
       "    <tr style=\"text-align: right;\">\n",
       "      <th></th>\n",
       "      <th>a</th>\n",
       "      <th>b</th>\n",
       "    </tr>\n",
       "  </thead>\n",
       "  <tbody>\n",
       "    <tr>\n",
       "      <th>X</th>\n",
       "      <td>0</td>\n",
       "      <td>0</td>\n",
       "    </tr>\n",
       "    <tr>\n",
       "      <th>Y</th>\n",
       "      <td>1</td>\n",
       "      <td>2</td>\n",
       "    </tr>\n",
       "    <tr>\n",
       "      <th>Z</th>\n",
       "      <td>2</td>\n",
       "      <td>4</td>\n",
       "    </tr>\n",
       "  </tbody>\n",
       "</table>\n",
       "</div>"
      ],
      "text/plain": [
       "   a  b\n",
       "X  0  0\n",
       "Y  1  2\n",
       "Z  2  4"
      ]
     },
     "execution_count": 88,
     "metadata": {},
     "output_type": "execute_result"
    }
   ],
   "source": [
    "data = [ {'a':i , 'b':2*i} for i in range(3) ]\n",
    "df = pd.DataFrame(data,index=['X','Y','Z'])\n",
    "df"
   ]
  },
  {
   "cell_type": "code",
   "execution_count": 89,
   "metadata": {},
   "outputs": [
    {
     "data": {
      "text/html": [
       "<div>\n",
       "<style scoped>\n",
       "    .dataframe tbody tr th:only-of-type {\n",
       "        vertical-align: middle;\n",
       "    }\n",
       "\n",
       "    .dataframe tbody tr th {\n",
       "        vertical-align: top;\n",
       "    }\n",
       "\n",
       "    .dataframe thead th {\n",
       "        text-align: right;\n",
       "    }\n",
       "</style>\n",
       "<table border=\"1\" class=\"dataframe\">\n",
       "  <thead>\n",
       "    <tr style=\"text-align: right;\">\n",
       "      <th></th>\n",
       "      <th>Shivani</th>\n",
       "      <th>Sorte</th>\n",
       "    </tr>\n",
       "  </thead>\n",
       "  <tbody>\n",
       "    <tr>\n",
       "      <th>X</th>\n",
       "      <td>0</td>\n",
       "      <td>0</td>\n",
       "    </tr>\n",
       "    <tr>\n",
       "      <th>Y</th>\n",
       "      <td>1</td>\n",
       "      <td>2</td>\n",
       "    </tr>\n",
       "    <tr>\n",
       "      <th>Z</th>\n",
       "      <td>2</td>\n",
       "      <td>4</td>\n",
       "    </tr>\n",
       "  </tbody>\n",
       "</table>\n",
       "</div>"
      ],
      "text/plain": [
       "   Shivani  Sorte\n",
       "X        0      0\n",
       "Y        1      2\n",
       "Z        2      4"
      ]
     },
     "execution_count": 89,
     "metadata": {},
     "output_type": "execute_result"
    }
   ],
   "source": [
    "df.columns = [\"Shivani\",\"Sorte\"]\n",
    "df"
   ]
  },
  {
   "cell_type": "code",
   "execution_count": 90,
   "metadata": {},
   "outputs": [
    {
     "data": {
      "text/plain": [
       "Index(['Shivani', 'Sorte'], dtype='object')"
      ]
     },
     "execution_count": 90,
     "metadata": {},
     "output_type": "execute_result"
    }
   ],
   "source": [
    "df.columns"
   ]
  },
  {
   "cell_type": "code",
   "execution_count": 91,
   "metadata": {},
   "outputs": [
    {
     "data": {
      "text/plain": [
       "pandas.core.indexes.base.Index"
      ]
     },
     "execution_count": 91,
     "metadata": {},
     "output_type": "execute_result"
    }
   ],
   "source": [
    "type(df.columns)"
   ]
  },
  {
   "cell_type": "code",
   "execution_count": 92,
   "metadata": {},
   "outputs": [
    {
     "data": {
      "text/plain": [
       "['Shivani', 'Sorte']"
      ]
     },
     "execution_count": 92,
     "metadata": {},
     "output_type": "execute_result"
    }
   ],
   "source": [
    "list(df.columns)"
   ]
  },
  {
   "cell_type": "code",
   "execution_count": 93,
   "metadata": {},
   "outputs": [
    {
     "data": {
      "text/plain": [
       "{'Shivani', 'Sorte'}"
      ]
     },
     "execution_count": 93,
     "metadata": {},
     "output_type": "execute_result"
    }
   ],
   "source": [
    "set(df.columns)"
   ]
  },
  {
   "cell_type": "markdown",
   "metadata": {},
   "source": [
    "# Indexers: loc and iloc"
   ]
  },
  {
   "cell_type": "code",
   "execution_count": 94,
   "metadata": {},
   "outputs": [],
   "source": [
    "data = pd.Series(['a','b','c'], index=[1,3,5])"
   ]
  },
  {
   "cell_type": "code",
   "execution_count": 95,
   "metadata": {},
   "outputs": [
    {
     "data": {
      "text/plain": [
       "1    a\n",
       "3    b\n",
       "5    c\n",
       "dtype: object"
      ]
     },
     "execution_count": 95,
     "metadata": {},
     "output_type": "execute_result"
    }
   ],
   "source": [
    "data"
   ]
  },
  {
   "cell_type": "code",
   "execution_count": 96,
   "metadata": {},
   "outputs": [
    {
     "data": {
      "text/plain": [
       "'a'"
      ]
     },
     "execution_count": 96,
     "metadata": {},
     "output_type": "execute_result"
    }
   ],
   "source": [
    "# Indexing -> Pandas uses Explicit Index\n",
    "data[1]"
   ]
  },
  {
   "cell_type": "code",
   "execution_count": 97,
   "metadata": {},
   "outputs": [
    {
     "data": {
      "text/plain": [
       "3    b\n",
       "5    c\n",
       "dtype: object"
      ]
     },
     "execution_count": 97,
     "metadata": {},
     "output_type": "execute_result"
    }
   ],
   "source": [
    "# Slicing -> Pandas uses Implicit Index\n",
    "data[1:3]"
   ]
  },
  {
   "cell_type": "code",
   "execution_count": 98,
   "metadata": {},
   "outputs": [
    {
     "data": {
      "text/plain": [
       "1    a\n",
       "3    b\n",
       "5    c\n",
       "dtype: object"
      ]
     },
     "execution_count": 98,
     "metadata": {},
     "output_type": "execute_result"
    }
   ],
   "source": [
    "# this issue can be solved using loc and iloc\n",
    "data"
   ]
  },
  {
   "cell_type": "code",
   "execution_count": 99,
   "metadata": {},
   "outputs": [
    {
     "data": {
      "text/plain": [
       "'a'"
      ]
     },
     "execution_count": 99,
     "metadata": {},
     "output_type": "execute_result"
    }
   ],
   "source": [
    "data.loc[1]"
   ]
  },
  {
   "cell_type": "code",
   "execution_count": 100,
   "metadata": {},
   "outputs": [
    {
     "data": {
      "text/plain": [
       "1    a\n",
       "3    b\n",
       "dtype: object"
      ]
     },
     "execution_count": 100,
     "metadata": {},
     "output_type": "execute_result"
    }
   ],
   "source": [
    "data.loc[1:3]"
   ]
  },
  {
   "cell_type": "code",
   "execution_count": 101,
   "metadata": {},
   "outputs": [
    {
     "data": {
      "text/plain": [
       "'b'"
      ]
     },
     "execution_count": 101,
     "metadata": {},
     "output_type": "execute_result"
    }
   ],
   "source": [
    "data.iloc[1]"
   ]
  },
  {
   "cell_type": "code",
   "execution_count": 102,
   "metadata": {},
   "outputs": [
    {
     "data": {
      "text/plain": [
       "3    b\n",
       "5    c\n",
       "dtype: object"
      ]
     },
     "execution_count": 102,
     "metadata": {},
     "output_type": "execute_result"
    }
   ],
   "source": [
    "data.iloc[1:3]"
   ]
  },
  {
   "cell_type": "raw",
   "metadata": {},
   "source": [
    "Data Sets"
   ]
  },
  {
   "cell_type": "code",
   "execution_count": 103,
   "metadata": {},
   "outputs": [
    {
     "data": {
      "text/html": [
       "<div>\n",
       "<style scoped>\n",
       "    .dataframe tbody tr th:only-of-type {\n",
       "        vertical-align: middle;\n",
       "    }\n",
       "\n",
       "    .dataframe tbody tr th {\n",
       "        vertical-align: top;\n",
       "    }\n",
       "\n",
       "    .dataframe thead th {\n",
       "        text-align: right;\n",
       "    }\n",
       "</style>\n",
       "<table border=\"1\" class=\"dataframe\">\n",
       "  <thead>\n",
       "    <tr style=\"text-align: right;\">\n",
       "      <th></th>\n",
       "      <th>Name</th>\n",
       "      <th>OverallGrade</th>\n",
       "      <th>Obedient</th>\n",
       "      <th>ResearchScore</th>\n",
       "      <th>ProjectScore</th>\n",
       "      <th>Recommend</th>\n",
       "    </tr>\n",
       "  </thead>\n",
       "  <tbody>\n",
       "    <tr>\n",
       "      <th>0</th>\n",
       "      <td>Henry</td>\n",
       "      <td>A</td>\n",
       "      <td>Y</td>\n",
       "      <td>90</td>\n",
       "      <td>85</td>\n",
       "      <td>Yes</td>\n",
       "    </tr>\n",
       "    <tr>\n",
       "      <th>1</th>\n",
       "      <td>John</td>\n",
       "      <td>C</td>\n",
       "      <td>N</td>\n",
       "      <td>85</td>\n",
       "      <td>51</td>\n",
       "      <td>Yes</td>\n",
       "    </tr>\n",
       "    <tr>\n",
       "      <th>2</th>\n",
       "      <td>David</td>\n",
       "      <td>F</td>\n",
       "      <td>N</td>\n",
       "      <td>10</td>\n",
       "      <td>17</td>\n",
       "      <td>No</td>\n",
       "    </tr>\n",
       "    <tr>\n",
       "      <th>3</th>\n",
       "      <td>Holmes</td>\n",
       "      <td>B</td>\n",
       "      <td>Y</td>\n",
       "      <td>75</td>\n",
       "      <td>71</td>\n",
       "      <td>No</td>\n",
       "    </tr>\n",
       "    <tr>\n",
       "      <th>4</th>\n",
       "      <td>Marvin</td>\n",
       "      <td>E</td>\n",
       "      <td>N</td>\n",
       "      <td>20</td>\n",
       "      <td>30</td>\n",
       "      <td>No</td>\n",
       "    </tr>\n",
       "  </tbody>\n",
       "</table>\n",
       "</div>"
      ],
      "text/plain": [
       "     Name OverallGrade Obedient  ResearchScore  ProjectScore Recommend\n",
       "0   Henry            A        Y             90            85       Yes\n",
       "1    John            C        N             85            51       Yes\n",
       "2   David            F        N             10            17        No\n",
       "3  Holmes            B        Y             75            71        No\n",
       "4  Marvin            E        N             20            30        No"
      ]
     },
     "execution_count": 103,
     "metadata": {},
     "output_type": "execute_result"
    }
   ],
   "source": [
    "data = pd.read_csv(\"student_records.csv\")\n",
    "data.head() #by default shows first 5 values"
   ]
  },
  {
   "cell_type": "code",
   "execution_count": 104,
   "metadata": {},
   "outputs": [
    {
     "data": {
      "text/html": [
       "<div>\n",
       "<style scoped>\n",
       "    .dataframe tbody tr th:only-of-type {\n",
       "        vertical-align: middle;\n",
       "    }\n",
       "\n",
       "    .dataframe tbody tr th {\n",
       "        vertical-align: top;\n",
       "    }\n",
       "\n",
       "    .dataframe thead th {\n",
       "        text-align: right;\n",
       "    }\n",
       "</style>\n",
       "<table border=\"1\" class=\"dataframe\">\n",
       "  <thead>\n",
       "    <tr style=\"text-align: right;\">\n",
       "      <th></th>\n",
       "      <th>Name</th>\n",
       "      <th>OverallGrade</th>\n",
       "      <th>Obedient</th>\n",
       "      <th>ResearchScore</th>\n",
       "      <th>ProjectScore</th>\n",
       "      <th>Recommend</th>\n",
       "    </tr>\n",
       "  </thead>\n",
       "  <tbody>\n",
       "    <tr>\n",
       "      <th>3</th>\n",
       "      <td>Holmes</td>\n",
       "      <td>B</td>\n",
       "      <td>Y</td>\n",
       "      <td>75</td>\n",
       "      <td>71</td>\n",
       "      <td>No</td>\n",
       "    </tr>\n",
       "    <tr>\n",
       "      <th>4</th>\n",
       "      <td>Marvin</td>\n",
       "      <td>E</td>\n",
       "      <td>N</td>\n",
       "      <td>20</td>\n",
       "      <td>30</td>\n",
       "      <td>No</td>\n",
       "    </tr>\n",
       "    <tr>\n",
       "      <th>5</th>\n",
       "      <td>Simon</td>\n",
       "      <td>A</td>\n",
       "      <td>Y</td>\n",
       "      <td>92</td>\n",
       "      <td>79</td>\n",
       "      <td>Yes</td>\n",
       "    </tr>\n",
       "    <tr>\n",
       "      <th>6</th>\n",
       "      <td>Robert</td>\n",
       "      <td>B</td>\n",
       "      <td>Y</td>\n",
       "      <td>60</td>\n",
       "      <td>59</td>\n",
       "      <td>No</td>\n",
       "    </tr>\n",
       "    <tr>\n",
       "      <th>7</th>\n",
       "      <td>Trent</td>\n",
       "      <td>C</td>\n",
       "      <td>Y</td>\n",
       "      <td>75</td>\n",
       "      <td>33</td>\n",
       "      <td>No</td>\n",
       "    </tr>\n",
       "  </tbody>\n",
       "</table>\n",
       "</div>"
      ],
      "text/plain": [
       "     Name OverallGrade Obedient  ResearchScore  ProjectScore Recommend\n",
       "3  Holmes            B        Y             75            71        No\n",
       "4  Marvin            E        N             20            30        No\n",
       "5   Simon            A        Y             92            79       Yes\n",
       "6  Robert            B        Y             60            59        No\n",
       "7   Trent            C        Y             75            33        No"
      ]
     },
     "execution_count": 104,
     "metadata": {},
     "output_type": "execute_result"
    }
   ],
   "source": [
    "data.tail()"
   ]
  },
  {
   "cell_type": "code",
   "execution_count": 105,
   "metadata": {},
   "outputs": [
    {
     "data": {
      "text/html": [
       "<div>\n",
       "<style scoped>\n",
       "    .dataframe tbody tr th:only-of-type {\n",
       "        vertical-align: middle;\n",
       "    }\n",
       "\n",
       "    .dataframe tbody tr th {\n",
       "        vertical-align: top;\n",
       "    }\n",
       "\n",
       "    .dataframe thead th {\n",
       "        text-align: right;\n",
       "    }\n",
       "</style>\n",
       "<table border=\"1\" class=\"dataframe\">\n",
       "  <thead>\n",
       "    <tr style=\"text-align: right;\">\n",
       "      <th></th>\n",
       "      <th>Name</th>\n",
       "      <th>OverallGrade</th>\n",
       "      <th>Obedient</th>\n",
       "      <th>ResearchScore</th>\n",
       "      <th>ProjectScore</th>\n",
       "      <th>Recommend</th>\n",
       "    </tr>\n",
       "  </thead>\n",
       "  <tbody>\n",
       "    <tr>\n",
       "      <th>6</th>\n",
       "      <td>Robert</td>\n",
       "      <td>B</td>\n",
       "      <td>Y</td>\n",
       "      <td>60</td>\n",
       "      <td>59</td>\n",
       "      <td>No</td>\n",
       "    </tr>\n",
       "    <tr>\n",
       "      <th>7</th>\n",
       "      <td>Trent</td>\n",
       "      <td>C</td>\n",
       "      <td>Y</td>\n",
       "      <td>75</td>\n",
       "      <td>33</td>\n",
       "      <td>No</td>\n",
       "    </tr>\n",
       "  </tbody>\n",
       "</table>\n",
       "</div>"
      ],
      "text/plain": [
       "     Name OverallGrade Obedient  ResearchScore  ProjectScore Recommend\n",
       "6  Robert            B        Y             60            59        No\n",
       "7   Trent            C        Y             75            33        No"
      ]
     },
     "execution_count": 105,
     "metadata": {},
     "output_type": "execute_result"
    }
   ],
   "source": [
    "data.tail(2)"
   ]
  },
  {
   "cell_type": "code",
   "execution_count": 106,
   "metadata": {},
   "outputs": [
    {
     "data": {
      "text/html": [
       "<div>\n",
       "<style scoped>\n",
       "    .dataframe tbody tr th:only-of-type {\n",
       "        vertical-align: middle;\n",
       "    }\n",
       "\n",
       "    .dataframe tbody tr th {\n",
       "        vertical-align: top;\n",
       "    }\n",
       "\n",
       "    .dataframe thead th {\n",
       "        text-align: right;\n",
       "    }\n",
       "</style>\n",
       "<table border=\"1\" class=\"dataframe\">\n",
       "  <thead>\n",
       "    <tr style=\"text-align: right;\">\n",
       "      <th></th>\n",
       "      <th>Name</th>\n",
       "      <th>OverallGrade</th>\n",
       "      <th>Obedient</th>\n",
       "      <th>ResearchScore</th>\n",
       "      <th>ProjectScore</th>\n",
       "      <th>Recommend</th>\n",
       "    </tr>\n",
       "  </thead>\n",
       "  <tbody>\n",
       "    <tr>\n",
       "      <th>5</th>\n",
       "      <td>Simon</td>\n",
       "      <td>A</td>\n",
       "      <td>Y</td>\n",
       "      <td>92</td>\n",
       "      <td>79</td>\n",
       "      <td>Yes</td>\n",
       "    </tr>\n",
       "  </tbody>\n",
       "</table>\n",
       "</div>"
      ],
      "text/plain": [
       "    Name OverallGrade Obedient  ResearchScore  ProjectScore Recommend\n",
       "5  Simon            A        Y             92            79       Yes"
      ]
     },
     "execution_count": 106,
     "metadata": {},
     "output_type": "execute_result"
    }
   ],
   "source": [
    "data.sample() #any random row"
   ]
  },
  {
   "cell_type": "code",
   "execution_count": 107,
   "metadata": {},
   "outputs": [
    {
     "data": {
      "text/html": [
       "<div>\n",
       "<style scoped>\n",
       "    .dataframe tbody tr th:only-of-type {\n",
       "        vertical-align: middle;\n",
       "    }\n",
       "\n",
       "    .dataframe tbody tr th {\n",
       "        vertical-align: top;\n",
       "    }\n",
       "\n",
       "    .dataframe thead th {\n",
       "        text-align: right;\n",
       "    }\n",
       "</style>\n",
       "<table border=\"1\" class=\"dataframe\">\n",
       "  <thead>\n",
       "    <tr style=\"text-align: right;\">\n",
       "      <th></th>\n",
       "      <th>Name</th>\n",
       "      <th>OverallGrade</th>\n",
       "      <th>Obedient</th>\n",
       "      <th>ResearchScore</th>\n",
       "      <th>ProjectScore</th>\n",
       "      <th>Recommend</th>\n",
       "    </tr>\n",
       "  </thead>\n",
       "  <tbody>\n",
       "    <tr>\n",
       "      <th>2</th>\n",
       "      <td>David</td>\n",
       "      <td>F</td>\n",
       "      <td>N</td>\n",
       "      <td>10</td>\n",
       "      <td>17</td>\n",
       "      <td>No</td>\n",
       "    </tr>\n",
       "    <tr>\n",
       "      <th>0</th>\n",
       "      <td>Henry</td>\n",
       "      <td>A</td>\n",
       "      <td>Y</td>\n",
       "      <td>90</td>\n",
       "      <td>85</td>\n",
       "      <td>Yes</td>\n",
       "    </tr>\n",
       "    <tr>\n",
       "      <th>4</th>\n",
       "      <td>Marvin</td>\n",
       "      <td>E</td>\n",
       "      <td>N</td>\n",
       "      <td>20</td>\n",
       "      <td>30</td>\n",
       "      <td>No</td>\n",
       "    </tr>\n",
       "  </tbody>\n",
       "</table>\n",
       "</div>"
      ],
      "text/plain": [
       "     Name OverallGrade Obedient  ResearchScore  ProjectScore Recommend\n",
       "2   David            F        N             10            17        No\n",
       "0   Henry            A        Y             90            85       Yes\n",
       "4  Marvin            E        N             20            30        No"
      ]
     },
     "execution_count": 107,
     "metadata": {},
     "output_type": "execute_result"
    }
   ],
   "source": [
    "data.sample(3)"
   ]
  },
  {
   "cell_type": "code",
   "execution_count": 109,
   "metadata": {},
   "outputs": [
    {
     "data": {
      "text/html": [
       "<div>\n",
       "<style scoped>\n",
       "    .dataframe tbody tr th:only-of-type {\n",
       "        vertical-align: middle;\n",
       "    }\n",
       "\n",
       "    .dataframe tbody tr th {\n",
       "        vertical-align: top;\n",
       "    }\n",
       "\n",
       "    .dataframe thead th {\n",
       "        text-align: right;\n",
       "    }\n",
       "</style>\n",
       "<table border=\"1\" class=\"dataframe\">\n",
       "  <thead>\n",
       "    <tr style=\"text-align: right;\">\n",
       "      <th></th>\n",
       "      <th>Name</th>\n",
       "      <th>OverallGrade</th>\n",
       "      <th>Obedient</th>\n",
       "      <th>ResearchScore</th>\n",
       "      <th>ProjectScore</th>\n",
       "      <th>Recommend</th>\n",
       "    </tr>\n",
       "  </thead>\n",
       "  <tbody>\n",
       "    <tr>\n",
       "      <th>0</th>\n",
       "      <td>Henry</td>\n",
       "      <td>A</td>\n",
       "      <td>Y</td>\n",
       "      <td>90</td>\n",
       "      <td>85</td>\n",
       "      <td>Yes</td>\n",
       "    </tr>\n",
       "    <tr>\n",
       "      <th>1</th>\n",
       "      <td>John</td>\n",
       "      <td>C</td>\n",
       "      <td>N</td>\n",
       "      <td>85</td>\n",
       "      <td>51</td>\n",
       "      <td>Yes</td>\n",
       "    </tr>\n",
       "  </tbody>\n",
       "</table>\n",
       "</div>"
      ],
      "text/plain": [
       "    Name OverallGrade Obedient  ResearchScore  ProjectScore Recommend\n",
       "0  Henry            A        Y             90            85       Yes\n",
       "1   John            C        N             85            51       Yes"
      ]
     },
     "execution_count": 109,
     "metadata": {},
     "output_type": "execute_result"
    }
   ],
   "source": [
    "data.head(2)"
   ]
  },
  {
   "cell_type": "code",
   "execution_count": 110,
   "metadata": {},
   "outputs": [
    {
     "data": {
      "text/html": [
       "<div>\n",
       "<style scoped>\n",
       "    .dataframe tbody tr th:only-of-type {\n",
       "        vertical-align: middle;\n",
       "    }\n",
       "\n",
       "    .dataframe tbody tr th {\n",
       "        vertical-align: top;\n",
       "    }\n",
       "\n",
       "    .dataframe thead th {\n",
       "        text-align: right;\n",
       "    }\n",
       "</style>\n",
       "<table border=\"1\" class=\"dataframe\">\n",
       "  <thead>\n",
       "    <tr style=\"text-align: right;\">\n",
       "      <th></th>\n",
       "      <th>Name</th>\n",
       "      <th>OverallGrade</th>\n",
       "      <th>Obedient</th>\n",
       "      <th>ResearchScore</th>\n",
       "      <th>ProjectScore</th>\n",
       "      <th>Recommend</th>\n",
       "    </tr>\n",
       "  </thead>\n",
       "  <tbody>\n",
       "    <tr>\n",
       "      <th>5</th>\n",
       "      <td>Simon</td>\n",
       "      <td>A</td>\n",
       "      <td>Y</td>\n",
       "      <td>92</td>\n",
       "      <td>79</td>\n",
       "      <td>Yes</td>\n",
       "    </tr>\n",
       "    <tr>\n",
       "      <th>6</th>\n",
       "      <td>Robert</td>\n",
       "      <td>B</td>\n",
       "      <td>Y</td>\n",
       "      <td>60</td>\n",
       "      <td>59</td>\n",
       "      <td>No</td>\n",
       "    </tr>\n",
       "    <tr>\n",
       "      <th>7</th>\n",
       "      <td>Trent</td>\n",
       "      <td>C</td>\n",
       "      <td>Y</td>\n",
       "      <td>75</td>\n",
       "      <td>33</td>\n",
       "      <td>No</td>\n",
       "    </tr>\n",
       "  </tbody>\n",
       "</table>\n",
       "</div>"
      ],
      "text/plain": [
       "     Name OverallGrade Obedient  ResearchScore  ProjectScore Recommend\n",
       "5   Simon            A        Y             92            79       Yes\n",
       "6  Robert            B        Y             60            59        No\n",
       "7   Trent            C        Y             75            33        No"
      ]
     },
     "execution_count": 110,
     "metadata": {},
     "output_type": "execute_result"
    }
   ],
   "source": [
    "data.tail(3)"
   ]
  },
  {
   "cell_type": "code",
   "execution_count": 111,
   "metadata": {},
   "outputs": [
    {
     "data": {
      "text/html": [
       "<div>\n",
       "<style scoped>\n",
       "    .dataframe tbody tr th:only-of-type {\n",
       "        vertical-align: middle;\n",
       "    }\n",
       "\n",
       "    .dataframe tbody tr th {\n",
       "        vertical-align: top;\n",
       "    }\n",
       "\n",
       "    .dataframe thead th {\n",
       "        text-align: right;\n",
       "    }\n",
       "</style>\n",
       "<table border=\"1\" class=\"dataframe\">\n",
       "  <thead>\n",
       "    <tr style=\"text-align: right;\">\n",
       "      <th></th>\n",
       "      <th>Name</th>\n",
       "      <th>OverallGrade</th>\n",
       "      <th>Obedient</th>\n",
       "      <th>ResearchScore</th>\n",
       "      <th>ProjectScore</th>\n",
       "      <th>Recommend</th>\n",
       "    </tr>\n",
       "  </thead>\n",
       "  <tbody>\n",
       "    <tr>\n",
       "      <th>0</th>\n",
       "      <td>Henry</td>\n",
       "      <td>A</td>\n",
       "      <td>Y</td>\n",
       "      <td>90</td>\n",
       "      <td>85</td>\n",
       "      <td>Yes</td>\n",
       "    </tr>\n",
       "  </tbody>\n",
       "</table>\n",
       "</div>"
      ],
      "text/plain": [
       "    Name OverallGrade Obedient  ResearchScore  ProjectScore Recommend\n",
       "0  Henry            A        Y             90            85       Yes"
      ]
     },
     "execution_count": 111,
     "metadata": {},
     "output_type": "execute_result"
    }
   ],
   "source": [
    "data.sample()"
   ]
  },
  {
   "cell_type": "code",
   "execution_count": 112,
   "metadata": {},
   "outputs": [
    {
     "data": {
      "text/html": [
       "<div>\n",
       "<style scoped>\n",
       "    .dataframe tbody tr th:only-of-type {\n",
       "        vertical-align: middle;\n",
       "    }\n",
       "\n",
       "    .dataframe tbody tr th {\n",
       "        vertical-align: top;\n",
       "    }\n",
       "\n",
       "    .dataframe thead th {\n",
       "        text-align: right;\n",
       "    }\n",
       "</style>\n",
       "<table border=\"1\" class=\"dataframe\">\n",
       "  <thead>\n",
       "    <tr style=\"text-align: right;\">\n",
       "      <th></th>\n",
       "      <th>Name</th>\n",
       "      <th>OverallGrade</th>\n",
       "      <th>Obedient</th>\n",
       "      <th>ResearchScore</th>\n",
       "      <th>ProjectScore</th>\n",
       "      <th>Recommend</th>\n",
       "    </tr>\n",
       "  </thead>\n",
       "  <tbody>\n",
       "    <tr>\n",
       "      <th>1</th>\n",
       "      <td>John</td>\n",
       "      <td>C</td>\n",
       "      <td>N</td>\n",
       "      <td>85</td>\n",
       "      <td>51</td>\n",
       "      <td>Yes</td>\n",
       "    </tr>\n",
       "    <tr>\n",
       "      <th>0</th>\n",
       "      <td>Henry</td>\n",
       "      <td>A</td>\n",
       "      <td>Y</td>\n",
       "      <td>90</td>\n",
       "      <td>85</td>\n",
       "      <td>Yes</td>\n",
       "    </tr>\n",
       "    <tr>\n",
       "      <th>5</th>\n",
       "      <td>Simon</td>\n",
       "      <td>A</td>\n",
       "      <td>Y</td>\n",
       "      <td>92</td>\n",
       "      <td>79</td>\n",
       "      <td>Yes</td>\n",
       "    </tr>\n",
       "  </tbody>\n",
       "</table>\n",
       "</div>"
      ],
      "text/plain": [
       "    Name OverallGrade Obedient  ResearchScore  ProjectScore Recommend\n",
       "1   John            C        N             85            51       Yes\n",
       "0  Henry            A        Y             90            85       Yes\n",
       "5  Simon            A        Y             92            79       Yes"
      ]
     },
     "execution_count": 112,
     "metadata": {},
     "output_type": "execute_result"
    }
   ],
   "source": [
    "data.sample(3)"
   ]
  },
  {
   "cell_type": "code",
   "execution_count": 113,
   "metadata": {},
   "outputs": [
    {
     "data": {
      "text/plain": [
       "Index(['Name', 'OverallGrade', 'Obedient', 'ResearchScore', 'ProjectScore',\n",
       "       'Recommend'],\n",
       "      dtype='object')"
      ]
     },
     "execution_count": 113,
     "metadata": {},
     "output_type": "execute_result"
    }
   ],
   "source": [
    "data.columns"
   ]
  },
  {
   "cell_type": "code",
   "execution_count": 114,
   "metadata": {},
   "outputs": [
    {
     "data": {
      "text/html": [
       "<div>\n",
       "<style scoped>\n",
       "    .dataframe tbody tr th:only-of-type {\n",
       "        vertical-align: middle;\n",
       "    }\n",
       "\n",
       "    .dataframe tbody tr th {\n",
       "        vertical-align: top;\n",
       "    }\n",
       "\n",
       "    .dataframe thead th {\n",
       "        text-align: right;\n",
       "    }\n",
       "</style>\n",
       "<table border=\"1\" class=\"dataframe\">\n",
       "  <thead>\n",
       "    <tr style=\"text-align: right;\">\n",
       "      <th></th>\n",
       "      <th>Name</th>\n",
       "      <th>OverallGrade</th>\n",
       "      <th>Obedient</th>\n",
       "      <th>ResearchScore</th>\n",
       "      <th>ProjectScore</th>\n",
       "      <th>Recommend</th>\n",
       "    </tr>\n",
       "  </thead>\n",
       "  <tbody>\n",
       "    <tr>\n",
       "      <th>0</th>\n",
       "      <td>Henry</td>\n",
       "      <td>A</td>\n",
       "      <td>Y</td>\n",
       "      <td>90</td>\n",
       "      <td>85</td>\n",
       "      <td>Yes</td>\n",
       "    </tr>\n",
       "    <tr>\n",
       "      <th>1</th>\n",
       "      <td>John</td>\n",
       "      <td>C</td>\n",
       "      <td>N</td>\n",
       "      <td>85</td>\n",
       "      <td>51</td>\n",
       "      <td>Yes</td>\n",
       "    </tr>\n",
       "    <tr>\n",
       "      <th>2</th>\n",
       "      <td>David</td>\n",
       "      <td>F</td>\n",
       "      <td>N</td>\n",
       "      <td>10</td>\n",
       "      <td>17</td>\n",
       "      <td>No</td>\n",
       "    </tr>\n",
       "    <tr>\n",
       "      <th>3</th>\n",
       "      <td>Holmes</td>\n",
       "      <td>B</td>\n",
       "      <td>Y</td>\n",
       "      <td>75</td>\n",
       "      <td>71</td>\n",
       "      <td>No</td>\n",
       "    </tr>\n",
       "    <tr>\n",
       "      <th>4</th>\n",
       "      <td>Marvin</td>\n",
       "      <td>E</td>\n",
       "      <td>N</td>\n",
       "      <td>20</td>\n",
       "      <td>30</td>\n",
       "      <td>No</td>\n",
       "    </tr>\n",
       "  </tbody>\n",
       "</table>\n",
       "</div>"
      ],
      "text/plain": [
       "     Name OverallGrade Obedient  ResearchScore  ProjectScore Recommend\n",
       "0   Henry            A        Y             90            85       Yes\n",
       "1    John            C        N             85            51       Yes\n",
       "2   David            F        N             10            17        No\n",
       "3  Holmes            B        Y             75            71        No\n",
       "4  Marvin            E        N             20            30        No"
      ]
     },
     "execution_count": 114,
     "metadata": {},
     "output_type": "execute_result"
    }
   ],
   "source": [
    "data.head()"
   ]
  },
  {
   "cell_type": "code",
   "execution_count": 115,
   "metadata": {},
   "outputs": [
    {
     "data": {
      "text/plain": [
       "0    85\n",
       "1    51\n",
       "2    17\n",
       "3    71\n",
       "4    30\n",
       "5    79\n",
       "6    59\n",
       "7    33\n",
       "Name: ProjectScore, dtype: int64"
      ]
     },
     "execution_count": 115,
     "metadata": {},
     "output_type": "execute_result"
    }
   ],
   "source": [
    "data['ProjectScore']"
   ]
  },
  {
   "cell_type": "code",
   "execution_count": 116,
   "metadata": {},
   "outputs": [
    {
     "data": {
      "text/plain": [
       "pandas.core.series.Series"
      ]
     },
     "execution_count": 116,
     "metadata": {},
     "output_type": "execute_result"
    }
   ],
   "source": [
    "type(data['ProjectScore'])"
   ]
  },
  {
   "cell_type": "code",
   "execution_count": 117,
   "metadata": {},
   "outputs": [
    {
     "data": {
      "text/plain": [
       "0    85\n",
       "1    51\n",
       "2    17\n",
       "3    71\n",
       "4    30\n",
       "5    79\n",
       "6    59\n",
       "7    33\n",
       "Name: ProjectScore, dtype: int64"
      ]
     },
     "execution_count": 117,
     "metadata": {},
     "output_type": "execute_result"
    }
   ],
   "source": [
    "data.ProjectScore"
   ]
  },
  {
   "cell_type": "code",
   "execution_count": 118,
   "metadata": {},
   "outputs": [
    {
     "data": {
      "text/html": [
       "<div>\n",
       "<style scoped>\n",
       "    .dataframe tbody tr th:only-of-type {\n",
       "        vertical-align: middle;\n",
       "    }\n",
       "\n",
       "    .dataframe tbody tr th {\n",
       "        vertical-align: top;\n",
       "    }\n",
       "\n",
       "    .dataframe thead th {\n",
       "        text-align: right;\n",
       "    }\n",
       "</style>\n",
       "<table border=\"1\" class=\"dataframe\">\n",
       "  <thead>\n",
       "    <tr style=\"text-align: right;\">\n",
       "      <th></th>\n",
       "      <th>Name</th>\n",
       "      <th>OverallGrade</th>\n",
       "      <th>Obedient</th>\n",
       "      <th>ResearchScore</th>\n",
       "      <th>ProjectScore</th>\n",
       "      <th>Recommend</th>\n",
       "    </tr>\n",
       "  </thead>\n",
       "  <tbody>\n",
       "    <tr>\n",
       "      <th>0</th>\n",
       "      <td>Henry</td>\n",
       "      <td>A</td>\n",
       "      <td>Y</td>\n",
       "      <td>90</td>\n",
       "      <td>85</td>\n",
       "      <td>Yes</td>\n",
       "    </tr>\n",
       "    <tr>\n",
       "      <th>1</th>\n",
       "      <td>John</td>\n",
       "      <td>C</td>\n",
       "      <td>N</td>\n",
       "      <td>85</td>\n",
       "      <td>51</td>\n",
       "      <td>Yes</td>\n",
       "    </tr>\n",
       "    <tr>\n",
       "      <th>2</th>\n",
       "      <td>David</td>\n",
       "      <td>F</td>\n",
       "      <td>N</td>\n",
       "      <td>10</td>\n",
       "      <td>17</td>\n",
       "      <td>No</td>\n",
       "    </tr>\n",
       "    <tr>\n",
       "      <th>3</th>\n",
       "      <td>Holmes</td>\n",
       "      <td>B</td>\n",
       "      <td>Y</td>\n",
       "      <td>75</td>\n",
       "      <td>71</td>\n",
       "      <td>No</td>\n",
       "    </tr>\n",
       "    <tr>\n",
       "      <th>4</th>\n",
       "      <td>Marvin</td>\n",
       "      <td>E</td>\n",
       "      <td>N</td>\n",
       "      <td>20</td>\n",
       "      <td>30</td>\n",
       "      <td>No</td>\n",
       "    </tr>\n",
       "    <tr>\n",
       "      <th>5</th>\n",
       "      <td>Simon</td>\n",
       "      <td>A</td>\n",
       "      <td>Y</td>\n",
       "      <td>92</td>\n",
       "      <td>79</td>\n",
       "      <td>Yes</td>\n",
       "    </tr>\n",
       "    <tr>\n",
       "      <th>6</th>\n",
       "      <td>Robert</td>\n",
       "      <td>B</td>\n",
       "      <td>Y</td>\n",
       "      <td>60</td>\n",
       "      <td>59</td>\n",
       "      <td>No</td>\n",
       "    </tr>\n",
       "    <tr>\n",
       "      <th>7</th>\n",
       "      <td>Trent</td>\n",
       "      <td>C</td>\n",
       "      <td>Y</td>\n",
       "      <td>75</td>\n",
       "      <td>33</td>\n",
       "      <td>No</td>\n",
       "    </tr>\n",
       "  </tbody>\n",
       "</table>\n",
       "</div>"
      ],
      "text/plain": [
       "     Name OverallGrade Obedient  ResearchScore  ProjectScore Recommend\n",
       "0   Henry            A        Y             90            85       Yes\n",
       "1    John            C        N             85            51       Yes\n",
       "2   David            F        N             10            17        No\n",
       "3  Holmes            B        Y             75            71        No\n",
       "4  Marvin            E        N             20            30        No\n",
       "5   Simon            A        Y             92            79       Yes\n",
       "6  Robert            B        Y             60            59        No\n",
       "7   Trent            C        Y             75            33        No"
      ]
     },
     "execution_count": 118,
     "metadata": {},
     "output_type": "execute_result"
    }
   ],
   "source": [
    "data"
   ]
  },
  {
   "cell_type": "raw",
   "metadata": {},
   "source": [
    "How to access a csv that is not in the present dir?\n",
    "=> pd.read_csv(\"./folder/temp.csv) \n",
    ". represents the present dir"
   ]
  },
  {
   "cell_type": "code",
   "execution_count": 156,
   "metadata": {},
   "outputs": [
    {
     "data": {
      "text/html": [
       "<div>\n",
       "<style scoped>\n",
       "    .dataframe tbody tr th:only-of-type {\n",
       "        vertical-align: middle;\n",
       "    }\n",
       "\n",
       "    .dataframe tbody tr th {\n",
       "        vertical-align: top;\n",
       "    }\n",
       "\n",
       "    .dataframe thead th {\n",
       "        text-align: right;\n",
       "    }\n",
       "</style>\n",
       "<table border=\"1\" class=\"dataframe\">\n",
       "  <thead>\n",
       "    <tr style=\"text-align: right;\">\n",
       "      <th></th>\n",
       "      <th>Name</th>\n",
       "      <th>OverallGrade</th>\n",
       "    </tr>\n",
       "  </thead>\n",
       "  <tbody>\n",
       "    <tr>\n",
       "      <th>0</th>\n",
       "      <td>Henry</td>\n",
       "      <td>A</td>\n",
       "    </tr>\n",
       "    <tr>\n",
       "      <th>1</th>\n",
       "      <td>John</td>\n",
       "      <td>C</td>\n",
       "    </tr>\n",
       "    <tr>\n",
       "      <th>2</th>\n",
       "      <td>David</td>\n",
       "      <td>F</td>\n",
       "    </tr>\n",
       "    <tr>\n",
       "      <th>3</th>\n",
       "      <td>Holmes</td>\n",
       "      <td>B</td>\n",
       "    </tr>\n",
       "    <tr>\n",
       "      <th>4</th>\n",
       "      <td>Marvin</td>\n",
       "      <td>E</td>\n",
       "    </tr>\n",
       "  </tbody>\n",
       "</table>\n",
       "</div>"
      ],
      "text/plain": [
       "     Name OverallGrade\n",
       "0   Henry            A\n",
       "1    John            C\n",
       "2   David            F\n",
       "3  Holmes            B\n",
       "4  Marvin            E"
      ]
     },
     "execution_count": 156,
     "metadata": {},
     "output_type": "execute_result"
    }
   ],
   "source": [
    "data.iloc[ :5 , :2 ] # row from 0 to 5-1 and columns from 0 to 2-1"
   ]
  },
  {
   "cell_type": "code",
   "execution_count": 120,
   "metadata": {},
   "outputs": [
    {
     "data": {
      "text/html": [
       "<div>\n",
       "<style scoped>\n",
       "    .dataframe tbody tr th:only-of-type {\n",
       "        vertical-align: middle;\n",
       "    }\n",
       "\n",
       "    .dataframe tbody tr th {\n",
       "        vertical-align: top;\n",
       "    }\n",
       "\n",
       "    .dataframe thead th {\n",
       "        text-align: right;\n",
       "    }\n",
       "</style>\n",
       "<table border=\"1\" class=\"dataframe\">\n",
       "  <thead>\n",
       "    <tr style=\"text-align: right;\">\n",
       "      <th></th>\n",
       "      <th>Name</th>\n",
       "      <th>OverallGrade</th>\n",
       "      <th>Obedient</th>\n",
       "      <th>ResearchScore</th>\n",
       "      <th>ProjectScore</th>\n",
       "      <th>Recommend</th>\n",
       "    </tr>\n",
       "  </thead>\n",
       "  <tbody>\n",
       "    <tr>\n",
       "      <th>0</th>\n",
       "      <td>Henry</td>\n",
       "      <td>A</td>\n",
       "      <td>Y</td>\n",
       "      <td>90</td>\n",
       "      <td>85</td>\n",
       "      <td>Yes</td>\n",
       "    </tr>\n",
       "    <tr>\n",
       "      <th>1</th>\n",
       "      <td>John</td>\n",
       "      <td>C</td>\n",
       "      <td>N</td>\n",
       "      <td>85</td>\n",
       "      <td>51</td>\n",
       "      <td>Yes</td>\n",
       "    </tr>\n",
       "    <tr>\n",
       "      <th>2</th>\n",
       "      <td>David</td>\n",
       "      <td>F</td>\n",
       "      <td>N</td>\n",
       "      <td>10</td>\n",
       "      <td>17</td>\n",
       "      <td>No</td>\n",
       "    </tr>\n",
       "    <tr>\n",
       "      <th>3</th>\n",
       "      <td>Holmes</td>\n",
       "      <td>B</td>\n",
       "      <td>Y</td>\n",
       "      <td>75</td>\n",
       "      <td>71</td>\n",
       "      <td>No</td>\n",
       "    </tr>\n",
       "    <tr>\n",
       "      <th>4</th>\n",
       "      <td>Marvin</td>\n",
       "      <td>E</td>\n",
       "      <td>N</td>\n",
       "      <td>20</td>\n",
       "      <td>30</td>\n",
       "      <td>No</td>\n",
       "    </tr>\n",
       "    <tr>\n",
       "      <th>5</th>\n",
       "      <td>Simon</td>\n",
       "      <td>A</td>\n",
       "      <td>Y</td>\n",
       "      <td>92</td>\n",
       "      <td>79</td>\n",
       "      <td>Yes</td>\n",
       "    </tr>\n",
       "    <tr>\n",
       "      <th>6</th>\n",
       "      <td>Robert</td>\n",
       "      <td>B</td>\n",
       "      <td>Y</td>\n",
       "      <td>60</td>\n",
       "      <td>59</td>\n",
       "      <td>No</td>\n",
       "    </tr>\n",
       "    <tr>\n",
       "      <th>7</th>\n",
       "      <td>Trent</td>\n",
       "      <td>C</td>\n",
       "      <td>Y</td>\n",
       "      <td>75</td>\n",
       "      <td>33</td>\n",
       "      <td>No</td>\n",
       "    </tr>\n",
       "  </tbody>\n",
       "</table>\n",
       "</div>"
      ],
      "text/plain": [
       "     Name OverallGrade Obedient  ResearchScore  ProjectScore Recommend\n",
       "0   Henry            A        Y             90            85       Yes\n",
       "1    John            C        N             85            51       Yes\n",
       "2   David            F        N             10            17        No\n",
       "3  Holmes            B        Y             75            71        No\n",
       "4  Marvin            E        N             20            30        No\n",
       "5   Simon            A        Y             92            79       Yes\n",
       "6  Robert            B        Y             60            59        No\n",
       "7   Trent            C        Y             75            33        No"
      ]
     },
     "execution_count": 120,
     "metadata": {},
     "output_type": "execute_result"
    }
   ],
   "source": [
    "data"
   ]
  },
  {
   "cell_type": "code",
   "execution_count": 121,
   "metadata": {},
   "outputs": [
    {
     "data": {
      "text/plain": [
       "array([['Henry', 'A', 'Y', 90, 85, 'Yes'],\n",
       "       ['John', 'C', 'N', 85, 51, 'Yes'],\n",
       "       ['David', 'F', 'N', 10, 17, 'No'],\n",
       "       ['Holmes', 'B', 'Y', 75, 71, 'No'],\n",
       "       ['Marvin', 'E', 'N', 20, 30, 'No'],\n",
       "       ['Simon', 'A', 'Y', 92, 79, 'Yes'],\n",
       "       ['Robert', 'B', 'Y', 60, 59, 'No'],\n",
       "       ['Trent', 'C', 'Y', 75, 33, 'No']], dtype=object)"
      ]
     },
     "execution_count": 121,
     "metadata": {},
     "output_type": "execute_result"
    }
   ],
   "source": [
    "data.values"
   ]
  },
  {
   "cell_type": "code",
   "execution_count": 122,
   "metadata": {},
   "outputs": [
    {
     "data": {
      "text/plain": [
       "numpy.ndarray"
      ]
     },
     "execution_count": 122,
     "metadata": {},
     "output_type": "execute_result"
    }
   ],
   "source": [
    "type(data.values)"
   ]
  },
  {
   "cell_type": "code",
   "execution_count": 159,
   "metadata": {},
   "outputs": [
    {
     "data": {
      "text/html": [
       "<div>\n",
       "<style scoped>\n",
       "    .dataframe tbody tr th:only-of-type {\n",
       "        vertical-align: middle;\n",
       "    }\n",
       "\n",
       "    .dataframe tbody tr th {\n",
       "        vertical-align: top;\n",
       "    }\n",
       "\n",
       "    .dataframe thead th {\n",
       "        text-align: right;\n",
       "    }\n",
       "</style>\n",
       "<table border=\"1\" class=\"dataframe\">\n",
       "  <thead>\n",
       "    <tr style=\"text-align: right;\">\n",
       "      <th></th>\n",
       "      <th>Obedient</th>\n",
       "      <th>ResearchScore</th>\n",
       "      <th>ProjectScore</th>\n",
       "      <th>TotalScore</th>\n",
       "    </tr>\n",
       "  </thead>\n",
       "  <tbody>\n",
       "    <tr>\n",
       "      <th>count</th>\n",
       "      <td>8.000000</td>\n",
       "      <td>8.000000</td>\n",
       "      <td>8.000000</td>\n",
       "      <td>8.000000</td>\n",
       "    </tr>\n",
       "    <tr>\n",
       "      <th>mean</th>\n",
       "      <td>0.625000</td>\n",
       "      <td>63.375000</td>\n",
       "      <td>53.125000</td>\n",
       "      <td>365.995750</td>\n",
       "    </tr>\n",
       "    <tr>\n",
       "      <th>std</th>\n",
       "      <td>0.517549</td>\n",
       "      <td>31.640559</td>\n",
       "      <td>24.752705</td>\n",
       "      <td>168.570454</td>\n",
       "    </tr>\n",
       "    <tr>\n",
       "      <th>min</th>\n",
       "      <td>0.000000</td>\n",
       "      <td>10.000000</td>\n",
       "      <td>17.000000</td>\n",
       "      <td>84.823000</td>\n",
       "    </tr>\n",
       "    <tr>\n",
       "      <th>25%</th>\n",
       "      <td>0.000000</td>\n",
       "      <td>50.000000</td>\n",
       "      <td>32.250000</td>\n",
       "      <td>293.739000</td>\n",
       "    </tr>\n",
       "    <tr>\n",
       "      <th>50%</th>\n",
       "      <td>1.000000</td>\n",
       "      <td>75.000000</td>\n",
       "      <td>55.000000</td>\n",
       "      <td>400.553500</td>\n",
       "    </tr>\n",
       "    <tr>\n",
       "      <th>75%</th>\n",
       "      <td>1.000000</td>\n",
       "      <td>86.250000</td>\n",
       "      <td>73.000000</td>\n",
       "      <td>478.307750</td>\n",
       "    </tr>\n",
       "    <tr>\n",
       "      <th>max</th>\n",
       "      <td>1.000000</td>\n",
       "      <td>92.000000</td>\n",
       "      <td>85.000000</td>\n",
       "      <td>549.779000</td>\n",
       "    </tr>\n",
       "  </tbody>\n",
       "</table>\n",
       "</div>"
      ],
      "text/plain": [
       "       Obedient  ResearchScore  ProjectScore  TotalScore\n",
       "count  8.000000       8.000000      8.000000    8.000000\n",
       "mean   0.625000      63.375000     53.125000  365.995750\n",
       "std    0.517549      31.640559     24.752705  168.570454\n",
       "min    0.000000      10.000000     17.000000   84.823000\n",
       "25%    0.000000      50.000000     32.250000  293.739000\n",
       "50%    1.000000      75.000000     55.000000  400.553500\n",
       "75%    1.000000      86.250000     73.000000  478.307750\n",
       "max    1.000000      92.000000     85.000000  549.779000"
      ]
     },
     "execution_count": 159,
     "metadata": {},
     "output_type": "execute_result"
    }
   ],
   "source": [
    "data.describe() #summary of all the numeric columns, std- standard deviation, 50%- median"
   ]
  },
  {
   "cell_type": "code",
   "execution_count": 124,
   "metadata": {},
   "outputs": [
    {
     "data": {
      "text/html": [
       "<div>\n",
       "<style scoped>\n",
       "    .dataframe tbody tr th:only-of-type {\n",
       "        vertical-align: middle;\n",
       "    }\n",
       "\n",
       "    .dataframe tbody tr th {\n",
       "        vertical-align: top;\n",
       "    }\n",
       "\n",
       "    .dataframe thead th {\n",
       "        text-align: right;\n",
       "    }\n",
       "</style>\n",
       "<table border=\"1\" class=\"dataframe\">\n",
       "  <thead>\n",
       "    <tr style=\"text-align: right;\">\n",
       "      <th></th>\n",
       "      <th>Name</th>\n",
       "      <th>OverallGrade</th>\n",
       "      <th>Obedient</th>\n",
       "      <th>ResearchScore</th>\n",
       "      <th>ProjectScore</th>\n",
       "      <th>Recommend</th>\n",
       "    </tr>\n",
       "  </thead>\n",
       "  <tbody>\n",
       "    <tr>\n",
       "      <th>0</th>\n",
       "      <td>Henry</td>\n",
       "      <td>A</td>\n",
       "      <td>Y</td>\n",
       "      <td>90</td>\n",
       "      <td>85</td>\n",
       "      <td>Yes</td>\n",
       "    </tr>\n",
       "    <tr>\n",
       "      <th>1</th>\n",
       "      <td>John</td>\n",
       "      <td>C</td>\n",
       "      <td>N</td>\n",
       "      <td>85</td>\n",
       "      <td>51</td>\n",
       "      <td>Yes</td>\n",
       "    </tr>\n",
       "    <tr>\n",
       "      <th>2</th>\n",
       "      <td>David</td>\n",
       "      <td>F</td>\n",
       "      <td>N</td>\n",
       "      <td>10</td>\n",
       "      <td>17</td>\n",
       "      <td>No</td>\n",
       "    </tr>\n",
       "    <tr>\n",
       "      <th>3</th>\n",
       "      <td>Holmes</td>\n",
       "      <td>B</td>\n",
       "      <td>Y</td>\n",
       "      <td>75</td>\n",
       "      <td>71</td>\n",
       "      <td>No</td>\n",
       "    </tr>\n",
       "    <tr>\n",
       "      <th>4</th>\n",
       "      <td>Marvin</td>\n",
       "      <td>E</td>\n",
       "      <td>N</td>\n",
       "      <td>20</td>\n",
       "      <td>30</td>\n",
       "      <td>No</td>\n",
       "    </tr>\n",
       "    <tr>\n",
       "      <th>5</th>\n",
       "      <td>Simon</td>\n",
       "      <td>A</td>\n",
       "      <td>Y</td>\n",
       "      <td>92</td>\n",
       "      <td>79</td>\n",
       "      <td>Yes</td>\n",
       "    </tr>\n",
       "    <tr>\n",
       "      <th>6</th>\n",
       "      <td>Robert</td>\n",
       "      <td>B</td>\n",
       "      <td>Y</td>\n",
       "      <td>60</td>\n",
       "      <td>59</td>\n",
       "      <td>No</td>\n",
       "    </tr>\n",
       "    <tr>\n",
       "      <th>7</th>\n",
       "      <td>Trent</td>\n",
       "      <td>C</td>\n",
       "      <td>Y</td>\n",
       "      <td>75</td>\n",
       "      <td>33</td>\n",
       "      <td>No</td>\n",
       "    </tr>\n",
       "  </tbody>\n",
       "</table>\n",
       "</div>"
      ],
      "text/plain": [
       "     Name OverallGrade Obedient  ResearchScore  ProjectScore Recommend\n",
       "0   Henry            A        Y             90            85       Yes\n",
       "1    John            C        N             85            51       Yes\n",
       "2   David            F        N             10            17        No\n",
       "3  Holmes            B        Y             75            71        No\n",
       "4  Marvin            E        N             20            30        No\n",
       "5   Simon            A        Y             92            79       Yes\n",
       "6  Robert            B        Y             60            59        No\n",
       "7   Trent            C        Y             75            33        No"
      ]
     },
     "execution_count": 124,
     "metadata": {},
     "output_type": "execute_result"
    }
   ],
   "source": [
    "data"
   ]
  },
  {
   "cell_type": "code",
   "execution_count": 125,
   "metadata": {},
   "outputs": [
    {
     "data": {
      "text/plain": [
       "425"
      ]
     },
     "execution_count": 125,
     "metadata": {},
     "output_type": "execute_result"
    }
   ],
   "source": [
    "data['ProjectScore'].sum()"
   ]
  },
  {
   "cell_type": "code",
   "execution_count": 126,
   "metadata": {},
   "outputs": [
    {
     "data": {
      "text/plain": [
       "53.125"
      ]
     },
     "execution_count": 126,
     "metadata": {},
     "output_type": "execute_result"
    }
   ],
   "source": [
    "data['ProjectScore'].mean()"
   ]
  },
  {
   "cell_type": "code",
   "execution_count": 127,
   "metadata": {},
   "outputs": [
    {
     "data": {
      "text/plain": [
       "(8, 6)"
      ]
     },
     "execution_count": 127,
     "metadata": {},
     "output_type": "execute_result"
    }
   ],
   "source": [
    "data.shape"
   ]
  },
  {
   "cell_type": "code",
   "execution_count": 128,
   "metadata": {},
   "outputs": [
    {
     "data": {
      "text/html": [
       "<div>\n",
       "<style scoped>\n",
       "    .dataframe tbody tr th:only-of-type {\n",
       "        vertical-align: middle;\n",
       "    }\n",
       "\n",
       "    .dataframe tbody tr th {\n",
       "        vertical-align: top;\n",
       "    }\n",
       "\n",
       "    .dataframe thead th {\n",
       "        text-align: right;\n",
       "    }\n",
       "</style>\n",
       "<table border=\"1\" class=\"dataframe\">\n",
       "  <thead>\n",
       "    <tr style=\"text-align: right;\">\n",
       "      <th></th>\n",
       "      <th>Name</th>\n",
       "      <th>OverallGrade</th>\n",
       "      <th>Obedient</th>\n",
       "      <th>ResearchScore</th>\n",
       "      <th>ProjectScore</th>\n",
       "      <th>Recommend</th>\n",
       "    </tr>\n",
       "  </thead>\n",
       "  <tbody>\n",
       "    <tr>\n",
       "      <th>0</th>\n",
       "      <td>Henry</td>\n",
       "      <td>A</td>\n",
       "      <td>Y</td>\n",
       "      <td>90</td>\n",
       "      <td>85</td>\n",
       "      <td>Yes</td>\n",
       "    </tr>\n",
       "    <tr>\n",
       "      <th>1</th>\n",
       "      <td>John</td>\n",
       "      <td>C</td>\n",
       "      <td>N</td>\n",
       "      <td>85</td>\n",
       "      <td>51</td>\n",
       "      <td>Yes</td>\n",
       "    </tr>\n",
       "    <tr>\n",
       "      <th>2</th>\n",
       "      <td>David</td>\n",
       "      <td>F</td>\n",
       "      <td>N</td>\n",
       "      <td>10</td>\n",
       "      <td>17</td>\n",
       "      <td>No</td>\n",
       "    </tr>\n",
       "    <tr>\n",
       "      <th>3</th>\n",
       "      <td>Holmes</td>\n",
       "      <td>B</td>\n",
       "      <td>Y</td>\n",
       "      <td>75</td>\n",
       "      <td>71</td>\n",
       "      <td>No</td>\n",
       "    </tr>\n",
       "    <tr>\n",
       "      <th>4</th>\n",
       "      <td>Marvin</td>\n",
       "      <td>E</td>\n",
       "      <td>N</td>\n",
       "      <td>20</td>\n",
       "      <td>30</td>\n",
       "      <td>No</td>\n",
       "    </tr>\n",
       "  </tbody>\n",
       "</table>\n",
       "</div>"
      ],
      "text/plain": [
       "     Name OverallGrade Obedient  ResearchScore  ProjectScore Recommend\n",
       "0   Henry            A        Y             90            85       Yes\n",
       "1    John            C        N             85            51       Yes\n",
       "2   David            F        N             10            17        No\n",
       "3  Holmes            B        Y             75            71        No\n",
       "4  Marvin            E        N             20            30        No"
      ]
     },
     "execution_count": 128,
     "metadata": {},
     "output_type": "execute_result"
    }
   ],
   "source": [
    "data.head()"
   ]
  },
  {
   "cell_type": "code",
   "execution_count": 129,
   "metadata": {},
   "outputs": [
    {
     "data": {
      "text/html": [
       "<div>\n",
       "<style scoped>\n",
       "    .dataframe tbody tr th:only-of-type {\n",
       "        vertical-align: middle;\n",
       "    }\n",
       "\n",
       "    .dataframe tbody tr th {\n",
       "        vertical-align: top;\n",
       "    }\n",
       "\n",
       "    .dataframe thead th {\n",
       "        text-align: right;\n",
       "    }\n",
       "</style>\n",
       "<table border=\"1\" class=\"dataframe\">\n",
       "  <thead>\n",
       "    <tr style=\"text-align: right;\">\n",
       "      <th></th>\n",
       "      <th>Name</th>\n",
       "      <th>OverallGrade</th>\n",
       "      <th>Obedient</th>\n",
       "      <th>ResearchScore</th>\n",
       "      <th>ProjectScore</th>\n",
       "      <th>Recommend</th>\n",
       "      <th>TotalScore</th>\n",
       "    </tr>\n",
       "  </thead>\n",
       "  <tbody>\n",
       "    <tr>\n",
       "      <th>0</th>\n",
       "      <td>Henry</td>\n",
       "      <td>A</td>\n",
       "      <td>Y</td>\n",
       "      <td>90</td>\n",
       "      <td>85</td>\n",
       "      <td>Yes</td>\n",
       "      <td>175</td>\n",
       "    </tr>\n",
       "    <tr>\n",
       "      <th>1</th>\n",
       "      <td>John</td>\n",
       "      <td>C</td>\n",
       "      <td>N</td>\n",
       "      <td>85</td>\n",
       "      <td>51</td>\n",
       "      <td>Yes</td>\n",
       "      <td>136</td>\n",
       "    </tr>\n",
       "    <tr>\n",
       "      <th>2</th>\n",
       "      <td>David</td>\n",
       "      <td>F</td>\n",
       "      <td>N</td>\n",
       "      <td>10</td>\n",
       "      <td>17</td>\n",
       "      <td>No</td>\n",
       "      <td>27</td>\n",
       "    </tr>\n",
       "    <tr>\n",
       "      <th>3</th>\n",
       "      <td>Holmes</td>\n",
       "      <td>B</td>\n",
       "      <td>Y</td>\n",
       "      <td>75</td>\n",
       "      <td>71</td>\n",
       "      <td>No</td>\n",
       "      <td>146</td>\n",
       "    </tr>\n",
       "    <tr>\n",
       "      <th>4</th>\n",
       "      <td>Marvin</td>\n",
       "      <td>E</td>\n",
       "      <td>N</td>\n",
       "      <td>20</td>\n",
       "      <td>30</td>\n",
       "      <td>No</td>\n",
       "      <td>50</td>\n",
       "    </tr>\n",
       "    <tr>\n",
       "      <th>5</th>\n",
       "      <td>Simon</td>\n",
       "      <td>A</td>\n",
       "      <td>Y</td>\n",
       "      <td>92</td>\n",
       "      <td>79</td>\n",
       "      <td>Yes</td>\n",
       "      <td>171</td>\n",
       "    </tr>\n",
       "    <tr>\n",
       "      <th>6</th>\n",
       "      <td>Robert</td>\n",
       "      <td>B</td>\n",
       "      <td>Y</td>\n",
       "      <td>60</td>\n",
       "      <td>59</td>\n",
       "      <td>No</td>\n",
       "      <td>119</td>\n",
       "    </tr>\n",
       "    <tr>\n",
       "      <th>7</th>\n",
       "      <td>Trent</td>\n",
       "      <td>C</td>\n",
       "      <td>Y</td>\n",
       "      <td>75</td>\n",
       "      <td>33</td>\n",
       "      <td>No</td>\n",
       "      <td>108</td>\n",
       "    </tr>\n",
       "  </tbody>\n",
       "</table>\n",
       "</div>"
      ],
      "text/plain": [
       "     Name OverallGrade Obedient  ResearchScore  ProjectScore Recommend  \\\n",
       "0   Henry            A        Y             90            85       Yes   \n",
       "1    John            C        N             85            51       Yes   \n",
       "2   David            F        N             10            17        No   \n",
       "3  Holmes            B        Y             75            71        No   \n",
       "4  Marvin            E        N             20            30        No   \n",
       "5   Simon            A        Y             92            79       Yes   \n",
       "6  Robert            B        Y             60            59        No   \n",
       "7   Trent            C        Y             75            33        No   \n",
       "\n",
       "   TotalScore  \n",
       "0         175  \n",
       "1         136  \n",
       "2          27  \n",
       "3         146  \n",
       "4          50  \n",
       "5         171  \n",
       "6         119  \n",
       "7         108  "
      ]
     },
     "execution_count": 129,
     "metadata": {},
     "output_type": "execute_result"
    }
   ],
   "source": [
    "data['TotalScore'] = data['ResearchScore'] + data['ProjectScore']\n",
    "data"
   ]
  },
  {
   "cell_type": "code",
   "execution_count": 130,
   "metadata": {},
   "outputs": [],
   "source": [
    "numerical_cols = data.describe().columns"
   ]
  },
  {
   "cell_type": "code",
   "execution_count": 131,
   "metadata": {},
   "outputs": [
    {
     "data": {
      "text/html": [
       "<div>\n",
       "<style scoped>\n",
       "    .dataframe tbody tr th:only-of-type {\n",
       "        vertical-align: middle;\n",
       "    }\n",
       "\n",
       "    .dataframe tbody tr th {\n",
       "        vertical-align: top;\n",
       "    }\n",
       "\n",
       "    .dataframe thead th {\n",
       "        text-align: right;\n",
       "    }\n",
       "</style>\n",
       "<table border=\"1\" class=\"dataframe\">\n",
       "  <thead>\n",
       "    <tr style=\"text-align: right;\">\n",
       "      <th></th>\n",
       "      <th>ResearchScore</th>\n",
       "      <th>ProjectScore</th>\n",
       "      <th>TotalScore</th>\n",
       "    </tr>\n",
       "  </thead>\n",
       "  <tbody>\n",
       "    <tr>\n",
       "      <th>0</th>\n",
       "      <td>90</td>\n",
       "      <td>85</td>\n",
       "      <td>175</td>\n",
       "    </tr>\n",
       "    <tr>\n",
       "      <th>1</th>\n",
       "      <td>85</td>\n",
       "      <td>51</td>\n",
       "      <td>136</td>\n",
       "    </tr>\n",
       "    <tr>\n",
       "      <th>2</th>\n",
       "      <td>10</td>\n",
       "      <td>17</td>\n",
       "      <td>27</td>\n",
       "    </tr>\n",
       "    <tr>\n",
       "      <th>3</th>\n",
       "      <td>75</td>\n",
       "      <td>71</td>\n",
       "      <td>146</td>\n",
       "    </tr>\n",
       "    <tr>\n",
       "      <th>4</th>\n",
       "      <td>20</td>\n",
       "      <td>30</td>\n",
       "      <td>50</td>\n",
       "    </tr>\n",
       "    <tr>\n",
       "      <th>5</th>\n",
       "      <td>92</td>\n",
       "      <td>79</td>\n",
       "      <td>171</td>\n",
       "    </tr>\n",
       "    <tr>\n",
       "      <th>6</th>\n",
       "      <td>60</td>\n",
       "      <td>59</td>\n",
       "      <td>119</td>\n",
       "    </tr>\n",
       "    <tr>\n",
       "      <th>7</th>\n",
       "      <td>75</td>\n",
       "      <td>33</td>\n",
       "      <td>108</td>\n",
       "    </tr>\n",
       "  </tbody>\n",
       "</table>\n",
       "</div>"
      ],
      "text/plain": [
       "   ResearchScore  ProjectScore  TotalScore\n",
       "0             90            85         175\n",
       "1             85            51         136\n",
       "2             10            17          27\n",
       "3             75            71         146\n",
       "4             20            30          50\n",
       "5             92            79         171\n",
       "6             60            59         119\n",
       "7             75            33         108"
      ]
     },
     "execution_count": 131,
     "metadata": {},
     "output_type": "execute_result"
    }
   ],
   "source": [
    "df = data[numerical_cols]\n",
    "df"
   ]
  },
  {
   "cell_type": "code",
   "execution_count": 132,
   "metadata": {},
   "outputs": [],
   "source": [
    "def convert(x):\n",
    "    if x==\"Y\":\n",
    "        return 1\n",
    "    else:\n",
    "        return 0"
   ]
  },
  {
   "cell_type": "code",
   "execution_count": 133,
   "metadata": {},
   "outputs": [
    {
     "data": {
      "text/html": [
       "<div>\n",
       "<style scoped>\n",
       "    .dataframe tbody tr th:only-of-type {\n",
       "        vertical-align: middle;\n",
       "    }\n",
       "\n",
       "    .dataframe tbody tr th {\n",
       "        vertical-align: top;\n",
       "    }\n",
       "\n",
       "    .dataframe thead th {\n",
       "        text-align: right;\n",
       "    }\n",
       "</style>\n",
       "<table border=\"1\" class=\"dataframe\">\n",
       "  <thead>\n",
       "    <tr style=\"text-align: right;\">\n",
       "      <th></th>\n",
       "      <th>Name</th>\n",
       "      <th>OverallGrade</th>\n",
       "      <th>Obedient</th>\n",
       "      <th>ResearchScore</th>\n",
       "      <th>ProjectScore</th>\n",
       "      <th>Recommend</th>\n",
       "      <th>TotalScore</th>\n",
       "    </tr>\n",
       "  </thead>\n",
       "  <tbody>\n",
       "    <tr>\n",
       "      <th>0</th>\n",
       "      <td>Henry</td>\n",
       "      <td>A</td>\n",
       "      <td>1</td>\n",
       "      <td>90</td>\n",
       "      <td>85</td>\n",
       "      <td>Yes</td>\n",
       "      <td>175</td>\n",
       "    </tr>\n",
       "    <tr>\n",
       "      <th>1</th>\n",
       "      <td>John</td>\n",
       "      <td>C</td>\n",
       "      <td>0</td>\n",
       "      <td>85</td>\n",
       "      <td>51</td>\n",
       "      <td>Yes</td>\n",
       "      <td>136</td>\n",
       "    </tr>\n",
       "    <tr>\n",
       "      <th>2</th>\n",
       "      <td>David</td>\n",
       "      <td>F</td>\n",
       "      <td>0</td>\n",
       "      <td>10</td>\n",
       "      <td>17</td>\n",
       "      <td>No</td>\n",
       "      <td>27</td>\n",
       "    </tr>\n",
       "    <tr>\n",
       "      <th>3</th>\n",
       "      <td>Holmes</td>\n",
       "      <td>B</td>\n",
       "      <td>1</td>\n",
       "      <td>75</td>\n",
       "      <td>71</td>\n",
       "      <td>No</td>\n",
       "      <td>146</td>\n",
       "    </tr>\n",
       "    <tr>\n",
       "      <th>4</th>\n",
       "      <td>Marvin</td>\n",
       "      <td>E</td>\n",
       "      <td>0</td>\n",
       "      <td>20</td>\n",
       "      <td>30</td>\n",
       "      <td>No</td>\n",
       "      <td>50</td>\n",
       "    </tr>\n",
       "    <tr>\n",
       "      <th>5</th>\n",
       "      <td>Simon</td>\n",
       "      <td>A</td>\n",
       "      <td>1</td>\n",
       "      <td>92</td>\n",
       "      <td>79</td>\n",
       "      <td>Yes</td>\n",
       "      <td>171</td>\n",
       "    </tr>\n",
       "    <tr>\n",
       "      <th>6</th>\n",
       "      <td>Robert</td>\n",
       "      <td>B</td>\n",
       "      <td>1</td>\n",
       "      <td>60</td>\n",
       "      <td>59</td>\n",
       "      <td>No</td>\n",
       "      <td>119</td>\n",
       "    </tr>\n",
       "    <tr>\n",
       "      <th>7</th>\n",
       "      <td>Trent</td>\n",
       "      <td>C</td>\n",
       "      <td>1</td>\n",
       "      <td>75</td>\n",
       "      <td>33</td>\n",
       "      <td>No</td>\n",
       "      <td>108</td>\n",
       "    </tr>\n",
       "  </tbody>\n",
       "</table>\n",
       "</div>"
      ],
      "text/plain": [
       "     Name OverallGrade  Obedient  ResearchScore  ProjectScore Recommend  \\\n",
       "0   Henry            A         1             90            85       Yes   \n",
       "1    John            C         0             85            51       Yes   \n",
       "2   David            F         0             10            17        No   \n",
       "3  Holmes            B         1             75            71        No   \n",
       "4  Marvin            E         0             20            30        No   \n",
       "5   Simon            A         1             92            79       Yes   \n",
       "6  Robert            B         1             60            59        No   \n",
       "7   Trent            C         1             75            33        No   \n",
       "\n",
       "   TotalScore  \n",
       "0         175  \n",
       "1         136  \n",
       "2          27  \n",
       "3         146  \n",
       "4          50  \n",
       "5         171  \n",
       "6         119  \n",
       "7         108  "
      ]
     },
     "execution_count": 133,
     "metadata": {},
     "output_type": "execute_result"
    }
   ],
   "source": [
    "data['Obedient'] = data['Obedient'].apply(convert)\n",
    "data"
   ]
  },
  {
   "cell_type": "markdown",
   "metadata": {},
   "source": [
    "# Seaborn"
   ]
  },
  {
   "cell_type": "code",
   "execution_count": 134,
   "metadata": {},
   "outputs": [
    {
     "name": "stdout",
     "output_type": "stream",
     "text": [
      "0.11.0\n"
     ]
    }
   ],
   "source": [
    "import seaborn as sns\n",
    "print(sns.__version__)"
   ]
  },
  {
   "cell_type": "code",
   "execution_count": 135,
   "metadata": {},
   "outputs": [],
   "source": [
    "tips = sns.load_dataset('tips')"
   ]
  },
  {
   "cell_type": "code",
   "execution_count": 136,
   "metadata": {},
   "outputs": [
    {
     "data": {
      "text/html": [
       "<div>\n",
       "<style scoped>\n",
       "    .dataframe tbody tr th:only-of-type {\n",
       "        vertical-align: middle;\n",
       "    }\n",
       "\n",
       "    .dataframe tbody tr th {\n",
       "        vertical-align: top;\n",
       "    }\n",
       "\n",
       "    .dataframe thead th {\n",
       "        text-align: right;\n",
       "    }\n",
       "</style>\n",
       "<table border=\"1\" class=\"dataframe\">\n",
       "  <thead>\n",
       "    <tr style=\"text-align: right;\">\n",
       "      <th></th>\n",
       "      <th>total_bill</th>\n",
       "      <th>tip</th>\n",
       "      <th>sex</th>\n",
       "      <th>smoker</th>\n",
       "      <th>day</th>\n",
       "      <th>time</th>\n",
       "      <th>size</th>\n",
       "    </tr>\n",
       "  </thead>\n",
       "  <tbody>\n",
       "    <tr>\n",
       "      <th>0</th>\n",
       "      <td>16.99</td>\n",
       "      <td>1.01</td>\n",
       "      <td>Female</td>\n",
       "      <td>No</td>\n",
       "      <td>Sun</td>\n",
       "      <td>Dinner</td>\n",
       "      <td>2</td>\n",
       "    </tr>\n",
       "    <tr>\n",
       "      <th>1</th>\n",
       "      <td>10.34</td>\n",
       "      <td>1.66</td>\n",
       "      <td>Male</td>\n",
       "      <td>No</td>\n",
       "      <td>Sun</td>\n",
       "      <td>Dinner</td>\n",
       "      <td>3</td>\n",
       "    </tr>\n",
       "    <tr>\n",
       "      <th>2</th>\n",
       "      <td>21.01</td>\n",
       "      <td>3.50</td>\n",
       "      <td>Male</td>\n",
       "      <td>No</td>\n",
       "      <td>Sun</td>\n",
       "      <td>Dinner</td>\n",
       "      <td>3</td>\n",
       "    </tr>\n",
       "    <tr>\n",
       "      <th>3</th>\n",
       "      <td>23.68</td>\n",
       "      <td>3.31</td>\n",
       "      <td>Male</td>\n",
       "      <td>No</td>\n",
       "      <td>Sun</td>\n",
       "      <td>Dinner</td>\n",
       "      <td>2</td>\n",
       "    </tr>\n",
       "    <tr>\n",
       "      <th>4</th>\n",
       "      <td>24.59</td>\n",
       "      <td>3.61</td>\n",
       "      <td>Female</td>\n",
       "      <td>No</td>\n",
       "      <td>Sun</td>\n",
       "      <td>Dinner</td>\n",
       "      <td>4</td>\n",
       "    </tr>\n",
       "  </tbody>\n",
       "</table>\n",
       "</div>"
      ],
      "text/plain": [
       "   total_bill   tip     sex smoker  day    time  size\n",
       "0       16.99  1.01  Female     No  Sun  Dinner     2\n",
       "1       10.34  1.66    Male     No  Sun  Dinner     3\n",
       "2       21.01  3.50    Male     No  Sun  Dinner     3\n",
       "3       23.68  3.31    Male     No  Sun  Dinner     2\n",
       "4       24.59  3.61  Female     No  Sun  Dinner     4"
      ]
     },
     "execution_count": 136,
     "metadata": {},
     "output_type": "execute_result"
    }
   ],
   "source": [
    "tips.head()"
   ]
  },
  {
   "cell_type": "code",
   "execution_count": 137,
   "metadata": {},
   "outputs": [
    {
     "data": {
      "text/plain": [
       "(244, 7)"
      ]
     },
     "execution_count": 137,
     "metadata": {},
     "output_type": "execute_result"
    }
   ],
   "source": [
    "tips.shape"
   ]
  },
  {
   "cell_type": "code",
   "execution_count": 138,
   "metadata": {},
   "outputs": [
    {
     "data": {
      "text/html": [
       "<div>\n",
       "<style scoped>\n",
       "    .dataframe tbody tr th:only-of-type {\n",
       "        vertical-align: middle;\n",
       "    }\n",
       "\n",
       "    .dataframe tbody tr th {\n",
       "        vertical-align: top;\n",
       "    }\n",
       "\n",
       "    .dataframe thead th {\n",
       "        text-align: right;\n",
       "    }\n",
       "</style>\n",
       "<table border=\"1\" class=\"dataframe\">\n",
       "  <thead>\n",
       "    <tr style=\"text-align: right;\">\n",
       "      <th></th>\n",
       "      <th>total_bill</th>\n",
       "      <th>tip</th>\n",
       "      <th>size</th>\n",
       "    </tr>\n",
       "  </thead>\n",
       "  <tbody>\n",
       "    <tr>\n",
       "      <th>count</th>\n",
       "      <td>244.000000</td>\n",
       "      <td>244.000000</td>\n",
       "      <td>244.000000</td>\n",
       "    </tr>\n",
       "    <tr>\n",
       "      <th>mean</th>\n",
       "      <td>19.785943</td>\n",
       "      <td>2.998279</td>\n",
       "      <td>2.569672</td>\n",
       "    </tr>\n",
       "    <tr>\n",
       "      <th>std</th>\n",
       "      <td>8.902412</td>\n",
       "      <td>1.383638</td>\n",
       "      <td>0.951100</td>\n",
       "    </tr>\n",
       "    <tr>\n",
       "      <th>min</th>\n",
       "      <td>3.070000</td>\n",
       "      <td>1.000000</td>\n",
       "      <td>1.000000</td>\n",
       "    </tr>\n",
       "    <tr>\n",
       "      <th>25%</th>\n",
       "      <td>13.347500</td>\n",
       "      <td>2.000000</td>\n",
       "      <td>2.000000</td>\n",
       "    </tr>\n",
       "    <tr>\n",
       "      <th>50%</th>\n",
       "      <td>17.795000</td>\n",
       "      <td>2.900000</td>\n",
       "      <td>2.000000</td>\n",
       "    </tr>\n",
       "    <tr>\n",
       "      <th>75%</th>\n",
       "      <td>24.127500</td>\n",
       "      <td>3.562500</td>\n",
       "      <td>3.000000</td>\n",
       "    </tr>\n",
       "    <tr>\n",
       "      <th>max</th>\n",
       "      <td>50.810000</td>\n",
       "      <td>10.000000</td>\n",
       "      <td>6.000000</td>\n",
       "    </tr>\n",
       "  </tbody>\n",
       "</table>\n",
       "</div>"
      ],
      "text/plain": [
       "       total_bill         tip        size\n",
       "count  244.000000  244.000000  244.000000\n",
       "mean    19.785943    2.998279    2.569672\n",
       "std      8.902412    1.383638    0.951100\n",
       "min      3.070000    1.000000    1.000000\n",
       "25%     13.347500    2.000000    2.000000\n",
       "50%     17.795000    2.900000    2.000000\n",
       "75%     24.127500    3.562500    3.000000\n",
       "max     50.810000   10.000000    6.000000"
      ]
     },
     "execution_count": 138,
     "metadata": {},
     "output_type": "execute_result"
    }
   ],
   "source": [
    "tips.describe()"
   ]
  },
  {
   "cell_type": "code",
   "execution_count": 139,
   "metadata": {},
   "outputs": [
    {
     "data": {
      "text/plain": [
       "count      244\n",
       "unique       2\n",
       "top       Male\n",
       "freq       157\n",
       "Name: sex, dtype: object"
      ]
     },
     "execution_count": 139,
     "metadata": {},
     "output_type": "execute_result"
    }
   ],
   "source": [
    "tips['sex'].describe()"
   ]
  },
  {
   "cell_type": "code",
   "execution_count": 140,
   "metadata": {},
   "outputs": [
    {
     "data": {
      "text/plain": [
       "['Female', 'Male']\n",
       "Categories (2, object): ['Female', 'Male']"
      ]
     },
     "execution_count": 140,
     "metadata": {},
     "output_type": "execute_result"
    }
   ],
   "source": [
    "tips['sex'].unique()"
   ]
  },
  {
   "cell_type": "code",
   "execution_count": 141,
   "metadata": {},
   "outputs": [
    {
     "data": {
      "text/plain": [
       "Male      157\n",
       "Female     87\n",
       "Name: sex, dtype: int64"
      ]
     },
     "execution_count": 141,
     "metadata": {},
     "output_type": "execute_result"
    }
   ],
   "source": [
    "tips['sex'].value_counts()"
   ]
  },
  {
   "cell_type": "code",
   "execution_count": 142,
   "metadata": {},
   "outputs": [
    {
     "name": "stderr",
     "output_type": "stream",
     "text": [
      "C:\\Users\\Sony\\AppData\\Roaming\\Python\\Python37\\site-packages\\seaborn\\distributions.py:2551: FutureWarning: `distplot` is a deprecated function and will be removed in a future version. Please adapt your code to use either `displot` (a figure-level function with similar flexibility) or `histplot` (an axes-level function for histograms).\n",
      "  warnings.warn(msg, FutureWarning)\n"
     ]
    },
    {
     "data": {
      "image/png": "[encoded data removed]",
      "text/plain": [
       "<Figure size 432x288 with 1 Axes>"
      ]
     },
     "metadata": {
      "needs_background": "light"
     },
     "output_type": "display_data"
    }
   ],
   "source": [
    "# distplot shows the distribution of a Univariate set of observations\n",
    "\n",
    "sns.distplot( tips['total_bill'] );"
   ]
  },
  {
   "cell_type": "raw",
   "metadata": {},
   "source": [
    "Most of the total bills are between $10 and $20"
   ]
  },
  {
   "cell_type": "code",
   "execution_count": 143,
   "metadata": {},
   "outputs": [],
   "source": [
    "# pairplot()\n",
    "# It plots the pairwise relationships across an entire dataframe.\n",
    "# But, this is done only for the Numerical columns."
   ]
  },
  {
   "cell_type": "code",
   "execution_count": 144,
   "metadata": {},
   "outputs": [
    {
     "data": {
      "image/png": "[encoded data removed]",
      "text/plain": [
       "<Figure size 540x540 with 12 Axes>"
      ]
     },
     "metadata": {
      "needs_background": "light"
     },
     "output_type": "display_data"
    }
   ],
   "source": [
    "sns.pairplot(tips);"
   ]
  },
  {
   "cell_type": "code",
   "execution_count": 145,
   "metadata": {},
   "outputs": [
    {
     "data": {
      "text/plain": [
       "Index(['total_bill', 'tip', 'size'], dtype='object')"
      ]
     },
     "execution_count": 145,
     "metadata": {},
     "output_type": "execute_result"
    }
   ],
   "source": [
    "tips.describe().columns"
   ]
  },
  {
   "cell_type": "code",
   "execution_count": 146,
   "metadata": {},
   "outputs": [
    {
     "data": {
      "image/png": "[encoded data removed]",
      "text/plain": [
       "<Figure size 432x288 with 1 Axes>"
      ]
     },
     "metadata": {
      "needs_background": "light"
     },
     "output_type": "display_data"
    }
   ],
   "source": [
    "# barplot()\n",
    "\n",
    "sns.barplot(x='sex', y='total_bill', data=tips);"
   ]
  },
  {
   "cell_type": "code",
   "execution_count": 147,
   "metadata": {},
   "outputs": [
    {
     "data": {
      "image/png": "[encoded data removed]",
      "text/plain": [
       "<Figure size 432x288 with 1 Axes>"
      ]
     },
     "metadata": {
      "needs_background": "light"
     },
     "output_type": "display_data"
    }
   ],
   "source": [
    "# barplot()\n",
    "\n",
    "sns.barplot(x='sex', y='tip', data=tips);"
   ]
  },
  {
   "cell_type": "code",
   "execution_count": 148,
   "metadata": {},
   "outputs": [
    {
     "data": {
      "image/png": "[encoded data removed]",
      "text/plain": [
       "<Figure size 432x288 with 1 Axes>"
      ]
     },
     "metadata": {
      "needs_background": "light"
     },
     "output_type": "display_data"
    }
   ],
   "source": [
    "# barplot()\n",
    "import matplotlib.pyplot as plt\n",
    "sns.barplot(x='sex', y='tip', data=tips)\n",
    "plt.xticks(rotation=70);"
   ]
  },
  {
   "cell_type": "raw",
   "metadata": {},
   "source": [
    "boxplot()\n",
    "\n",
    "It is used to show the distribution of a categorical data.\n",
    "\n",
    "It is also called as box-and-whisker plot.\n",
    "\n",
    "It helps us in identifying the outliers."
   ]
  },
  {
   "cell_type": "code",
   "execution_count": 149,
   "metadata": {},
   "outputs": [
    {
     "data": {
      "text/plain": [
       "Sat     87\n",
       "Sun     76\n",
       "Thur    62\n",
       "Fri     19\n",
       "Name: day, dtype: int64"
      ]
     },
     "execution_count": 149,
     "metadata": {},
     "output_type": "execute_result"
    }
   ],
   "source": [
    "tips['day'].value_counts()"
   ]
  },
  {
   "cell_type": "code",
   "execution_count": 150,
   "metadata": {},
   "outputs": [
    {
     "data": {
      "image/png": "[encoded data removed]",
      "text/plain": [
       "<Figure size 432x288 with 1 Axes>"
      ]
     },
     "metadata": {
      "needs_background": "light"
     },
     "output_type": "display_data"
    }
   ],
   "source": [
    "sns.boxplot(x='day', y='total_bill', data=tips);\n",
    "\n",
    "# x is categorical point\n",
    "# y is a numeric point"
   ]
  },
  {
   "cell_type": "code",
   "execution_count": 151,
   "metadata": {},
   "outputs": [
    {
     "data": {
      "text/html": [
       "<div>\n",
       "<style scoped>\n",
       "    .dataframe tbody tr th:only-of-type {\n",
       "        vertical-align: middle;\n",
       "    }\n",
       "\n",
       "    .dataframe tbody tr th {\n",
       "        vertical-align: top;\n",
       "    }\n",
       "\n",
       "    .dataframe thead th {\n",
       "        text-align: right;\n",
       "    }\n",
       "</style>\n",
       "<table border=\"1\" class=\"dataframe\">\n",
       "  <thead>\n",
       "    <tr style=\"text-align: right;\">\n",
       "      <th></th>\n",
       "      <th>Name</th>\n",
       "      <th>OverallGrade</th>\n",
       "      <th>Obedient</th>\n",
       "      <th>ResearchScore</th>\n",
       "      <th>ProjectScore</th>\n",
       "      <th>Recommend</th>\n",
       "      <th>TotalScore</th>\n",
       "    </tr>\n",
       "  </thead>\n",
       "  <tbody>\n",
       "    <tr>\n",
       "      <th>0</th>\n",
       "      <td>Henry</td>\n",
       "      <td>A</td>\n",
       "      <td>1</td>\n",
       "      <td>90</td>\n",
       "      <td>85</td>\n",
       "      <td>Yes</td>\n",
       "      <td>175</td>\n",
       "    </tr>\n",
       "    <tr>\n",
       "      <th>1</th>\n",
       "      <td>John</td>\n",
       "      <td>C</td>\n",
       "      <td>0</td>\n",
       "      <td>85</td>\n",
       "      <td>51</td>\n",
       "      <td>Yes</td>\n",
       "      <td>136</td>\n",
       "    </tr>\n",
       "    <tr>\n",
       "      <th>2</th>\n",
       "      <td>David</td>\n",
       "      <td>F</td>\n",
       "      <td>0</td>\n",
       "      <td>10</td>\n",
       "      <td>17</td>\n",
       "      <td>No</td>\n",
       "      <td>27</td>\n",
       "    </tr>\n",
       "    <tr>\n",
       "      <th>3</th>\n",
       "      <td>Holmes</td>\n",
       "      <td>B</td>\n",
       "      <td>1</td>\n",
       "      <td>75</td>\n",
       "      <td>71</td>\n",
       "      <td>No</td>\n",
       "      <td>146</td>\n",
       "    </tr>\n",
       "    <tr>\n",
       "      <th>4</th>\n",
       "      <td>Marvin</td>\n",
       "      <td>E</td>\n",
       "      <td>0</td>\n",
       "      <td>20</td>\n",
       "      <td>30</td>\n",
       "      <td>No</td>\n",
       "      <td>50</td>\n",
       "    </tr>\n",
       "    <tr>\n",
       "      <th>5</th>\n",
       "      <td>Simon</td>\n",
       "      <td>A</td>\n",
       "      <td>1</td>\n",
       "      <td>92</td>\n",
       "      <td>79</td>\n",
       "      <td>Yes</td>\n",
       "      <td>171</td>\n",
       "    </tr>\n",
       "    <tr>\n",
       "      <th>6</th>\n",
       "      <td>Robert</td>\n",
       "      <td>B</td>\n",
       "      <td>1</td>\n",
       "      <td>60</td>\n",
       "      <td>59</td>\n",
       "      <td>No</td>\n",
       "      <td>119</td>\n",
       "    </tr>\n",
       "    <tr>\n",
       "      <th>7</th>\n",
       "      <td>Trent</td>\n",
       "      <td>C</td>\n",
       "      <td>1</td>\n",
       "      <td>75</td>\n",
       "      <td>33</td>\n",
       "      <td>No</td>\n",
       "      <td>108</td>\n",
       "    </tr>\n",
       "  </tbody>\n",
       "</table>\n",
       "</div>"
      ],
      "text/plain": [
       "     Name OverallGrade  Obedient  ResearchScore  ProjectScore Recommend  \\\n",
       "0   Henry            A         1             90            85       Yes   \n",
       "1    John            C         0             85            51       Yes   \n",
       "2   David            F         0             10            17        No   \n",
       "3  Holmes            B         1             75            71        No   \n",
       "4  Marvin            E         0             20            30        No   \n",
       "5   Simon            A         1             92            79       Yes   \n",
       "6  Robert            B         1             60            59        No   \n",
       "7   Trent            C         1             75            33        No   \n",
       "\n",
       "   TotalScore  \n",
       "0         175  \n",
       "1         136  \n",
       "2          27  \n",
       "3         146  \n",
       "4          50  \n",
       "5         171  \n",
       "6         119  \n",
       "7         108  "
      ]
     },
     "execution_count": 151,
     "metadata": {},
     "output_type": "execute_result"
    }
   ],
   "source": [
    "data"
   ]
  },
  {
   "cell_type": "code",
   "execution_count": 152,
   "metadata": {},
   "outputs": [
    {
     "name": "stdout",
     "output_type": "stream",
     "text": [
      "<class 'pandas.core.frame.DataFrame'>\n",
      "RangeIndex: 8 entries, 0 to 7\n",
      "Data columns (total 7 columns):\n",
      " #   Column         Non-Null Count  Dtype \n",
      "---  ------         --------------  ----- \n",
      " 0   Name           8 non-null      object\n",
      " 1   OverallGrade   8 non-null      object\n",
      " 2   Obedient       8 non-null      int64 \n",
      " 3   ResearchScore  8 non-null      int64 \n",
      " 4   ProjectScore   8 non-null      int64 \n",
      " 5   Recommend      8 non-null      object\n",
      " 6   TotalScore     8 non-null      int64 \n",
      "dtypes: int64(4), object(3)\n",
      "memory usage: 576.0+ bytes\n"
     ]
    }
   ],
   "source": [
    "data.info()"
   ]
  },
  {
   "cell_type": "code",
   "execution_count": 153,
   "metadata": {},
   "outputs": [],
   "source": [
    "import numpy as np\n",
    "data['TotalScore'] = data['TotalScore']*np.pi"
   ]
  },
  {
   "cell_type": "code",
   "execution_count": 154,
   "metadata": {},
   "outputs": [
    {
     "data": {
      "text/html": [
       "<div>\n",
       "<style scoped>\n",
       "    .dataframe tbody tr th:only-of-type {\n",
       "        vertical-align: middle;\n",
       "    }\n",
       "\n",
       "    .dataframe tbody tr th {\n",
       "        vertical-align: top;\n",
       "    }\n",
       "\n",
       "    .dataframe thead th {\n",
       "        text-align: right;\n",
       "    }\n",
       "</style>\n",
       "<table border=\"1\" class=\"dataframe\">\n",
       "  <thead>\n",
       "    <tr style=\"text-align: right;\">\n",
       "      <th></th>\n",
       "      <th>Name</th>\n",
       "      <th>OverallGrade</th>\n",
       "      <th>Obedient</th>\n",
       "      <th>ResearchScore</th>\n",
       "      <th>ProjectScore</th>\n",
       "      <th>Recommend</th>\n",
       "      <th>TotalScore</th>\n",
       "    </tr>\n",
       "  </thead>\n",
       "  <tbody>\n",
       "    <tr>\n",
       "      <th>0</th>\n",
       "      <td>Henry</td>\n",
       "      <td>A</td>\n",
       "      <td>1</td>\n",
       "      <td>90</td>\n",
       "      <td>85</td>\n",
       "      <td>Yes</td>\n",
       "      <td>549.778714</td>\n",
       "    </tr>\n",
       "    <tr>\n",
       "      <th>1</th>\n",
       "      <td>John</td>\n",
       "      <td>C</td>\n",
       "      <td>0</td>\n",
       "      <td>85</td>\n",
       "      <td>51</td>\n",
       "      <td>Yes</td>\n",
       "      <td>427.256601</td>\n",
       "    </tr>\n",
       "    <tr>\n",
       "      <th>2</th>\n",
       "      <td>David</td>\n",
       "      <td>F</td>\n",
       "      <td>0</td>\n",
       "      <td>10</td>\n",
       "      <td>17</td>\n",
       "      <td>No</td>\n",
       "      <td>84.823002</td>\n",
       "    </tr>\n",
       "    <tr>\n",
       "      <th>3</th>\n",
       "      <td>Holmes</td>\n",
       "      <td>B</td>\n",
       "      <td>1</td>\n",
       "      <td>75</td>\n",
       "      <td>71</td>\n",
       "      <td>No</td>\n",
       "      <td>458.672527</td>\n",
       "    </tr>\n",
       "    <tr>\n",
       "      <th>4</th>\n",
       "      <td>Marvin</td>\n",
       "      <td>E</td>\n",
       "      <td>0</td>\n",
       "      <td>20</td>\n",
       "      <td>30</td>\n",
       "      <td>No</td>\n",
       "      <td>157.079633</td>\n",
       "    </tr>\n",
       "  </tbody>\n",
       "</table>\n",
       "</div>"
      ],
      "text/plain": [
       "     Name OverallGrade  Obedient  ResearchScore  ProjectScore Recommend  \\\n",
       "0   Henry            A         1             90            85       Yes   \n",
       "1    John            C         0             85            51       Yes   \n",
       "2   David            F         0             10            17        No   \n",
       "3  Holmes            B         1             75            71        No   \n",
       "4  Marvin            E         0             20            30        No   \n",
       "\n",
       "   TotalScore  \n",
       "0  549.778714  \n",
       "1  427.256601  \n",
       "2   84.823002  \n",
       "3  458.672527  \n",
       "4  157.079633  "
      ]
     },
     "execution_count": 154,
     "metadata": {},
     "output_type": "execute_result"
    }
   ],
   "source": [
    "data.head()"
   ]
  },
  {
   "cell_type": "code",
   "execution_count": 155,
   "metadata": {},
   "outputs": [
    {
     "data": {
      "text/html": [
       "<div>\n",
       "<style scoped>\n",
       "    .dataframe tbody tr th:only-of-type {\n",
       "        vertical-align: middle;\n",
       "    }\n",
       "\n",
       "    .dataframe tbody tr th {\n",
       "        vertical-align: top;\n",
       "    }\n",
       "\n",
       "    .dataframe thead th {\n",
       "        text-align: right;\n",
       "    }\n",
       "</style>\n",
       "<table border=\"1\" class=\"dataframe\">\n",
       "  <thead>\n",
       "    <tr style=\"text-align: right;\">\n",
       "      <th></th>\n",
       "      <th>Name</th>\n",
       "      <th>OverallGrade</th>\n",
       "      <th>Obedient</th>\n",
       "      <th>ResearchScore</th>\n",
       "      <th>ProjectScore</th>\n",
       "      <th>Recommend</th>\n",
       "      <th>TotalScore</th>\n",
       "    </tr>\n",
       "  </thead>\n",
       "  <tbody>\n",
       "    <tr>\n",
       "      <th>0</th>\n",
       "      <td>Henry</td>\n",
       "      <td>A</td>\n",
       "      <td>1</td>\n",
       "      <td>90</td>\n",
       "      <td>85</td>\n",
       "      <td>Yes</td>\n",
       "      <td>549.779</td>\n",
       "    </tr>\n",
       "    <tr>\n",
       "      <th>1</th>\n",
       "      <td>John</td>\n",
       "      <td>C</td>\n",
       "      <td>0</td>\n",
       "      <td>85</td>\n",
       "      <td>51</td>\n",
       "      <td>Yes</td>\n",
       "      <td>427.257</td>\n",
       "    </tr>\n",
       "    <tr>\n",
       "      <th>2</th>\n",
       "      <td>David</td>\n",
       "      <td>F</td>\n",
       "      <td>0</td>\n",
       "      <td>10</td>\n",
       "      <td>17</td>\n",
       "      <td>No</td>\n",
       "      <td>84.823</td>\n",
       "    </tr>\n",
       "    <tr>\n",
       "      <th>3</th>\n",
       "      <td>Holmes</td>\n",
       "      <td>B</td>\n",
       "      <td>1</td>\n",
       "      <td>75</td>\n",
       "      <td>71</td>\n",
       "      <td>No</td>\n",
       "      <td>458.673</td>\n",
       "    </tr>\n",
       "    <tr>\n",
       "      <th>4</th>\n",
       "      <td>Marvin</td>\n",
       "      <td>E</td>\n",
       "      <td>0</td>\n",
       "      <td>20</td>\n",
       "      <td>30</td>\n",
       "      <td>No</td>\n",
       "      <td>157.080</td>\n",
       "    </tr>\n",
       "  </tbody>\n",
       "</table>\n",
       "</div>"
      ],
      "text/plain": [
       "     Name OverallGrade  Obedient  ResearchScore  ProjectScore Recommend  \\\n",
       "0   Henry            A         1             90            85       Yes   \n",
       "1    John            C         0             85            51       Yes   \n",
       "2   David            F         0             10            17        No   \n",
       "3  Holmes            B         1             75            71        No   \n",
       "4  Marvin            E         0             20            30        No   \n",
       "\n",
       "   TotalScore  \n",
       "0     549.779  \n",
       "1     427.257  \n",
       "2      84.823  \n",
       "3     458.673  \n",
       "4     157.080  "
      ]
     },
     "execution_count": 155,
     "metadata": {},
     "output_type": "execute_result"
    }
   ],
   "source": [
    "data['TotalScore'] = round( data['TotalScore'] , 3 )\n",
    "data.head()"
   ]
  },
  {
   "cell_type": "code",
   "execution_count": null,
   "metadata": {},
   "outputs": [],
   "source": []
  }
 ],
 "metadata": {
  "kernelspec": {
   "display_name": "Python 3",
   "language": "python",
   "name": "python3"
  },
  "language_info": {
   "codemirror_mode": {
    "name": "ipython",
    "version": 3
   },
   "file_extension": ".py",
   "mimetype": "text/x-python",
   "name": "python",
   "nbconvert_exporter": "python",
   "pygments_lexer": "ipython3",
   "version": "3.7.6"
  }
 },
 "nbformat": 4,
 "nbformat_minor": 4
}
