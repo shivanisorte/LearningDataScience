{
 "cells": [
  {
   "cell_type": "markdown",
   "metadata": {},
   "source": [
    "# DAY 3"
   ]
  },
  {
   "cell_type": "markdown",
   "metadata": {},
   "source": [
    "# Question 1"
   ]
  },
  {
   "cell_type": "raw",
   "metadata": {},
   "source": [
    "Create a numpy array starting from 2 till 50 with a stepsize of 3.\n"
   ]
  },
  {
   "cell_type": "code",
   "execution_count": 3,
   "metadata": {},
   "outputs": [],
   "source": [
    "import numpy as np"
   ]
  },
  {
   "cell_type": "code",
   "execution_count": 5,
   "metadata": {},
   "outputs": [
    {
     "name": "stdout",
     "output_type": "stream",
     "text": [
      "[ 2  5  8 11 14 17 20 23 26 29 32 35 38 41 44 47]\n"
     ]
    }
   ],
   "source": [
    "a=np.arange(2,50,3)\n",
    "print(a)"
   ]
  },
  {
   "cell_type": "markdown",
   "metadata": {},
   "source": [
    "# Question 2"
   ]
  },
  {
   "cell_type": "raw",
   "metadata": {},
   "source": [
    "Accept two lists of 5 elements each from the user.\n",
    "Convert them to numpy arrays. Concatenate these arrays and print it. Also sort these arrays and print it."
   ]
  },
  {
   "cell_type": "code",
   "execution_count": 14,
   "metadata": {},
   "outputs": [
    {
     "name": "stdout",
     "output_type": "stream",
     "text": [
      "1\n",
      "2\n",
      "3\n",
      "4\n",
      "5\n",
      "1\n",
      "2\n",
      "3\n",
      "4\n",
      "5\n",
      "[1 2 3 4 5 1 2 3 4 5]\n",
      "[1 1 2 2 3 3 4 4 5 5]\n"
     ]
    }
   ],
   "source": [
    "l=[] \n",
    "m=[]\n",
    "for i in range(0, 5): \n",
    "    ele = int(input())\n",
    "    l.append(ele)\n",
    "for i in range(0, 5): \n",
    "    ele = int(input())\n",
    "    m.append(ele) \n",
    "arr1 = np.array(l)\n",
    "arr2 = np.array(m)\n",
    "arr3 = np.concatenate((arr1,arr2))\n",
    "print(arr3)\n",
    "arr4 = np.sort(arr3)\n",
    "print(arr4)"
   ]
  },
  {
   "cell_type": "markdown",
   "metadata": {},
   "source": [
    "# Question 3"
   ]
  },
  {
   "cell_type": "raw",
   "metadata": {},
   "source": [
    "Write a code snippet to find the dimensions of a ndarray and its size.\n"
   ]
  },
  {
   "cell_type": "code",
   "execution_count": 32,
   "metadata": {},
   "outputs": [
    {
     "name": "stdout",
     "output_type": "stream",
     "text": [
      "[[0.95404663 0.55520486 0.46507563 0.1392307 ]\n",
      " [0.21099839 0.11865691 0.37500324 0.50917444]\n",
      " [0.30364584 0.90493642 0.36399515 0.38615295]]\n",
      "(3, 4)\n"
     ]
    }
   ],
   "source": [
    "def code():\n",
    "    arr=np.random.rand(3,4)\n",
    "    print(arr)\n",
    "    print(arr.shape)\n",
    "code()"
   ]
  },
  {
   "cell_type": "markdown",
   "metadata": {},
   "source": [
    "# Question 4"
   ]
  },
  {
   "cell_type": "raw",
   "metadata": {},
   "source": [
    "How to convert a 1D array into a 2D array? Demonstrate with the help of a code snippet\n",
    "Hint: np.newaxis, np.expand_dims"
   ]
  },
  {
   "cell_type": "code",
   "execution_count": 30,
   "metadata": {},
   "outputs": [
    {
     "name": "stdout",
     "output_type": "stream",
     "text": [
      "1D Numpy array:\n",
      "[0 1 2 3 4 5 6 7 8 9]\n",
      "2D Numpy array:\n",
      "[[0 1 2 3 4]\n",
      " [5 6 7 8 9]]\n"
     ]
    }
   ],
   "source": [
    "arr = np.array([0, 1, 2, 3, 4, 5, 6, 7, 8, 9])\n",
    "arr_2d = np.reshape(arr, (2, 5))\n",
    "print('1D Numpy array:')\n",
    "print(arr)\n",
    "print('2D Numpy array:')\n",
    "print(arr_2d)"
   ]
  },
  {
   "cell_type": "raw",
   "metadata": {},
   "source": [
    "Using np.expand_dims"
   ]
  },
  {
   "cell_type": "code",
   "execution_count": 7,
   "metadata": {},
   "outputs": [
    {
     "name": "stdout",
     "output_type": "stream",
     "text": [
      "[[0 1 2 3 4 5 6 7 8 9]]\n",
      "\n",
      "[[0]\n",
      " [1]\n",
      " [2]\n",
      " [3]\n",
      " [4]\n",
      " [5]\n",
      " [6]\n",
      " [7]\n",
      " [8]\n",
      " [9]]\n",
      "\n",
      "[[[0]\n",
      "  [1]\n",
      "  [2]]\n",
      "\n",
      " [[3]\n",
      "  [4]\n",
      "  [5]]\n",
      "\n",
      " [[6]\n",
      "  [7]\n",
      "  [8]]]\n",
      "\n",
      "[[[[0]\n",
      "   [1]]\n",
      "\n",
      "  [[2]\n",
      "   [3]]]\n",
      "\n",
      "\n",
      " [[[4]\n",
      "   [5]]\n",
      "\n",
      "  [[6]\n",
      "   [7]]]]\n"
     ]
    }
   ],
   "source": [
    "arr = np.array([0, 1, 2, 3, 4, 5, 6, 7, 8, 9])\n",
    "print(arr[np.newaxis])\n",
    "print()\n",
    "print(np.expand_dims(arr, axis = 1) )\n",
    "print()\n",
    "arr = np.array([[0, 1, 2],[ 3, 4, 5], [6, 7, 8]])\n",
    "print(np.expand_dims(arr, axis = 2))\n",
    "print()\n",
    "arr = np.array([[[0, 1],[2, 3]],[[4, 5], [6, 7]]])\n",
    "print(np.expand_dims(arr, axis = 3))"
   ]
  },
  {
   "cell_type": "markdown",
   "metadata": {},
   "source": [
    "# Question 5"
   ]
  },
  {
   "cell_type": "raw",
   "metadata": {},
   "source": [
    "Consider two square numpy arrays. Stack them vertically and horizontally.\n",
    "Hint: Use vstack(), hstack()"
   ]
  },
  {
   "cell_type": "code",
   "execution_count": 28,
   "metadata": {},
   "outputs": [
    {
     "name": "stdout",
     "output_type": "stream",
     "text": [
      "Enter the number of rows you want- 2\n",
      "1\n",
      "1\n",
      "1\n",
      "1\n",
      "2\n",
      "2\n",
      "2\n",
      "2\n",
      "[[1 1 1 1]\n",
      " [2 2 2 2]]\n",
      "[1 1 1 1 2 2 2 2]\n"
     ]
    }
   ],
   "source": [
    "l=[]\n",
    "m=[]\n",
    "n=int(input(\"Enter the number of rows you want- \"))\n",
    "for i in range(0,n*n):\n",
    "    ele=int(input())\n",
    "    l.append(ele)\n",
    "for i in range(0,n*n):\n",
    "    ele=int(input())\n",
    "    m.append(ele)\n",
    "arr1 = np.array(l)\n",
    "arr2 = np.array(m)\n",
    "n=np.vstack((arr1,arr2))\n",
    "print(n)\n",
    "m=np.hstack((arr1,arr2))\n",
    "print(m)"
   ]
  },
  {
   "cell_type": "markdown",
   "metadata": {},
   "source": [
    "## Question 6:"
   ]
  },
  {
   "cell_type": "raw",
   "metadata": {},
   "source": [
    "How to get unique items and counts of unique items?"
   ]
  },
  {
   "cell_type": "code",
   "execution_count": 34,
   "metadata": {},
   "outputs": [
    {
     "name": "stdout",
     "output_type": "stream",
     "text": [
      "Number of elements you want to input- 4\n",
      "1\n",
      "2\n",
      "1\n",
      "3\n",
      "Originally entered list-\n",
      "[1, 2, 1, 3]\n",
      "Number of unique elements- 3\n",
      "Our list containing only unique elements-\n",
      "[1, 2, 3]\n"
     ]
    }
   ],
   "source": [
    "l = []\n",
    "n = int(input(\"Number of elements you want to input- \"))\n",
    "for i in range(0, n): \n",
    "    ele = int(input())\n",
    "    l.append(ele)\n",
    "m = [] \n",
    "for item in l: \n",
    "    if item not in m: \n",
    "        m.append(item) \n",
    "print(\"Originally entered list-\")\n",
    "print(l)\n",
    "print(\"Number of unique elements- \"+str(len(m)))\n",
    "print(\"Our list containing only unique elements-\")\n",
    "print(m)"
   ]
  }
 ],
 "metadata": {
  "kernelspec": {
   "display_name": "Python 3",
   "language": "python",
   "name": "python3"
  },
  "language_info": {
   "codemirror_mode": {
    "name": "ipython",
    "version": 3
   },
   "file_extension": ".py",
   "mimetype": "text/x-python",
   "name": "python",
   "nbconvert_exporter": "python",
   "pygments_lexer": "ipython3",
   "version": "3.7.6"
  }
 },
 "nbformat": 4,
 "nbformat_minor": 4
}
